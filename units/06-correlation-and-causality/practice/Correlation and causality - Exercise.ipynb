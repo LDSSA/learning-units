{
 "cells": [
  {
   "cell_type": "markdown",
   "metadata": {},
   "source": [
    "# Correlation and causality exercise \n",
    "\n",
    "In this exercise you will load the same dataset as you had in the examples, and will look for unexpected and interesting correlations. \n",
    "\n",
    "There are many stocks, so it isn't particularly easy to navigate, but make use of the [.corr](http://pandas.pydata.org/pandas-docs/version/0.17.1/generated/pandas.Series.corr.html) functionality in Pandas. \n",
    "\n",
    "Also, if you are feeling brave, try running a full [correlation matrix](https://pandas.pydata.org/pandas-docs/stable/generated/pandas.DataFrame.corr.html) on the entire dataset. \n",
    "\n",
    "First to get ritch pays for everyone's beers. "
   ]
  },
  {
   "cell_type": "code",
   "execution_count": null,
   "metadata": {
    "collapsed": true
   },
   "outputs": [],
   "source": []
  }
 ],
 "metadata": {
  "kernelspec": {
   "display_name": "Python 3",
   "language": "python",
   "name": "python3"
  },
  "language_info": {
   "codemirror_mode": {
    "name": "ipython",
    "version": 3
   },
   "file_extension": ".py",
   "mimetype": "text/x-python",
   "name": "python",
   "nbconvert_exporter": "python",
   "pygments_lexer": "ipython3",
   "version": "3.4.3"
  }
 },
 "nbformat": 4,
 "nbformat_minor": 2
}
