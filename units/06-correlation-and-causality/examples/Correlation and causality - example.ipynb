{
 "cells": [
  {
   "cell_type": "markdown",
   "metadata": {},
   "source": [
    "# Correlation and causality example \n",
    "\n",
    "For this example exercise, we will use a dataset with stocks from the [NYSE](http://i.giphy.com/OTg4nrmU8vkty.gif), which is mixed with some data from US airlines. \n",
    "\n",
    "We will look for some correlations, some of which will make sense, and some of which won't. \n",
    "\n",
    "Note: Please note that this isn't necessarily real stock data, it is a mix of real and synthetic data for teaching purposes. If you want to play around with real stock data there are lots of sources, google and yahoo finance are particularly use friendly. "
   ]
  },
  {
   "cell_type": "code",
   "execution_count": 34,
   "metadata": {
    "collapsed": true
   },
   "outputs": [],
   "source": [
    "# import Pandas \n",
    "import pandas as pd \n",
    "# making plots inline \n",
    "% matplotlib inline"
   ]
  },
  {
   "cell_type": "code",
   "execution_count": 35,
   "metadata": {
    "collapsed": true
   },
   "outputs": [],
   "source": [
    "# read the data (if you have any questions about these relative paths and index_col, please feel free to discuss)\n",
    "data = pd.read_csv('../data/stocks_and_airliners.csv', index_col='date')"
   ]
  },
  {
   "cell_type": "code",
   "execution_count": 36,
   "metadata": {},
   "outputs": [
    {
     "data": {
      "text/html": [
       "<div>\n",
       "<style>\n",
       "    .dataframe thead tr:only-child th {\n",
       "        text-align: right;\n",
       "    }\n",
       "\n",
       "    .dataframe thead th {\n",
       "        text-align: left;\n",
       "    }\n",
       "\n",
       "    .dataframe tbody tr th {\n",
       "        vertical-align: top;\n",
       "    }\n",
       "</style>\n",
       "<table border=\"1\" class=\"dataframe\">\n",
       "  <thead>\n",
       "    <tr style=\"text-align: right;\">\n",
       "      <th></th>\n",
       "      <th>Agilent Technologies Inc</th>\n",
       "      <th>American Airlines Group</th>\n",
       "      <th>Advance Auto Parts</th>\n",
       "      <th>Apple Inc.</th>\n",
       "      <th>AbbVie</th>\n",
       "      <th>AmerisourceBergen Corp</th>\n",
       "      <th>Abbott Laboratories</th>\n",
       "      <th>Accenture plc</th>\n",
       "      <th>Adobe Systems Inc</th>\n",
       "      <th>Analog Devices, Inc.</th>\n",
       "      <th>...</th>\n",
       "      <th>Zions Bancorp</th>\n",
       "      <th>Zoetis</th>\n",
       "      <th>ASM_Domestic</th>\n",
       "      <th>ASM_International</th>\n",
       "      <th>Flights_Domestic</th>\n",
       "      <th>Flights_International</th>\n",
       "      <th>Passengers_Domestic</th>\n",
       "      <th>Passengers_International</th>\n",
       "      <th>RPM_Domestic</th>\n",
       "      <th>RPM_International</th>\n",
       "    </tr>\n",
       "    <tr>\n",
       "      <th>date</th>\n",
       "      <th></th>\n",
       "      <th></th>\n",
       "      <th></th>\n",
       "      <th></th>\n",
       "      <th></th>\n",
       "      <th></th>\n",
       "      <th></th>\n",
       "      <th></th>\n",
       "      <th></th>\n",
       "      <th></th>\n",
       "      <th></th>\n",
       "      <th></th>\n",
       "      <th></th>\n",
       "      <th></th>\n",
       "      <th></th>\n",
       "      <th></th>\n",
       "      <th></th>\n",
       "      <th></th>\n",
       "      <th></th>\n",
       "      <th></th>\n",
       "      <th></th>\n",
       "    </tr>\n",
       "  </thead>\n",
       "  <tbody>\n",
       "    <tr>\n",
       "      <th>2010-01-31</th>\n",
       "      <td>28.030000</td>\n",
       "      <td>5.31</td>\n",
       "      <td>39.450001</td>\n",
       "      <td>192.060003</td>\n",
       "      <td>NaN</td>\n",
       "      <td>27.260000</td>\n",
       "      <td>52.939953</td>\n",
       "      <td>40.990002</td>\n",
       "      <td>32.299999</td>\n",
       "      <td>26.959999</td>\n",
       "      <td>...</td>\n",
       "      <td>18.969999</td>\n",
       "      <td>NaN</td>\n",
       "      <td>54057495</td>\n",
       "      <td>50300292</td>\n",
       "      <td>695109</td>\n",
       "      <td>108804</td>\n",
       "      <td>45501620</td>\n",
       "      <td>12393439</td>\n",
       "      <td>40482623</td>\n",
       "      <td>39252875</td>\n",
       "    </tr>\n",
       "    <tr>\n",
       "      <th>2010-02-28</th>\n",
       "      <td>31.460000</td>\n",
       "      <td>7.33</td>\n",
       "      <td>40.799999</td>\n",
       "      <td>204.619997</td>\n",
       "      <td>NaN</td>\n",
       "      <td>28.040001</td>\n",
       "      <td>54.279954</td>\n",
       "      <td>39.970001</td>\n",
       "      <td>34.650002</td>\n",
       "      <td>29.240000</td>\n",
       "      <td>...</td>\n",
       "      <td>18.540001</td>\n",
       "      <td>NaN</td>\n",
       "      <td>48005940</td>\n",
       "      <td>43683891</td>\n",
       "      <td>623211</td>\n",
       "      <td>96264</td>\n",
       "      <td>42440614</td>\n",
       "      <td>10694165</td>\n",
       "      <td>37130277</td>\n",
       "      <td>32519637</td>\n",
       "    </tr>\n",
       "    <tr>\n",
       "      <th>2010-03-31</th>\n",
       "      <td>34.390001</td>\n",
       "      <td>7.35</td>\n",
       "      <td>41.919998</td>\n",
       "      <td>235.000011</td>\n",
       "      <td>NaN</td>\n",
       "      <td>28.920000</td>\n",
       "      <td>52.679953</td>\n",
       "      <td>41.950001</td>\n",
       "      <td>35.369999</td>\n",
       "      <td>28.820000</td>\n",
       "      <td>...</td>\n",
       "      <td>21.840000</td>\n",
       "      <td>NaN</td>\n",
       "      <td>57316299</td>\n",
       "      <td>50510736</td>\n",
       "      <td>740135</td>\n",
       "      <td>111927</td>\n",
       "      <td>54424077</td>\n",
       "      <td>13279320</td>\n",
       "      <td>47794152</td>\n",
       "      <td>40651970</td>\n",
       "    </tr>\n",
       "    <tr>\n",
       "      <th>2010-04-30</th>\n",
       "      <td>36.260001</td>\n",
       "      <td>7.07</td>\n",
       "      <td>45.099998</td>\n",
       "      <td>261.090008</td>\n",
       "      <td>NaN</td>\n",
       "      <td>30.850000</td>\n",
       "      <td>51.159955</td>\n",
       "      <td>43.639999</td>\n",
       "      <td>33.599998</td>\n",
       "      <td>29.930000</td>\n",
       "      <td>...</td>\n",
       "      <td>28.730000</td>\n",
       "      <td>NaN</td>\n",
       "      <td>55496575</td>\n",
       "      <td>48768955</td>\n",
       "      <td>722797</td>\n",
       "      <td>106640</td>\n",
       "      <td>52498074</td>\n",
       "      <td>12398700</td>\n",
       "      <td>45813191</td>\n",
       "      <td>38701988</td>\n",
       "    </tr>\n",
       "    <tr>\n",
       "      <th>2010-05-31</th>\n",
       "      <td>32.360001</td>\n",
       "      <td>8.83</td>\n",
       "      <td>51.759998</td>\n",
       "      <td>256.880005</td>\n",
       "      <td>NaN</td>\n",
       "      <td>31.280001</td>\n",
       "      <td>47.559958</td>\n",
       "      <td>37.520000</td>\n",
       "      <td>32.080002</td>\n",
       "      <td>29.170000</td>\n",
       "      <td>...</td>\n",
       "      <td>23.950001</td>\n",
       "      <td>NaN</td>\n",
       "      <td>57134829</td>\n",
       "      <td>53705460</td>\n",
       "      <td>741802</td>\n",
       "      <td>110374</td>\n",
       "      <td>53842422</td>\n",
       "      <td>13380664</td>\n",
       "      <td>47140355</td>\n",
       "      <td>44079060</td>\n",
       "    </tr>\n",
       "  </tbody>\n",
       "</table>\n",
       "<p>5 rows × 509 columns</p>\n",
       "</div>"
      ],
      "text/plain": [
       "            Agilent Technologies Inc  American Airlines Group  \\\n",
       "date                                                            \n",
       "2010-01-31                 28.030000                     5.31   \n",
       "2010-02-28                 31.460000                     7.33   \n",
       "2010-03-31                 34.390001                     7.35   \n",
       "2010-04-30                 36.260001                     7.07   \n",
       "2010-05-31                 32.360001                     8.83   \n",
       "\n",
       "            Advance Auto Parts  Apple Inc.  AbbVie  AmerisourceBergen Corp  \\\n",
       "date                                                                         \n",
       "2010-01-31           39.450001  192.060003     NaN               27.260000   \n",
       "2010-02-28           40.799999  204.619997     NaN               28.040001   \n",
       "2010-03-31           41.919998  235.000011     NaN               28.920000   \n",
       "2010-04-30           45.099998  261.090008     NaN               30.850000   \n",
       "2010-05-31           51.759998  256.880005     NaN               31.280001   \n",
       "\n",
       "            Abbott Laboratories  Accenture plc  Adobe Systems Inc  \\\n",
       "date                                                                \n",
       "2010-01-31            52.939953      40.990002          32.299999   \n",
       "2010-02-28            54.279954      39.970001          34.650002   \n",
       "2010-03-31            52.679953      41.950001          35.369999   \n",
       "2010-04-30            51.159955      43.639999          33.599998   \n",
       "2010-05-31            47.559958      37.520000          32.080002   \n",
       "\n",
       "            Analog Devices, Inc.        ...          Zions Bancorp  Zoetis  \\\n",
       "date                                    ...                                  \n",
       "2010-01-31             26.959999        ...              18.969999     NaN   \n",
       "2010-02-28             29.240000        ...              18.540001     NaN   \n",
       "2010-03-31             28.820000        ...              21.840000     NaN   \n",
       "2010-04-30             29.930000        ...              28.730000     NaN   \n",
       "2010-05-31             29.170000        ...              23.950001     NaN   \n",
       "\n",
       "            ASM_Domestic  ASM_International  Flights_Domestic  \\\n",
       "date                                                            \n",
       "2010-01-31      54057495           50300292            695109   \n",
       "2010-02-28      48005940           43683891            623211   \n",
       "2010-03-31      57316299           50510736            740135   \n",
       "2010-04-30      55496575           48768955            722797   \n",
       "2010-05-31      57134829           53705460            741802   \n",
       "\n",
       "            Flights_International  Passengers_Domestic  \\\n",
       "date                                                     \n",
       "2010-01-31                 108804             45501620   \n",
       "2010-02-28                  96264             42440614   \n",
       "2010-03-31                 111927             54424077   \n",
       "2010-04-30                 106640             52498074   \n",
       "2010-05-31                 110374             53842422   \n",
       "\n",
       "            Passengers_International  RPM_Domestic  RPM_International  \n",
       "date                                                                   \n",
       "2010-01-31                  12393439      40482623           39252875  \n",
       "2010-02-28                  10694165      37130277           32519637  \n",
       "2010-03-31                  13279320      47794152           40651970  \n",
       "2010-04-30                  12398700      45813191           38701988  \n",
       "2010-05-31                  13380664      47140355           44079060  \n",
       "\n",
       "[5 rows x 509 columns]"
      ]
     },
     "execution_count": 36,
     "metadata": {},
     "output_type": "execute_result"
    }
   ],
   "source": [
    "# quick preview\n",
    "data.head()"
   ]
  },
  {
   "cell_type": "code",
   "execution_count": 37,
   "metadata": {},
   "outputs": [
    {
     "data": {
      "text/plain": [
       "Index(['Agilent Technologies Inc', 'American Airlines Group',\n",
       "       'Advance Auto Parts', 'Apple Inc.', 'AbbVie', 'AmerisourceBergen Corp',\n",
       "       'Abbott Laboratories', 'Accenture plc', 'Adobe Systems Inc',\n",
       "       'Analog Devices, Inc.',\n",
       "       ...\n",
       "       'Zions Bancorp', 'Zoetis', 'ASM_Domestic', 'ASM_International',\n",
       "       'Flights_Domestic', 'Flights_International', 'Passengers_Domestic',\n",
       "       'Passengers_International', 'RPM_Domestic', 'RPM_International'],\n",
       "      dtype='object', length=509)"
      ]
     },
     "execution_count": 37,
     "metadata": {},
     "output_type": "execute_result"
    }
   ],
   "source": [
    "# what data do we have here? \n",
    "data.columns"
   ]
  },
  {
   "cell_type": "markdown",
   "metadata": {},
   "source": [
    "Let's get an example of [pearson correlation](https://en.wikipedia.org/wiki/Pearson_correlation_coefficient), and one of [spearman correlation](https://en.wikipedia.org/wiki/Spearman%27s_rank_correlation_coefficient)"
   ]
  },
  {
   "cell_type": "code",
   "execution_count": 39,
   "metadata": {},
   "outputs": [
    {
     "data": {
      "text/plain": [
       "0.94819860996153926"
      ]
     },
     "execution_count": 39,
     "metadata": {},
     "output_type": "execute_result"
    }
   ],
   "source": [
    "# What is the pearson correlation between Accenture stock prices and Adobe stock prices? \n",
    "data['Accenture plc'].corr(data['Adobe Systems Inc'], method='pearson')"
   ]
  },
  {
   "cell_type": "code",
   "execution_count": 40,
   "metadata": {},
   "outputs": [
    {
     "data": {
      "text/plain": [
       "<matplotlib.axes._subplots.AxesSubplot at 0x1026b9b38>"
      ]
     },
     "execution_count": 40,
     "metadata": {},
     "output_type": "execute_result"
    },
    {
     "data": {
      "image/png": "[encoded data removed]",
      "text/plain": [
       "<matplotlib.figure.Figure at 0x102704e10>"
      ]
     },
     "metadata": {},
     "output_type": "display_data"
    }
   ],
   "source": [
    "data[['Accenture plc', 'Adobe Systems Inc']].plot(figsize=(16, 5))"
   ]
  },
  {
   "cell_type": "code",
   "execution_count": 46,
   "metadata": {},
   "outputs": [
    {
     "data": {
      "text/plain": [
       "0.40457833643495233"
      ]
     },
     "execution_count": 46,
     "metadata": {},
     "output_type": "execute_result"
    }
   ],
   "source": [
    "# what is the spearman correlation between American Airlines Group stock price and the number of domestic passengers?\n",
    "data['American Airlines Group'].corr(data['Passengers_Domestic'], method='spearman')\n"
   ]
  }
 ],
 "metadata": {
  "kernelspec": {
   "display_name": "Python 3",
   "language": "python",
   "name": "python3"
  },
  "language_info": {
   "codemirror_mode": {
    "name": "ipython",
    "version": 3
   },
   "file_extension": ".py",
   "mimetype": "text/x-python",
   "name": "python",
   "nbconvert_exporter": "python",
   "pygments_lexer": "ipython3",
   "version": "3.4.3"
  }
 },
 "nbformat": 4,
 "nbformat_minor": 2
}
