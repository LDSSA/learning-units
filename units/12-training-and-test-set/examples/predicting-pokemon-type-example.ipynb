{
 "cells": [
  {
   "cell_type": "markdown",
   "metadata": {},
   "source": [
    "# Predicting Pokemon Type Using Damage Stats"
   ]
  },
  {
   "cell_type": "markdown",
   "metadata": {},
   "source": [
    "Data originally from Kaggle datasets: [Pokemon with stats](https://www.kaggle.com/abcsds/pokemon)."
   ]
  },
  {
   "cell_type": "markdown",
   "metadata": {},
   "source": [
    "From Kaggle's description:\n",
    "> This data set includes 721 Pokemon, including their number, name, first and second type, and basic stats.\n",
    "\n",
    "> This are the raw attributes that are used for calculating how much damage an attack will do in the games."
   ]
  },
  {
   "cell_type": "markdown",
   "metadata": {},
   "source": [
    "![Pokemons dataset original image](assets/dataset-original.jpg)"
   ]
  },
  {
   "cell_type": "markdown",
   "metadata": {},
   "source": [
    "## 1 Imports"
   ]
  },
  {
   "cell_type": "markdown",
   "metadata": {},
   "source": [
    "Apart from the usual imports (i.e. numpy, pandas and matplotlib), we will be importing:\n",
    "\n",
    "* `accuracy_score`, `precision_score` and `recall_score` from `sklearn`'s `metrics` module, for model evaluation\n",
    "* `train_test_split`, a method from `sklearn.model_selection` that conveniently partitions the raw data into training and test sets \n",
    "* `DecisionTreeClassifier` from `sklearn.tree`, a classifier that we will use to exemplify overfitting with and without training and test split."
   ]
  },
  {
   "cell_type": "code",
   "execution_count": 166,
   "metadata": {
    "collapsed": true
   },
   "outputs": [],
   "source": [
    "import numpy  as np\n",
    "import pandas as pd\n",
    "\n",
    "% matplotlib inline\n",
    "from matplotlib import pyplot as plt\n",
    "\n",
    "from sklearn.metrics import accuracy_score, precision_score, recall_score\n",
    "from sklearn.model_selection import train_test_split\n",
    "from sklearn.tree import DecisionTreeClassifier"
   ]
  },
  {
   "cell_type": "markdown",
   "metadata": {},
   "source": [
    "## 2 About the data"
   ]
  },
  {
   "cell_type": "markdown",
   "metadata": {},
   "source": [
    "We will import the Pokemon data from the `data` folder, placed in the root directory for the unit, using the `read_csv` method from `pandas`."
   ]
  },
  {
   "cell_type": "code",
   "execution_count": 167,
   "metadata": {
    "collapsed": true
   },
   "outputs": [],
   "source": [
    "data = pd.read_csv('../data/pokemon.csv')"
   ]
  },
  {
   "cell_type": "markdown",
   "metadata": {},
   "source": [
    "For convenience, we will rename all columns to upper case, so we don't have to remember what is upper or lower case in the future."
   ]
  },
  {
   "cell_type": "code",
   "execution_count": 168,
   "metadata": {
    "collapsed": true
   },
   "outputs": [],
   "source": [
    "data.columns = data.columns.str.upper()"
   ]
  },
  {
   "cell_type": "markdown",
   "metadata": {},
   "source": [
    "We will also change the index of the dataframe to be the Pokemon's name, and we will use some magic to make names look nicer."
   ]
  },
  {
   "cell_type": "code",
   "execution_count": 169,
   "metadata": {
    "collapsed": true
   },
   "outputs": [],
   "source": [
    "data = data.set_index('NAME')\n",
    "data.index = data.index.str.replace(\".*(?=Mega|Primal|Origin|Therian|Land|Incarnate)\", \"\")\n",
    "data = data.drop(['#'], axis=1)"
   ]
  },
  {
   "cell_type": "markdown",
   "metadata": {},
   "source": [
    "We are ready to take a look at the data for the first time! \n",
    "\n",
    "Instead of simply calling `head` on the dataframe, let's precede it with `sort_values`, to get the Top 3 most powerful Pokemon in the dataset."
   ]
  },
  {
   "cell_type": "code",
   "execution_count": 170,
   "metadata": {
    "scrolled": true
   },
   "outputs": [
    {
     "data": {
      "text/html": [
       "<div>\n",
       "<table border=\"1\" class=\"dataframe\">\n",
       "  <thead>\n",
       "    <tr style=\"text-align: right;\">\n",
       "      <th></th>\n",
       "      <th>TYPE 1</th>\n",
       "      <th>TYPE 2</th>\n",
       "      <th>TOTAL</th>\n",
       "      <th>HP</th>\n",
       "      <th>ATTACK</th>\n",
       "      <th>DEFENSE</th>\n",
       "      <th>SP. ATK</th>\n",
       "      <th>SP. DEF</th>\n",
       "      <th>SPEED</th>\n",
       "      <th>GENERATION</th>\n",
       "      <th>LEGENDARY</th>\n",
       "    </tr>\n",
       "    <tr>\n",
       "      <th>NAME</th>\n",
       "      <th></th>\n",
       "      <th></th>\n",
       "      <th></th>\n",
       "      <th></th>\n",
       "      <th></th>\n",
       "      <th></th>\n",
       "      <th></th>\n",
       "      <th></th>\n",
       "      <th></th>\n",
       "      <th></th>\n",
       "      <th></th>\n",
       "    </tr>\n",
       "  </thead>\n",
       "  <tbody>\n",
       "    <tr>\n",
       "      <th>Mega Rayquaza</th>\n",
       "      <td>Dragon</td>\n",
       "      <td>Flying</td>\n",
       "      <td>780</td>\n",
       "      <td>105</td>\n",
       "      <td>180</td>\n",
       "      <td>100</td>\n",
       "      <td>180</td>\n",
       "      <td>100</td>\n",
       "      <td>115</td>\n",
       "      <td>3</td>\n",
       "      <td>True</td>\n",
       "    </tr>\n",
       "    <tr>\n",
       "      <th>Mega Mewtwo Y</th>\n",
       "      <td>Psychic</td>\n",
       "      <td>NaN</td>\n",
       "      <td>780</td>\n",
       "      <td>106</td>\n",
       "      <td>150</td>\n",
       "      <td>70</td>\n",
       "      <td>194</td>\n",
       "      <td>120</td>\n",
       "      <td>140</td>\n",
       "      <td>1</td>\n",
       "      <td>True</td>\n",
       "    </tr>\n",
       "    <tr>\n",
       "      <th>Mega Mewtwo X</th>\n",
       "      <td>Psychic</td>\n",
       "      <td>Fighting</td>\n",
       "      <td>780</td>\n",
       "      <td>106</td>\n",
       "      <td>190</td>\n",
       "      <td>100</td>\n",
       "      <td>154</td>\n",
       "      <td>100</td>\n",
       "      <td>130</td>\n",
       "      <td>1</td>\n",
       "      <td>True</td>\n",
       "    </tr>\n",
       "  </tbody>\n",
       "</table>\n",
       "</div>"
      ],
      "text/plain": [
       "                TYPE 1    TYPE 2  TOTAL   HP  ATTACK  DEFENSE  SP. ATK  \\\n",
       "NAME                                                                     \n",
       "Mega Rayquaza   Dragon    Flying    780  105     180      100      180   \n",
       "Mega Mewtwo Y  Psychic       NaN    780  106     150       70      194   \n",
       "Mega Mewtwo X  Psychic  Fighting    780  106     190      100      154   \n",
       "\n",
       "               SP. DEF  SPEED  GENERATION LEGENDARY  \n",
       "NAME                                                 \n",
       "Mega Rayquaza      100    115           3      True  \n",
       "Mega Mewtwo Y      120    140           1      True  \n",
       "Mega Mewtwo X      100    130           1      True  "
      ]
     },
     "execution_count": 170,
     "metadata": {},
     "output_type": "execute_result"
    }
   ],
   "source": [
    "most_powerful = data.sort_values('TOTAL', ascending=False)\n",
    "most_powerful.head(n=3)"
   ]
  },
  {
   "cell_type": "markdown",
   "metadata": {},
   "source": [
    "In doubt, [this](https://bulbapedia.bulbagarden.net/wiki/Rayquaza_(Pok%C3%A9mon) is a Mega Rayquaza. But what about the most powerful Pokemon by type (`Type 1`)?"
   ]
  },
  {
   "cell_type": "code",
   "execution_count": 171,
   "metadata": {},
   "outputs": [
    {
     "data": {
      "text/html": [
       "<div>\n",
       "<table border=\"1\" class=\"dataframe\">\n",
       "  <thead>\n",
       "    <tr style=\"text-align: right;\">\n",
       "      <th></th>\n",
       "      <th>TYPE 1</th>\n",
       "      <th>TYPE 2</th>\n",
       "      <th>TOTAL</th>\n",
       "      <th>HP</th>\n",
       "      <th>ATTACK</th>\n",
       "      <th>DEFENSE</th>\n",
       "      <th>SP. ATK</th>\n",
       "      <th>SP. DEF</th>\n",
       "      <th>SPEED</th>\n",
       "      <th>GENERATION</th>\n",
       "      <th>LEGENDARY</th>\n",
       "    </tr>\n",
       "    <tr>\n",
       "      <th>NAME</th>\n",
       "      <th></th>\n",
       "      <th></th>\n",
       "      <th></th>\n",
       "      <th></th>\n",
       "      <th></th>\n",
       "      <th></th>\n",
       "      <th></th>\n",
       "      <th></th>\n",
       "      <th></th>\n",
       "      <th></th>\n",
       "      <th></th>\n",
       "    </tr>\n",
       "  </thead>\n",
       "  <tbody>\n",
       "    <tr>\n",
       "      <th>Mega Rayquaza</th>\n",
       "      <td>Dragon</td>\n",
       "      <td>Flying</td>\n",
       "      <td>780</td>\n",
       "      <td>105</td>\n",
       "      <td>180</td>\n",
       "      <td>100</td>\n",
       "      <td>180</td>\n",
       "      <td>100</td>\n",
       "      <td>115</td>\n",
       "      <td>3</td>\n",
       "      <td>True</td>\n",
       "    </tr>\n",
       "    <tr>\n",
       "      <th>Mega Mewtwo Y</th>\n",
       "      <td>Psychic</td>\n",
       "      <td>NaN</td>\n",
       "      <td>780</td>\n",
       "      <td>106</td>\n",
       "      <td>150</td>\n",
       "      <td>70</td>\n",
       "      <td>194</td>\n",
       "      <td>120</td>\n",
       "      <td>140</td>\n",
       "      <td>1</td>\n",
       "      <td>True</td>\n",
       "    </tr>\n",
       "    <tr>\n",
       "      <th>Primal Kyogre</th>\n",
       "      <td>Water</td>\n",
       "      <td>NaN</td>\n",
       "      <td>770</td>\n",
       "      <td>100</td>\n",
       "      <td>150</td>\n",
       "      <td>90</td>\n",
       "      <td>180</td>\n",
       "      <td>160</td>\n",
       "      <td>90</td>\n",
       "      <td>3</td>\n",
       "      <td>True</td>\n",
       "    </tr>\n",
       "    <tr>\n",
       "      <th>Primal Groudon</th>\n",
       "      <td>Ground</td>\n",
       "      <td>Fire</td>\n",
       "      <td>770</td>\n",
       "      <td>100</td>\n",
       "      <td>180</td>\n",
       "      <td>160</td>\n",
       "      <td>150</td>\n",
       "      <td>90</td>\n",
       "      <td>90</td>\n",
       "      <td>3</td>\n",
       "      <td>True</td>\n",
       "    </tr>\n",
       "    <tr>\n",
       "      <th>Arceus</th>\n",
       "      <td>Normal</td>\n",
       "      <td>NaN</td>\n",
       "      <td>720</td>\n",
       "      <td>120</td>\n",
       "      <td>120</td>\n",
       "      <td>120</td>\n",
       "      <td>120</td>\n",
       "      <td>120</td>\n",
       "      <td>120</td>\n",
       "      <td>4</td>\n",
       "      <td>True</td>\n",
       "    </tr>\n",
       "    <tr>\n",
       "      <th>Mega Metagross</th>\n",
       "      <td>Steel</td>\n",
       "      <td>Psychic</td>\n",
       "      <td>700</td>\n",
       "      <td>80</td>\n",
       "      <td>145</td>\n",
       "      <td>150</td>\n",
       "      <td>105</td>\n",
       "      <td>110</td>\n",
       "      <td>110</td>\n",
       "      <td>3</td>\n",
       "      <td>False</td>\n",
       "    </tr>\n",
       "    <tr>\n",
       "      <th>Mega Tyranitar</th>\n",
       "      <td>Rock</td>\n",
       "      <td>Dark</td>\n",
       "      <td>700</td>\n",
       "      <td>100</td>\n",
       "      <td>164</td>\n",
       "      <td>150</td>\n",
       "      <td>95</td>\n",
       "      <td>120</td>\n",
       "      <td>71</td>\n",
       "      <td>2</td>\n",
       "      <td>False</td>\n",
       "    </tr>\n",
       "    <tr>\n",
       "      <th>Origin Forme</th>\n",
       "      <td>Ghost</td>\n",
       "      <td>Dragon</td>\n",
       "      <td>680</td>\n",
       "      <td>150</td>\n",
       "      <td>120</td>\n",
       "      <td>100</td>\n",
       "      <td>120</td>\n",
       "      <td>100</td>\n",
       "      <td>90</td>\n",
       "      <td>4</td>\n",
       "      <td>True</td>\n",
       "    </tr>\n",
       "    <tr>\n",
       "      <th>Ho-oh</th>\n",
       "      <td>Fire</td>\n",
       "      <td>Flying</td>\n",
       "      <td>680</td>\n",
       "      <td>106</td>\n",
       "      <td>130</td>\n",
       "      <td>90</td>\n",
       "      <td>110</td>\n",
       "      <td>154</td>\n",
       "      <td>90</td>\n",
       "      <td>2</td>\n",
       "      <td>True</td>\n",
       "    </tr>\n",
       "    <tr>\n",
       "      <th>Xerneas</th>\n",
       "      <td>Fairy</td>\n",
       "      <td>NaN</td>\n",
       "      <td>680</td>\n",
       "      <td>126</td>\n",
       "      <td>131</td>\n",
       "      <td>95</td>\n",
       "      <td>131</td>\n",
       "      <td>98</td>\n",
       "      <td>99</td>\n",
       "      <td>6</td>\n",
       "      <td>True</td>\n",
       "    </tr>\n",
       "    <tr>\n",
       "      <th>Yveltal</th>\n",
       "      <td>Dark</td>\n",
       "      <td>Flying</td>\n",
       "      <td>680</td>\n",
       "      <td>126</td>\n",
       "      <td>131</td>\n",
       "      <td>95</td>\n",
       "      <td>131</td>\n",
       "      <td>98</td>\n",
       "      <td>99</td>\n",
       "      <td>6</td>\n",
       "      <td>True</td>\n",
       "    </tr>\n",
       "    <tr>\n",
       "      <th>Mega Sceptile</th>\n",
       "      <td>Grass</td>\n",
       "      <td>Dragon</td>\n",
       "      <td>630</td>\n",
       "      <td>70</td>\n",
       "      <td>110</td>\n",
       "      <td>75</td>\n",
       "      <td>145</td>\n",
       "      <td>85</td>\n",
       "      <td>145</td>\n",
       "      <td>3</td>\n",
       "      <td>False</td>\n",
       "    </tr>\n",
       "    <tr>\n",
       "      <th>Mega Lucario</th>\n",
       "      <td>Fighting</td>\n",
       "      <td>Steel</td>\n",
       "      <td>625</td>\n",
       "      <td>70</td>\n",
       "      <td>145</td>\n",
       "      <td>88</td>\n",
       "      <td>140</td>\n",
       "      <td>70</td>\n",
       "      <td>112</td>\n",
       "      <td>4</td>\n",
       "      <td>False</td>\n",
       "    </tr>\n",
       "    <tr>\n",
       "      <th>Mega Ampharos</th>\n",
       "      <td>Electric</td>\n",
       "      <td>Dragon</td>\n",
       "      <td>610</td>\n",
       "      <td>90</td>\n",
       "      <td>95</td>\n",
       "      <td>105</td>\n",
       "      <td>165</td>\n",
       "      <td>110</td>\n",
       "      <td>45</td>\n",
       "      <td>2</td>\n",
       "      <td>False</td>\n",
       "    </tr>\n",
       "    <tr>\n",
       "      <th>Mega Scizor</th>\n",
       "      <td>Bug</td>\n",
       "      <td>Steel</td>\n",
       "      <td>600</td>\n",
       "      <td>70</td>\n",
       "      <td>150</td>\n",
       "      <td>140</td>\n",
       "      <td>65</td>\n",
       "      <td>100</td>\n",
       "      <td>75</td>\n",
       "      <td>2</td>\n",
       "      <td>False</td>\n",
       "    </tr>\n",
       "    <tr>\n",
       "      <th>Mega Glalie</th>\n",
       "      <td>Ice</td>\n",
       "      <td>NaN</td>\n",
       "      <td>580</td>\n",
       "      <td>80</td>\n",
       "      <td>120</td>\n",
       "      <td>80</td>\n",
       "      <td>120</td>\n",
       "      <td>80</td>\n",
       "      <td>100</td>\n",
       "      <td>3</td>\n",
       "      <td>False</td>\n",
       "    </tr>\n",
       "    <tr>\n",
       "      <th>Therian Forme</th>\n",
       "      <td>Flying</td>\n",
       "      <td>NaN</td>\n",
       "      <td>580</td>\n",
       "      <td>79</td>\n",
       "      <td>100</td>\n",
       "      <td>80</td>\n",
       "      <td>110</td>\n",
       "      <td>90</td>\n",
       "      <td>121</td>\n",
       "      <td>5</td>\n",
       "      <td>True</td>\n",
       "    </tr>\n",
       "    <tr>\n",
       "      <th>Crobat</th>\n",
       "      <td>Poison</td>\n",
       "      <td>Flying</td>\n",
       "      <td>535</td>\n",
       "      <td>85</td>\n",
       "      <td>90</td>\n",
       "      <td>80</td>\n",
       "      <td>70</td>\n",
       "      <td>80</td>\n",
       "      <td>130</td>\n",
       "      <td>2</td>\n",
       "      <td>False</td>\n",
       "    </tr>\n",
       "  </tbody>\n",
       "</table>\n",
       "</div>"
      ],
      "text/plain": [
       "                  TYPE 1   TYPE 2  TOTAL   HP  ATTACK  DEFENSE  SP. ATK  \\\n",
       "NAME                                                                      \n",
       "Mega Rayquaza     Dragon   Flying    780  105     180      100      180   \n",
       "Mega Mewtwo Y    Psychic      NaN    780  106     150       70      194   \n",
       "Primal Kyogre      Water      NaN    770  100     150       90      180   \n",
       "Primal Groudon    Ground     Fire    770  100     180      160      150   \n",
       "Arceus            Normal      NaN    720  120     120      120      120   \n",
       "Mega Metagross     Steel  Psychic    700   80     145      150      105   \n",
       "Mega Tyranitar      Rock     Dark    700  100     164      150       95   \n",
       "Origin Forme       Ghost   Dragon    680  150     120      100      120   \n",
       "Ho-oh               Fire   Flying    680  106     130       90      110   \n",
       "Xerneas            Fairy      NaN    680  126     131       95      131   \n",
       "Yveltal             Dark   Flying    680  126     131       95      131   \n",
       "Mega Sceptile      Grass   Dragon    630   70     110       75      145   \n",
       "Mega Lucario    Fighting    Steel    625   70     145       88      140   \n",
       "Mega Ampharos   Electric   Dragon    610   90      95      105      165   \n",
       "Mega Scizor          Bug    Steel    600   70     150      140       65   \n",
       "Mega Glalie          Ice      NaN    580   80     120       80      120   \n",
       "Therian Forme     Flying      NaN    580   79     100       80      110   \n",
       "Crobat            Poison   Flying    535   85      90       80       70   \n",
       "\n",
       "                SP. DEF  SPEED  GENERATION LEGENDARY  \n",
       "NAME                                                  \n",
       "Mega Rayquaza       100    115           3      True  \n",
       "Mega Mewtwo Y       120    140           1      True  \n",
       "Primal Kyogre       160     90           3      True  \n",
       "Primal Groudon       90     90           3      True  \n",
       "Arceus              120    120           4      True  \n",
       "Mega Metagross      110    110           3     False  \n",
       "Mega Tyranitar      120     71           2     False  \n",
       "Origin Forme        100     90           4      True  \n",
       "Ho-oh               154     90           2      True  \n",
       "Xerneas              98     99           6      True  \n",
       "Yveltal              98     99           6      True  \n",
       "Mega Sceptile        85    145           3     False  \n",
       "Mega Lucario         70    112           4     False  \n",
       "Mega Ampharos       110     45           2     False  \n",
       "Mega Scizor         100     75           2     False  \n",
       "Mega Glalie          80    100           3     False  \n",
       "Therian Forme        90    121           5      True  \n",
       "Crobat               80    130           2     False  "
      ]
     },
     "execution_count": 171,
     "metadata": {},
     "output_type": "execute_result"
    }
   ],
   "source": [
    "most_powerful_by_type = most_powerful.drop_duplicates(subset=['TYPE 1'], keep='first')\n",
    "most_powerful_by_type"
   ]
  },
  {
   "cell_type": "markdown",
   "metadata": {},
   "source": [
    "## 3 Pre-processing data"
   ]
  },
  {
   "cell_type": "markdown",
   "metadata": {},
   "source": [
    "We will start by selecting the features we want to use and the label.\n",
    "\n",
    "We will try to predict the Pokemon type using three main features to represent the Pokemon entity: \n",
    "\n",
    "* Attack \n",
    "* Defence\n",
    "* Speed."
   ]
  },
  {
   "cell_type": "code",
   "execution_count": 172,
   "metadata": {
    "collapsed": true
   },
   "outputs": [],
   "source": [
    "columns = ['ATTACK', 'DEFENSE', 'SPEED', 'TYPE 1']\n",
    "data_clf = data[columns]"
   ]
  },
  {
   "cell_type": "markdown",
   "metadata": {},
   "source": [
    "Now, briefly describing the raw dataset."
   ]
  },
  {
   "cell_type": "code",
   "execution_count": 173,
   "metadata": {},
   "outputs": [
    {
     "name": "stdout",
     "output_type": "stream",
     "text": [
      "The dataset contains 800 rows and 11 columns.\n",
      "The dataset columns are: ['TYPE 1' 'TYPE 2' 'TOTAL' 'HP' 'ATTACK' 'DEFENSE' 'SP. ATK' 'SP. DEF'\n",
      " 'SPEED' 'GENERATION' 'LEGENDARY'].\n"
     ]
    },
    {
     "data": {
      "text/html": [
       "<div>\n",
       "<table border=\"1\" class=\"dataframe\">\n",
       "  <thead>\n",
       "    <tr style=\"text-align: right;\">\n",
       "      <th></th>\n",
       "      <th>ATTACK</th>\n",
       "      <th>DEFENSE</th>\n",
       "      <th>SPEED</th>\n",
       "    </tr>\n",
       "  </thead>\n",
       "  <tbody>\n",
       "    <tr>\n",
       "      <th>count</th>\n",
       "      <td>800.000000</td>\n",
       "      <td>800.000000</td>\n",
       "      <td>800.000000</td>\n",
       "    </tr>\n",
       "    <tr>\n",
       "      <th>mean</th>\n",
       "      <td>79.001250</td>\n",
       "      <td>73.842500</td>\n",
       "      <td>68.277500</td>\n",
       "    </tr>\n",
       "    <tr>\n",
       "      <th>std</th>\n",
       "      <td>32.457366</td>\n",
       "      <td>31.183501</td>\n",
       "      <td>29.060474</td>\n",
       "    </tr>\n",
       "    <tr>\n",
       "      <th>min</th>\n",
       "      <td>5.000000</td>\n",
       "      <td>5.000000</td>\n",
       "      <td>5.000000</td>\n",
       "    </tr>\n",
       "    <tr>\n",
       "      <th>25%</th>\n",
       "      <td>55.000000</td>\n",
       "      <td>50.000000</td>\n",
       "      <td>45.000000</td>\n",
       "    </tr>\n",
       "    <tr>\n",
       "      <th>50%</th>\n",
       "      <td>75.000000</td>\n",
       "      <td>70.000000</td>\n",
       "      <td>65.000000</td>\n",
       "    </tr>\n",
       "    <tr>\n",
       "      <th>75%</th>\n",
       "      <td>100.000000</td>\n",
       "      <td>90.000000</td>\n",
       "      <td>90.000000</td>\n",
       "    </tr>\n",
       "    <tr>\n",
       "      <th>max</th>\n",
       "      <td>190.000000</td>\n",
       "      <td>230.000000</td>\n",
       "      <td>180.000000</td>\n",
       "    </tr>\n",
       "  </tbody>\n",
       "</table>\n",
       "</div>"
      ],
      "text/plain": [
       "           ATTACK     DEFENSE       SPEED\n",
       "count  800.000000  800.000000  800.000000\n",
       "mean    79.001250   73.842500   68.277500\n",
       "std     32.457366   31.183501   29.060474\n",
       "min      5.000000    5.000000    5.000000\n",
       "25%     55.000000   50.000000   45.000000\n",
       "50%     75.000000   70.000000   65.000000\n",
       "75%    100.000000   90.000000   90.000000\n",
       "max    190.000000  230.000000  180.000000"
      ]
     },
     "execution_count": 173,
     "metadata": {},
     "output_type": "execute_result"
    }
   ],
   "source": [
    "print(\"The dataset contains %s rows and %s columns.\" % data.shape)\n",
    "print(\"The dataset columns are: %s.\"% data.columns.values)\n",
    "data_clf.describe()"
   ]
  },
  {
   "cell_type": "markdown",
   "metadata": {},
   "source": [
    "Time to separate our features from the labels, and we're ready to train a simple model."
   ]
  },
  {
   "cell_type": "code",
   "execution_count": 174,
   "metadata": {
    "collapsed": true
   },
   "outputs": [],
   "source": [
    "X = data_clf.drop(['TYPE 1'], axis=1)\n",
    "y = data_clf['TYPE 1']"
   ]
  },
  {
   "cell_type": "markdown",
   "metadata": {},
   "source": [
    "## 3 Training and testing a model in a single dataset"
   ]
  },
  {
   "cell_type": "markdown",
   "metadata": {},
   "source": [
    "We want to use a Decision Tree classifier."
   ]
  },
  {
   "cell_type": "code",
   "execution_count": 175,
   "metadata": {
    "collapsed": true
   },
   "outputs": [],
   "source": [
    "clf = tree.DecisionTreeClassifier(random_state=0)"
   ]
  },
  {
   "cell_type": "markdown",
   "metadata": {},
   "source": [
    "Using the same dataset for training and testing our model, we get a remarkable accuracy score!"
   ]
  },
  {
   "cell_type": "code",
   "execution_count": 176,
   "metadata": {},
   "outputs": [
    {
     "name": "stdout",
     "output_type": "stream",
     "text": [
      "The accuracy score of the model is: 0.965.\n"
     ]
    },
    {
     "data": {
      "text/html": [
       "<div>\n",
       "<table border=\"1\" class=\"dataframe\">\n",
       "  <thead>\n",
       "    <tr style=\"text-align: right;\">\n",
       "      <th></th>\n",
       "      <th>TYPE 1</th>\n",
       "      <th>TYPE 2</th>\n",
       "      <th>TOTAL</th>\n",
       "      <th>HP</th>\n",
       "      <th>ATTACK</th>\n",
       "      <th>DEFENSE</th>\n",
       "      <th>SP. ATK</th>\n",
       "      <th>SP. DEF</th>\n",
       "      <th>SPEED</th>\n",
       "      <th>GENERATION</th>\n",
       "      <th>LEGENDARY</th>\n",
       "      <th>PREDICTED</th>\n",
       "    </tr>\n",
       "    <tr>\n",
       "      <th>NAME</th>\n",
       "      <th></th>\n",
       "      <th></th>\n",
       "      <th></th>\n",
       "      <th></th>\n",
       "      <th></th>\n",
       "      <th></th>\n",
       "      <th></th>\n",
       "      <th></th>\n",
       "      <th></th>\n",
       "      <th></th>\n",
       "      <th></th>\n",
       "      <th></th>\n",
       "    </tr>\n",
       "  </thead>\n",
       "  <tbody>\n",
       "    <tr>\n",
       "      <th>Golbat</th>\n",
       "      <td>Poison</td>\n",
       "      <td>Flying</td>\n",
       "      <td>455</td>\n",
       "      <td>75</td>\n",
       "      <td>80</td>\n",
       "      <td>70</td>\n",
       "      <td>65</td>\n",
       "      <td>75</td>\n",
       "      <td>90</td>\n",
       "      <td>1</td>\n",
       "      <td>False</td>\n",
       "      <td>Normal</td>\n",
       "    </tr>\n",
       "    <tr>\n",
       "      <th>Poliwrath</th>\n",
       "      <td>Water</td>\n",
       "      <td>Fighting</td>\n",
       "      <td>510</td>\n",
       "      <td>90</td>\n",
       "      <td>95</td>\n",
       "      <td>95</td>\n",
       "      <td>70</td>\n",
       "      <td>90</td>\n",
       "      <td>70</td>\n",
       "      <td>1</td>\n",
       "      <td>False</td>\n",
       "      <td>Fighting</td>\n",
       "    </tr>\n",
       "    <tr>\n",
       "      <th>Espeon</th>\n",
       "      <td>Psychic</td>\n",
       "      <td>NaN</td>\n",
       "      <td>525</td>\n",
       "      <td>65</td>\n",
       "      <td>65</td>\n",
       "      <td>60</td>\n",
       "      <td>130</td>\n",
       "      <td>95</td>\n",
       "      <td>110</td>\n",
       "      <td>2</td>\n",
       "      <td>False</td>\n",
       "      <td>Ghost</td>\n",
       "    </tr>\n",
       "    <tr>\n",
       "      <th>Grovyle</th>\n",
       "      <td>Grass</td>\n",
       "      <td>NaN</td>\n",
       "      <td>405</td>\n",
       "      <td>50</td>\n",
       "      <td>65</td>\n",
       "      <td>45</td>\n",
       "      <td>85</td>\n",
       "      <td>65</td>\n",
       "      <td>95</td>\n",
       "      <td>3</td>\n",
       "      <td>False</td>\n",
       "      <td>Bug</td>\n",
       "    </tr>\n",
       "    <tr>\n",
       "      <th>Lotad</th>\n",
       "      <td>Water</td>\n",
       "      <td>Grass</td>\n",
       "      <td>220</td>\n",
       "      <td>40</td>\n",
       "      <td>30</td>\n",
       "      <td>30</td>\n",
       "      <td>40</td>\n",
       "      <td>50</td>\n",
       "      <td>30</td>\n",
       "      <td>3</td>\n",
       "      <td>False</td>\n",
       "      <td>Grass</td>\n",
       "    </tr>\n",
       "    <tr>\n",
       "      <th>Lombre</th>\n",
       "      <td>Water</td>\n",
       "      <td>Grass</td>\n",
       "      <td>340</td>\n",
       "      <td>60</td>\n",
       "      <td>50</td>\n",
       "      <td>50</td>\n",
       "      <td>60</td>\n",
       "      <td>70</td>\n",
       "      <td>50</td>\n",
       "      <td>3</td>\n",
       "      <td>False</td>\n",
       "      <td>Ice</td>\n",
       "    </tr>\n",
       "    <tr>\n",
       "      <th>Ludicolo</th>\n",
       "      <td>Water</td>\n",
       "      <td>Grass</td>\n",
       "      <td>480</td>\n",
       "      <td>80</td>\n",
       "      <td>70</td>\n",
       "      <td>70</td>\n",
       "      <td>90</td>\n",
       "      <td>100</td>\n",
       "      <td>70</td>\n",
       "      <td>3</td>\n",
       "      <td>False</td>\n",
       "      <td>Normal</td>\n",
       "    </tr>\n",
       "    <tr>\n",
       "      <th>Nuzleaf</th>\n",
       "      <td>Grass</td>\n",
       "      <td>Dark</td>\n",
       "      <td>340</td>\n",
       "      <td>70</td>\n",
       "      <td>70</td>\n",
       "      <td>40</td>\n",
       "      <td>60</td>\n",
       "      <td>40</td>\n",
       "      <td>60</td>\n",
       "      <td>3</td>\n",
       "      <td>False</td>\n",
       "      <td>Fighting</td>\n",
       "    </tr>\n",
       "    <tr>\n",
       "      <th>Lairon</th>\n",
       "      <td>Steel</td>\n",
       "      <td>Rock</td>\n",
       "      <td>430</td>\n",
       "      <td>60</td>\n",
       "      <td>90</td>\n",
       "      <td>140</td>\n",
       "      <td>50</td>\n",
       "      <td>50</td>\n",
       "      <td>40</td>\n",
       "      <td>3</td>\n",
       "      <td>False</td>\n",
       "      <td>Bug</td>\n",
       "    </tr>\n",
       "    <tr>\n",
       "      <th>Kecleon</th>\n",
       "      <td>Normal</td>\n",
       "      <td>NaN</td>\n",
       "      <td>440</td>\n",
       "      <td>60</td>\n",
       "      <td>90</td>\n",
       "      <td>70</td>\n",
       "      <td>60</td>\n",
       "      <td>120</td>\n",
       "      <td>40</td>\n",
       "      <td>3</td>\n",
       "      <td>False</td>\n",
       "      <td>Bug</td>\n",
       "    </tr>\n",
       "  </tbody>\n",
       "</table>\n",
       "</div>"
      ],
      "text/plain": [
       "            TYPE 1    TYPE 2  TOTAL  HP  ATTACK  DEFENSE  SP. ATK  SP. DEF  \\\n",
       "NAME                                                                         \n",
       "Golbat      Poison    Flying    455  75      80       70       65       75   \n",
       "Poliwrath    Water  Fighting    510  90      95       95       70       90   \n",
       "Espeon     Psychic       NaN    525  65      65       60      130       95   \n",
       "Grovyle      Grass       NaN    405  50      65       45       85       65   \n",
       "Lotad        Water     Grass    220  40      30       30       40       50   \n",
       "Lombre       Water     Grass    340  60      50       50       60       70   \n",
       "Ludicolo     Water     Grass    480  80      70       70       90      100   \n",
       "Nuzleaf      Grass      Dark    340  70      70       40       60       40   \n",
       "Lairon       Steel      Rock    430  60      90      140       50       50   \n",
       "Kecleon     Normal       NaN    440  60      90       70       60      120   \n",
       "\n",
       "           SPEED  GENERATION LEGENDARY PREDICTED  \n",
       "NAME                                              \n",
       "Golbat        90           1     False    Normal  \n",
       "Poliwrath     70           1     False  Fighting  \n",
       "Espeon       110           2     False     Ghost  \n",
       "Grovyle       95           3     False       Bug  \n",
       "Lotad         30           3     False     Grass  \n",
       "Lombre        50           3     False       Ice  \n",
       "Ludicolo      70           3     False    Normal  \n",
       "Nuzleaf       60           3     False  Fighting  \n",
       "Lairon        40           3     False       Bug  \n",
       "Kecleon       40           3     False       Bug  "
      ]
     },
     "execution_count": 176,
     "metadata": {},
     "output_type": "execute_result"
    }
   ],
   "source": [
    "model_using_all_data = clf.fit(X, y)\n",
    "\n",
    "y_pred = model_using_all_data.predict(X)\n",
    "\n",
    "accuracy_using_all_data = accuracy_score(y, y_pred)\n",
    "print(\"The accuracy score of the model is: %s.\" % accuracy_using_all_data)\n",
    "\n",
    "results_using_all_data = data\n",
    "results_using_all_data['PREDICTED'] = y_pred\n",
    "\n",
    "failures = results_using_all_data['TYPE 1'] != results_using_all_data['PREDICTED']\n",
    "results_using_all_data[failures].head(n=10)"
   ]
  },
  {
   "cell_type": "markdown",
   "metadata": {},
   "source": [
    "## 4 Using training and test sets"
   ]
  },
  {
   "cell_type": "markdown",
   "metadata": {},
   "source": [
    "We're going to leave 20% of the total data aside for testing, that we will not use to train our model."
   ]
  },
  {
   "cell_type": "code",
   "execution_count": 177,
   "metadata": {
    "scrolled": true
   },
   "outputs": [
    {
     "name": "stdout",
     "output_type": "stream",
     "text": [
      "The training dataset contains 640 rows and 3 columns.\n",
      "The test dataset contains 160 rows and 3 columns.\n"
     ]
    }
   ],
   "source": [
    "X_train, X_test, y_train, y_test = train_test_split(X, y, test_size=0.2, random_state=0)\n",
    "\n",
    "print(\"The training dataset contains %s rows and %s columns.\" % X_train.shape)\n",
    "print(\"The test dataset contains %s rows and %s columns.\" % X_test.shape)"
   ]
  },
  {
   "cell_type": "markdown",
   "metadata": {},
   "source": [
    "Now, we will use one partition for training and the other for testing or evaluating model performance on previously unseen data."
   ]
  },
  {
   "cell_type": "code",
   "execution_count": 178,
   "metadata": {},
   "outputs": [
    {
     "name": "stdout",
     "output_type": "stream",
     "text": [
      "The accuracy score of the model for previously unseen data is: 0.1125.\n"
     ]
    }
   ],
   "source": [
    "model_using_test_data = clf.fit(X_train, y_train)\n",
    "\n",
    "y_pred = model_using_test_data.predict(X_test)\n",
    "\n",
    "accuracy_using_test_data = accuracy_score(y_test, y_pred)\n",
    "print(\"The accuracy score of the model for previously unseen data is: %s.\" % accuracy_using_test_data)"
   ]
  },
  {
   "cell_type": "markdown",
   "metadata": {},
   "source": [
    "## 5 Using train, validation and test split"
   ]
  },
  {
   "cell_type": "markdown",
   "metadata": {},
   "source": [
    "Using a test dataset, there is still the risk of overfitting on the test set. \n",
    "\n",
    "To avoid knowledge about the test set to \"leak\" into the model, we may want to hold out a validation set.\n",
    "\n",
    "To do this in a quick-and-dirty way, we can just use `train_test_split` twice:\n",
    "\n",
    "* We use 60% of the data for the training dataset, and leave 40% aside\n",
    "* We split those 40% into validation (20%) and test (20%) sets. \n",
    "\n",
    "Let's use this new set up to test the inclusion of a new feature HP, or hit points."
   ]
  },
  {
   "cell_type": "code",
   "execution_count": 179,
   "metadata": {
    "scrolled": true
   },
   "outputs": [
    {
     "name": "stdout",
     "output_type": "stream",
     "text": [
      "The training dataset contains 480 rows and 4 columns.\n",
      "The validation dataset contains 160 rows and 4 columns.\n",
      "The test dataset contains 160 rows and 4 columns.\n"
     ]
    }
   ],
   "source": [
    "columns = ['HP', 'ATTACK', 'DEFENSE', 'SPEED', 'TYPE 1']\n",
    "data_clf = data[columns]\n",
    "\n",
    "X = data_clf.drop(['TYPE 1'], axis=1)\n",
    "y = data_clf['TYPE 1']\n",
    "\n",
    "X_train, X_test, y_train, y_test = train_test_split(X, y, test_size=0.4, random_state=0)\n",
    "X_val, X_test, y_val, y_test = train_test_split(X_test, y_test, test_size=0.5, random_state=0)\n",
    "\n",
    "print(\"The training dataset contains %s rows and %s columns.\" % X_train.shape)\n",
    "print(\"The validation dataset contains %s rows and %s columns.\" % X_val.shape)\n",
    "print(\"The test dataset contains %s rows and %s columns.\" % X_test.shape)"
   ]
  },
  {
   "cell_type": "markdown",
   "metadata": {},
   "source": [
    "By partitioning our data into three sets, we drastically reduce the number of samples which can be used for training. Often times, this is not affordable.\n",
    "\n",
    "In this cases, the common approach is to use *cross-validation*, something we will talk about in one of the upcoming units.\n",
    "\n",
    "To close this example notebook, let's try to add the new feature and test it in the validation set."
   ]
  },
  {
   "cell_type": "code",
   "execution_count": 185,
   "metadata": {},
   "outputs": [
    {
     "name": "stdout",
     "output_type": "stream",
     "text": [
      "The accuracy score of the model for the training set is: 0.989583333333.\n",
      "The accuracy score of the model for the validation set is: 0.1125.\n"
     ]
    }
   ],
   "source": [
    "model_using_validation_data = clf.fit(X_train, y_train)\n",
    "\n",
    "y_pred = model_using_validation_data.predict(X_train)\n",
    "accuracy_on_training_data = accuracy_score(y_train, y_pred)\n",
    "\n",
    "print(\"The accuracy score of the model for the training set is: %s.\" % accuracy_on_training_data)\n",
    "\n",
    "y_pred = model_using_validation_data.predict(X_val)\n",
    "accuracy_on_validation_data = accuracy_score(y_val, y_pred)\n",
    "\n",
    "print(\"The accuracy score of the model for the validation set is: %s.\" % accuracy_on_validation_data)"
   ]
  },
  {
   "cell_type": "markdown",
   "metadata": {},
   "source": [
    "Adding an extra features appears to only increase our overfitting problem. In this case we would revert changes, and use the test set only for our best model.\n",
    "\n",
    "Since this is an academic example, let's test the model against our test set."
   ]
  },
  {
   "cell_type": "code",
   "execution_count": 187,
   "metadata": {},
   "outputs": [
    {
     "name": "stdout",
     "output_type": "stream",
     "text": [
      "The accuracy score of the model for the test set is: 0.1375.\n"
     ]
    }
   ],
   "source": [
    "y_pred = model_using_validation_data.predict(X_test)\n",
    "accuracy_on_validation_data = accuracy_score(y_test, y_pred)\n",
    "\n",
    "print(\"The accuracy score of the model for the test set is: %s.\" % accuracy_on_validation_data)"
   ]
  }
 ],
 "metadata": {
  "kernelspec": {
   "display_name": "Python 3",
   "language": "python",
   "name": "python3"
  },
  "language_info": {
   "codemirror_mode": {
    "name": "ipython",
    "version": 3
   },
   "file_extension": ".py",
   "mimetype": "text/x-python",
   "name": "python",
   "nbconvert_exporter": "python",
   "pygments_lexer": "ipython3",
   "version": "3.6.1"
  }
 },
 "nbformat": 4,
 "nbformat_minor": 2
}
