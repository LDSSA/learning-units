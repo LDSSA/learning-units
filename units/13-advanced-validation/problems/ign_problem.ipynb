{
 "cells": [
  {
   "cell_type": "code",
   "execution_count": 1,
   "metadata": {
    "collapsed": true
   },
   "outputs": [],
   "source": [
    "import pandas as pd"
   ]
  },
  {
   "cell_type": "markdown",
   "metadata": {},
   "source": [
    "### Check the data, deal with NaNs"
   ]
  },
  {
   "cell_type": "code",
   "execution_count": 2,
   "metadata": {
    "collapsed": false
   },
   "outputs": [],
   "source": [
    "df = pd.read_csv(\"../data/ign.csv\")"
   ]
  },
  {
   "cell_type": "code",
   "execution_count": 3,
   "metadata": {
    "collapsed": false
   },
   "outputs": [
    {
     "name": "stdout",
     "output_type": "stream",
     "text": [
      "<class 'pandas.core.frame.DataFrame'>\n",
      "RangeIndex: 18625 entries, 0 to 18624\n",
      "Data columns (total 11 columns):\n",
      "Unnamed: 0        18625 non-null int64\n",
      "score_phrase      18625 non-null object\n",
      "title             18625 non-null object\n",
      "url               18625 non-null object\n",
      "platform          18625 non-null object\n",
      "score             18625 non-null float64\n",
      "genre             18589 non-null object\n",
      "editors_choice    18625 non-null object\n",
      "release_year      18625 non-null int64\n",
      "release_month     18625 non-null int64\n",
      "release_day       18625 non-null int64\n",
      "dtypes: float64(1), int64(4), object(6)\n",
      "memory usage: 1.6+ MB\n",
      "None\n"
     ]
    }
   ],
   "source": [
    "print(df.info())"
   ]
  },
  {
   "cell_type": "code",
   "execution_count": 4,
   "metadata": {
    "collapsed": false
   },
   "outputs": [],
   "source": [
    "df = df.drop('title', axis=1)\n",
    "df = df.drop('url', axis=1)\n",
    "df = df.drop('Unnamed: 0', axis=1)\n"
   ]
  },
  {
   "cell_type": "code",
   "execution_count": 5,
   "metadata": {
    "collapsed": false
   },
   "outputs": [],
   "source": [
    "df = df.dropna()"
   ]
  },
  {
   "cell_type": "code",
   "execution_count": 6,
   "metadata": {
    "collapsed": false
   },
   "outputs": [
    {
     "name": "stdout",
     "output_type": "stream",
     "text": [
      "<class 'pandas.core.frame.DataFrame'>\n",
      "Int64Index: 18589 entries, 0 to 18624\n",
      "Data columns (total 8 columns):\n",
      "score_phrase      18589 non-null object\n",
      "platform          18589 non-null object\n",
      "score             18589 non-null float64\n",
      "genre             18589 non-null object\n",
      "editors_choice    18589 non-null object\n",
      "release_year      18589 non-null int64\n",
      "release_month     18589 non-null int64\n",
      "release_day       18589 non-null int64\n",
      "dtypes: float64(1), int64(3), object(4)\n",
      "memory usage: 1.3+ MB\n",
      "None\n"
     ]
    }
   ],
   "source": [
    "print(df.info())"
   ]
  },
  {
   "cell_type": "code",
   "execution_count": 7,
   "metadata": {
    "collapsed": false
   },
   "outputs": [
    {
     "name": "stdout",
     "output_type": "stream",
     "text": [
      "  score_phrase          platform  score       genre editors_choice  \\\n",
      "0      Amazing  PlayStation Vita    9.0  Platformer              Y   \n",
      "1      Amazing  PlayStation Vita    9.0  Platformer              Y   \n",
      "2        Great              iPad    8.5      Puzzle              N   \n",
      "3        Great          Xbox 360    8.5      Sports              N   \n",
      "4        Great     PlayStation 3    8.5      Sports              N   \n",
      "\n",
      "   release_year  release_month  release_day  \n",
      "0          2012              9           12  \n",
      "1          2012              9           12  \n",
      "2          2012              9           12  \n",
      "3          2012              9           11  \n",
      "4          2012              9           11  \n"
     ]
    }
   ],
   "source": [
    "print(df.head())"
   ]
  },
  {
   "cell_type": "markdown",
   "metadata": {},
   "source": [
    "### Encode parameters"
   ]
  },
  {
   "cell_type": "code",
   "execution_count": 8,
   "metadata": {
    "collapsed": true
   },
   "outputs": [],
   "source": [
    "from sklearn import preprocessing"
   ]
  },
  {
   "cell_type": "code",
   "execution_count": 9,
   "metadata": {
    "collapsed": false
   },
   "outputs": [
    {
     "name": "stdout",
     "output_type": "stream",
     "text": [
      "Encoded classes are: ['Amazing' 'Awful' 'Bad' 'Disaster' 'Good' 'Great' 'Masterpiece' 'Mediocre'\n",
      " 'Okay' 'Painful' 'Unbearable']\n",
      "\n",
      "Encoded classes are: ['Android' 'Arcade' 'Atari 2600' 'Atari 5200' 'Commodore 64/128'\n",
      " 'DVD / HD Video Game' 'Dreamcast' 'Dreamcast VMU' 'Game Boy'\n",
      " 'Game Boy Advance' 'Game Boy Color' 'Game.Com' 'GameCube' 'Genesis'\n",
      " 'Linux' 'Lynx' 'Macintosh' 'Master System' 'N-Gage' 'NES' 'NeoGeo'\n",
      " 'NeoGeo Pocket Color' 'New Nintendo 3DS' 'Nintendo 3DS' 'Nintendo 64'\n",
      " 'Nintendo 64DD' 'Nintendo DS' 'Nintendo DSi' 'Ouya' 'PC' 'PlayStation'\n",
      " 'PlayStation 2' 'PlayStation 3' 'PlayStation 4' 'PlayStation Portable'\n",
      " 'PlayStation Vita' 'Pocket PC' 'Saturn' 'Sega 32X' 'Sega CD' 'SteamOS'\n",
      " 'Super NES' 'TurboGrafx-16' 'TurboGrafx-CD' 'Vectrex' 'Web Games' 'Wii'\n",
      " 'Wii U' 'Windows Phone' 'Windows Surface' 'Wireless' 'WonderSwan'\n",
      " 'WonderSwan Color' 'Xbox' 'Xbox 360' 'Xbox One' 'iPad' 'iPhone' 'iPod']\n",
      "\n",
      "Encoded classes are: ['Action' 'Action, Adventure' 'Action, Compilation' 'Action, Editor'\n",
      " 'Action, Platformer' 'Action, Puzzle' 'Action, RPG' 'Action, Simulation'\n",
      " 'Action, Strategy' 'Adult, Card' 'Adventure' 'Adventure, Adult'\n",
      " 'Adventure, Adventure' 'Adventure, Compilation' 'Adventure, Episodic'\n",
      " 'Adventure, Platformer' 'Adventure, RPG' 'Baseball' 'Battle' 'Board'\n",
      " 'Board, Compilation' 'Card' 'Card, Battle' 'Card, Compilation' 'Card, RPG'\n",
      " 'Casino' 'Compilation' 'Compilation, Compilation' 'Compilation, RPG'\n",
      " 'Educational' 'Educational, Action' 'Educational, Adventure'\n",
      " 'Educational, Card' 'Educational, Productivity' 'Educational, Puzzle'\n",
      " 'Educational, Simulation' 'Educational, Trivia' 'Fighting'\n",
      " 'Fighting, Action' 'Fighting, Adventure' 'Fighting, Compilation'\n",
      " 'Fighting, RPG' 'Fighting, Simulation' 'Flight' 'Flight, Action'\n",
      " 'Flight, Racing' 'Flight, Simulation' 'Hardware' 'Hunting'\n",
      " 'Hunting, Action' 'Hunting, Simulation' 'Music' 'Music, Action'\n",
      " 'Music, Adventure' 'Music, Compilation' 'Music, Editor' 'Music, RPG'\n",
      " 'Other' 'Other, Action' 'Other, Adventure' 'Party' 'Pinball'\n",
      " 'Pinball, Compilation' 'Platformer' 'Platformer, Action'\n",
      " 'Platformer, Adventure' 'Productivity' 'Productivity, Action' 'Puzzle'\n",
      " 'Puzzle, Action' 'Puzzle, Adventure' 'Puzzle, Compilation'\n",
      " 'Puzzle, Platformer' 'Puzzle, RPG' 'Puzzle, Word Game' 'RPG' 'RPG, Action'\n",
      " 'RPG, Compilation' 'RPG, Editor' 'RPG, Simulation' 'Racing'\n",
      " 'Racing, Action' 'Racing, Compilation' 'Racing, Editor' 'Racing, Shooter'\n",
      " 'Racing, Simulation' 'Shooter' 'Shooter, Adventure'\n",
      " 'Shooter, First-Person' 'Shooter, Platformer' 'Shooter, RPG' 'Simulation'\n",
      " 'Simulation, Adventure' 'Sports' 'Sports, Action' 'Sports, Baseball'\n",
      " 'Sports, Compilation' 'Sports, Editor' 'Sports, Fighting' 'Sports, Golf'\n",
      " 'Sports, Other' 'Sports, Party' 'Sports, Racing' 'Sports, Simulation'\n",
      " 'Strategy' 'Strategy, Compilation' 'Strategy, RPG' 'Strategy, Simulation'\n",
      " 'Trivia' 'Virtual Pet' 'Wrestling' 'Wrestling, Simulation']\n",
      "\n",
      "Encoded classes are: ['N' 'Y']\n",
      "\n"
     ]
    }
   ],
   "source": [
    "le = preprocessing.LabelEncoder()\n",
    "\n",
    "for col in df.columns.values:\n",
    "    #Encode only the categorical variables\n",
    "    if df[col].dtype=='object':\n",
    "        le.fit(df[col].values)\n",
    "        print(\"Encoded classes are: {}\\n\".format(le.classes_))\n",
    "        df[col]=le.transform(df[col])\n",
    "            "
   ]
  },
  {
   "cell_type": "code",
   "execution_count": 10,
   "metadata": {
    "collapsed": false
   },
   "outputs": [
    {
     "name": "stdout",
     "output_type": "stream",
     "text": [
      "   score_phrase  platform  score  genre  editors_choice  release_year  \\\n",
      "0             0        35    9.0     63               1          2012   \n",
      "1             0        35    9.0     63               1          2012   \n",
      "2             5        56    8.5     68               0          2012   \n",
      "3             5        54    8.5     93               0          2012   \n",
      "4             5        32    8.5     93               0          2012   \n",
      "\n",
      "   release_month  release_day  \n",
      "0              9           12  \n",
      "1              9           12  \n",
      "2              9           12  \n",
      "3              9           11  \n",
      "4              9           11  \n"
     ]
    }
   ],
   "source": [
    "print(df.head())"
   ]
  },
  {
   "cell_type": "markdown",
   "metadata": {
    "collapsed": true
   },
   "source": [
    "### Tips and objectives\n",
    "\n",
    "Keep in mind that even if score_phrase would normally be the feature to predict, based on the genre of the game, the score (maybe this one has even a direct correlation?), the release year, etc. it might be more interesting to try to use another feature has label. Just use something that makes sense :)\n",
    "\n",
    "If needed, feel free to apply the knowledge you have already gathered to make changes to the dataset.\n",
    "\n",
    "The goal of this exercise is to:\n",
    "\n",
    "- Choose at least three models and use simple cross-validation. Which of the models would you implement?\n",
    "    - Hold out different percentages of data and see how that affects the results.\n",
    "- Using the same three models use k-fold cross validation. Which one has the best result?\n",
    "    - Try different values of k. How does that affect the results? Try to justify.\n",
    "    - Is it a good idea to use _leave-one-out cross-validation_ on this dataset?\n",
    "- Use random splitting. How does this affect the results?\n",
    "- Implement any type of preprocessing in cross-validation using pipeline. Think about how to do this without using this method (you don't need to implement it).\n",
    "\n",
    "It's a good idea to use a random_state equal to some integer in order to replicate results.\n",
    "\n",
    "Remember, the goal is too get acquainted with this kind of procedures. Don't stress too much with high scores. If you remember anything else you would like to try, feel free to implement it!"
   ]
  },
  {
   "cell_type": "markdown",
   "metadata": {},
   "source": [
    "### Implementations"
   ]
  },
  {
   "cell_type": "code",
   "execution_count": 11,
   "metadata": {
    "collapsed": true
   },
   "outputs": [],
   "source": [
    "# Now it's your turn"
   ]
  },
  {
   "cell_type": "code",
   "execution_count": null,
   "metadata": {
    "collapsed": true
   },
   "outputs": [],
   "source": []
  }
 ],
 "metadata": {
  "kernelspec": {
   "display_name": "Python 3",
   "language": "python",
   "name": "python3"
  },
  "language_info": {
   "codemirror_mode": {
    "name": "ipython",
    "version": 3
   },
   "file_extension": ".py",
   "mimetype": "text/x-python",
   "name": "python",
   "nbconvert_exporter": "python",
   "pygments_lexer": "ipython3",
   "version": "3.6.0"
  }
 },
 "nbformat": 4,
 "nbformat_minor": 2
}
