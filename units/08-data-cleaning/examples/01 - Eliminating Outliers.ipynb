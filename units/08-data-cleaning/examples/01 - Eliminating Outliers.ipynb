{
 "cells": [
  {
   "cell_type": "markdown",
   "metadata": {},
   "source": [
    "# 01 - Example - Eliminating Outliers\n",
    "This notebook presents how to eliminate the diagnosed outliers (in the previous Learning Unit).\n",
    "\n",
    "By: Hugo Lopes  \n",
    "Learning Unit 08"
   ]
  },
  {
   "cell_type": "markdown",
   "metadata": {},
   "source": [
    "Some inital imports:"
   ]
  },
  {
   "cell_type": "code",
   "execution_count": null,
   "metadata": {},
   "outputs": [],
   "source": [
    "import pandas as pd\n",
    "import numpy as np\n",
    "% matplotlib inline\n",
    "from matplotlib import pyplot as plt "
   ]
  },
  {
   "cell_type": "markdown",
   "metadata": {},
   "source": [
    "# Load the dataset that will be used"
   ]
  },
  {
   "cell_type": "code",
   "execution_count": null,
   "metadata": {},
   "outputs": [],
   "source": [
    "data = pd.read_csv('../data/data_with_problems.csv', index_col=0)\n",
    "print('Our dataset has %d columns (features) and %d rows (people).' % (data.shape[1], data.shape[0]))\n",
    "data.head(15)"
   ]
  },
  {
   "cell_type": "markdown",
   "metadata": {},
   "source": [
    "Let us drop the missing and duplicated values since they don't matter for now (already covered in other notebooks):"
   ]
  },
  {
   "cell_type": "code",
   "execution_count": null,
   "metadata": {},
   "outputs": [],
   "source": [
    "data = data.drop_duplicates()\n",
    "data = data.dropna()\n",
    "print('Our dataset has %d columns (features) and %d rows (people).' % (data.shape[1], data.shape[0]))"
   ]
  },
  {
   "cell_type": "markdown",
   "metadata": {},
   "source": [
    "# Dealing with outliers\n",
    "Time to deal with the issues previously found.\n"
   ]
  },
  {
   "cell_type": "markdown",
   "metadata": {},
   "source": [
    "## 1) Delete observations - use feature bounds\n",
    "The easiest way is to delete the observations (for when you know the bounds of your features). Let's use **`Age`**, since know the limits. Set the limits:"
   ]
  },
  {
   "cell_type": "code",
   "execution_count": null,
   "metadata": {},
   "outputs": [],
   "source": [
    "min_age = 0\n",
    "max_age = 117 # oldest person currently alive"
   ]
  },
  {
   "cell_type": "markdown",
   "metadata": {},
   "source": [
    "Create the mask:"
   ]
  },
  {
   "cell_type": "code",
   "execution_count": null,
   "metadata": {},
   "outputs": [],
   "source": [
    "mask_age = (data['age'] >= min_age) & (data['age'] <= max_age)\n",
    "mask_age.head(10)"
   ]
  },
  {
   "cell_type": "markdown",
   "metadata": {},
   "source": [
    "Check if some **outliers** were *caught*:"
   ]
  },
  {
   "cell_type": "code",
   "execution_count": null,
   "metadata": {},
   "outputs": [],
   "source": [
    "data[~mask_age]"
   ]
  },
  {
   "cell_type": "markdown",
   "metadata": {},
   "source": [
    "Yes! Two were found! The `mask_age` variable contains the rows we want to **keep**, i.e., the rows that meet the bounds above. So, lets drop the above 2 rows:"
   ]
  },
  {
   "cell_type": "code",
   "execution_count": null,
   "metadata": {},
   "outputs": [],
   "source": [
    "data = data[mask_age]\n",
    "print('Our dataset has %d columns (features) and %d rows (people).' % (data.shape[1], data.shape[0]))"
   ]
  },
  {
   "cell_type": "markdown",
   "metadata": {},
   "source": [
    "## 2) Create classes/bins\n",
    "Instead of having a range of values you can discretize in classes/bins. Make use of pandas' [**`qcut`**](http://pandas.pydata.org/pandas-docs/stable/generated/pandas.qcut.html): Discretize variable into equal-sized buckets. "
   ]
  },
  {
   "cell_type": "code",
   "execution_count": null,
   "metadata": {},
   "outputs": [],
   "source": [
    "data['height'].hist(bins=100)\n",
    "plt.title('Height population distribution')\n",
    "plt.xlabel('cm')\n",
    "plt.ylabel('freq')\n",
    "plt.show()"
   ]
  },
  {
   "cell_type": "markdown",
   "metadata": {},
   "source": [
    "Discretize!"
   ]
  },
  {
   "cell_type": "code",
   "execution_count": null,
   "metadata": {},
   "outputs": [],
   "source": [
    "height_bins = pd.qcut(data['height'], \n",
    "                      5, \n",
    "                      labels=['very short', 'short', 'average', 'tall', 'very tall'], \n",
    "                      retbins=True)"
   ]
  },
  {
   "cell_type": "code",
   "execution_count": null,
   "metadata": {},
   "outputs": [],
   "source": [
    "height_bins[0].head(10)"
   ]
  },
  {
   "cell_type": "markdown",
   "metadata": {},
   "source": [
    "The limits of the defined classes/bins are:"
   ]
  },
  {
   "cell_type": "code",
   "execution_count": null,
   "metadata": {},
   "outputs": [],
   "source": [
    "height_bins[1]"
   ]
  },
  {
   "cell_type": "markdown",
   "metadata": {},
   "source": [
    "We could replace the height values by the new five categories. **Nevertheless, looks like a person with 252 cm is actually an outlier** and the best would be to evaluate this value against two-standard deviations or percentile (e.g., 99%).  \n",
    "\n",
    "Lets define the height bounds according to two-standard deviations from the mean."
   ]
  },
  {
   "cell_type": "markdown",
   "metadata": {},
   "source": [
    "## 3) Delete observations - use the standard deviation"
   ]
  },
  {
   "cell_type": "code",
   "execution_count": null,
   "metadata": {},
   "outputs": [],
   "source": [
    "# Calculate the mean and standard deviation\n",
    "std_height = data['height'].std()\n",
    "mean_height = data['height'].mean()\n",
    "# The mask!\n",
    "mask_height = (data['height'] > mean_height-2*std_height) & (data['height'] < mean_height+2*std_height)\n",
    "print('Height bounds:')\n",
    "print('> Minimum accepted height: %3.1f' % (mean_height-2*std_height))\n",
    "print('> Maximum accepted height: %3.1f' % (mean_height+2*std_height))"
   ]
  },
  {
   "cell_type": "markdown",
   "metadata": {},
   "source": [
    "Which ones are **out of the bounds**?"
   ]
  },
  {
   "cell_type": "code",
   "execution_count": null,
   "metadata": {},
   "outputs": [],
   "source": [
    "data.loc[~mask_height]"
   ]
  },
  {
   "cell_type": "markdown",
   "metadata": {},
   "source": [
    "**Let's delete** these rows (`mask_height` contains the rows we want to **keep**)"
   ]
  },
  {
   "cell_type": "code",
   "execution_count": null,
   "metadata": {},
   "outputs": [],
   "source": [
    "data = data[mask_height]\n",
    "print('Our dataset has %d columns (features) and %d rows (people).' % (data.shape[1], data.shape[0]))"
   ]
  },
  {
   "cell_type": "markdown",
   "metadata": {},
   "source": [
    "#### Done! So, our **initial dataset with 200 rows** (173 rows after dropping duplicates and missing values), **ended up with 166 rows** after this data handling."
   ]
  }
 ],
 "metadata": {
  "kernelspec": {
   "display_name": "Python 3",
   "language": "python",
   "name": "python3"
  },
  "language_info": {
   "codemirror_mode": {
    "name": "ipython",
    "version": 3
   },
   "file_extension": ".py",
   "mimetype": "text/x-python",
   "name": "python",
   "nbconvert_exporter": "python",
   "pygments_lexer": "ipython3",
   "version": "3.4.4"
  }
 },
 "nbformat": 4,
 "nbformat_minor": 2
}
