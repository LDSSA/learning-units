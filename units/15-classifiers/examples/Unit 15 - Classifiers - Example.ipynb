{
 "cells": [
  {
   "cell_type": "markdown",
   "metadata": {},
   "source": [
    "# Imports"
   ]
  },
  {
   "cell_type": "code",
   "execution_count": null,
   "metadata": {
    "collapsed": true
   },
   "outputs": [],
   "source": [
    "# Import pandas and numpy\n",
    "import pandas as pd\n",
    "import numpy as np\n",
    "\n",
    "# Import the classifiers we will be using\n",
    "from sklearn.naive_bayes import GaussianNB\n",
    "from sklearn.neighbors import KNeighborsClassifier\n",
    "from sklearn.tree import DecisionTreeClassifier\n",
    "from sklearn.ensemble import RandomForestClassifier\n",
    "\n",
    "# Import train/test split function\n",
    "from sklearn.model_selection import train_test_split\n",
    "\n",
    "# Import cross validation scorer\n",
    "from sklearn.model_selection import cross_val_score\n",
    "\n",
    "# Import ROC AUC scoring function\n",
    "from sklearn.metrics import roc_auc_score"
   ]
  },
  {
   "cell_type": "markdown",
   "metadata": {},
   "source": [
    "# Read the data\n",
    "#### This a breast cancer diagnostic dataset: these features are computed from a digitized image of a fine needle aspirate (FNA) of a breast mass. \n",
    "#### \"diagnosis\" is our target: 0 for benign, 1 for malignant."
   ]
  },
  {
   "cell_type": "code",
   "execution_count": null,
   "metadata": {
    "collapsed": false
   },
   "outputs": [],
   "source": [
    "# Read in our dataset, using the parameter 'index_col' to select the index\n",
    "df =  pd.read_csv('../data/breast_cancer.csv', index_col='id')"
   ]
  },
  {
   "cell_type": "code",
   "execution_count": null,
   "metadata": {
    "collapsed": false
   },
   "outputs": [],
   "source": [
    "df.head()"
   ]
  },
  {
   "cell_type": "code",
   "execution_count": null,
   "metadata": {
    "collapsed": false
   },
   "outputs": [],
   "source": [
    "df.shape"
   ]
  },
  {
   "cell_type": "code",
   "execution_count": null,
   "metadata": {
    "collapsed": false
   },
   "outputs": [],
   "source": [
    "# Remove the target from the features\n",
    "features = df.drop(['diagnosis'], axis=1)\n",
    "# Select the target\n",
    "target = df['diagnosis']"
   ]
  },
  {
   "cell_type": "markdown",
   "metadata": {},
   "source": [
    "# Train/test split"
   ]
  },
  {
   "cell_type": "code",
   "execution_count": null,
   "metadata": {
    "collapsed": false
   },
   "outputs": [],
   "source": [
    "X_train, X_test, y_train, y_test = train_test_split(features, target, test_size=0.3, random_state=0)"
   ]
  },
  {
   "cell_type": "markdown",
   "metadata": {},
   "source": [
    "# Modelling with standard train/test split"
   ]
  },
  {
   "cell_type": "code",
   "execution_count": null,
   "metadata": {
    "collapsed": false
   },
   "outputs": [],
   "source": [
    "# Choose the model\n",
    "tree_model = DecisionTreeClassifier(random_state=0)\n",
    "\n",
    "# Fit the model\n",
    "tree_model.fit(X_train, y_train)\n",
    "\n",
    "# Make the predictions\n",
    "y_pred = tree_model.predict_proba(X_test)\n",
    "\n",
    "# Score the predictions\n",
    "score = roc_auc_score(y_test, y_pred[:,1])\n",
    "\n",
    "print(\"ROC AUC: \" + str(score))\n",
    "\n",
    "print(\"Number of mislabeled points out of a total %d points: %d\" % (y_test.shape[0],(y_test != np.round_(y_pred[:,1])).sum()))\n",
    "\n"
   ]
  },
  {
   "cell_type": "markdown",
   "metadata": {},
   "source": [
    "# Modelling with k-fold cross validation"
   ]
  },
  {
   "cell_type": "code",
   "execution_count": null,
   "metadata": {
    "collapsed": false
   },
   "outputs": [],
   "source": [
    "# Choose the classifer\n",
    "tree_model = DecisionTreeClassifier(random_state=0)\n",
    "\n",
    "# Fit, predict and score in one step!\n",
    "# The arguments, in order: \n",
    "#1. Model \n",
    "#2. Features\n",
    "#3. Target\n",
    "#4. Number of k-folds\n",
    "#5. Scoring function\n",
    "#6. Number of CPU cores to use\n",
    "score_tree_model = cross_val_score(tree_model, features, target, cv=5, scoring='roc_auc', n_jobs=-1)\n",
    "\n",
    "print(\"ROC AUC scores: \" + str(score_tree_model))\n",
    "print(\"Average ROC AUC: \" + str(score_tree_model.mean()))"
   ]
  },
  {
   "cell_type": "code",
   "execution_count": null,
   "metadata": {
    "collapsed": true
   },
   "outputs": [],
   "source": []
  }
 ],
 "metadata": {
  "kernelspec": {
   "display_name": "Python 3",
   "language": "python",
   "name": "python3"
  },
  "language_info": {
   "codemirror_mode": {
    "name": "ipython",
    "version": 3
   },
   "file_extension": ".py",
   "mimetype": "text/x-python",
   "name": "python",
   "nbconvert_exporter": "python",
   "pygments_lexer": "ipython3",
   "version": "3.6.0"
  }
 },
 "nbformat": 4,
 "nbformat_minor": 2
}
