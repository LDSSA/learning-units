{
 "cells": [
  {
   "cell_type": "markdown",
   "metadata": {},
   "source": [
    "# Imports"
   ]
  },
  {
   "cell_type": "code",
   "execution_count": 1,
   "metadata": {
    "collapsed": true
   },
   "outputs": [],
   "source": [
    "import pandas as pd\n",
    "\n",
    "# Import the classifiers we will be using\n",
    "from sklearn.naive_bayes import GaussianNB\n",
    "from sklearn.neighbors import KNeighborsClassifier\n",
    "from sklearn.tree import DecisionTreeClassifier\n",
    "from sklearn.ensemble import RandomForestClassifier\n",
    "\n",
    "# Import train/test split function\n",
    "from sklearn.model_selection import train_test_split\n",
    "\n",
    "# Import ROC AUC scoring function\n",
    "from sklearn.metrics import roc_auc_score"
   ]
  },
  {
   "cell_type": "markdown",
   "metadata": {},
   "source": [
    "# Read the data\n",
    "#### This a breast cancer diagnostic dataset: these features are computed from a digitized image of a fine needle aspirate (FNA) of a breast mass. \n",
    "#### \"Class\" is our target: 0 for benign, 1 for malignant."
   ]
  },
  {
   "cell_type": "code",
   "execution_count": 2,
   "metadata": {
    "collapsed": true
   },
   "outputs": [],
   "source": [
    "df =  pd.read_csv('data/breast-cancer-wisconsin.csv', index_col='Sample code number')"
   ]
  },
  {
   "cell_type": "code",
   "execution_count": 3,
   "metadata": {
    "collapsed": false
   },
   "outputs": [
    {
     "data": {
      "text/html": [
       "<div>\n",
       "<style>\n",
       "    .dataframe thead tr:only-child th {\n",
       "        text-align: right;\n",
       "    }\n",
       "\n",
       "    .dataframe thead th {\n",
       "        text-align: left;\n",
       "    }\n",
       "\n",
       "    .dataframe tbody tr th {\n",
       "        vertical-align: top;\n",
       "    }\n",
       "</style>\n",
       "<table border=\"1\" class=\"dataframe\">\n",
       "  <thead>\n",
       "    <tr style=\"text-align: right;\">\n",
       "      <th></th>\n",
       "      <th>Clump Thickness</th>\n",
       "      <th>Uniformity of Cell Size</th>\n",
       "      <th>Uniformity of Cell Shape</th>\n",
       "      <th>Marginal Adhesion</th>\n",
       "      <th>Single Epithelial Cell Size</th>\n",
       "      <th>Bare Nuclei</th>\n",
       "      <th>Bland Chromatin</th>\n",
       "      <th>Normal Nucleoli</th>\n",
       "      <th>Mitoses</th>\n",
       "      <th>Class</th>\n",
       "    </tr>\n",
       "    <tr>\n",
       "      <th>Sample code number</th>\n",
       "      <th></th>\n",
       "      <th></th>\n",
       "      <th></th>\n",
       "      <th></th>\n",
       "      <th></th>\n",
       "      <th></th>\n",
       "      <th></th>\n",
       "      <th></th>\n",
       "      <th></th>\n",
       "      <th></th>\n",
       "    </tr>\n",
       "  </thead>\n",
       "  <tbody>\n",
       "    <tr>\n",
       "      <th>1000025</th>\n",
       "      <td>5</td>\n",
       "      <td>1</td>\n",
       "      <td>1</td>\n",
       "      <td>1</td>\n",
       "      <td>2</td>\n",
       "      <td>1</td>\n",
       "      <td>3</td>\n",
       "      <td>1</td>\n",
       "      <td>1</td>\n",
       "      <td>0</td>\n",
       "    </tr>\n",
       "    <tr>\n",
       "      <th>1002945</th>\n",
       "      <td>5</td>\n",
       "      <td>4</td>\n",
       "      <td>4</td>\n",
       "      <td>5</td>\n",
       "      <td>7</td>\n",
       "      <td>10</td>\n",
       "      <td>3</td>\n",
       "      <td>2</td>\n",
       "      <td>1</td>\n",
       "      <td>0</td>\n",
       "    </tr>\n",
       "    <tr>\n",
       "      <th>1015425</th>\n",
       "      <td>3</td>\n",
       "      <td>1</td>\n",
       "      <td>1</td>\n",
       "      <td>1</td>\n",
       "      <td>2</td>\n",
       "      <td>2</td>\n",
       "      <td>3</td>\n",
       "      <td>1</td>\n",
       "      <td>1</td>\n",
       "      <td>0</td>\n",
       "    </tr>\n",
       "    <tr>\n",
       "      <th>1016277</th>\n",
       "      <td>6</td>\n",
       "      <td>8</td>\n",
       "      <td>8</td>\n",
       "      <td>1</td>\n",
       "      <td>3</td>\n",
       "      <td>4</td>\n",
       "      <td>3</td>\n",
       "      <td>7</td>\n",
       "      <td>1</td>\n",
       "      <td>0</td>\n",
       "    </tr>\n",
       "    <tr>\n",
       "      <th>1017023</th>\n",
       "      <td>4</td>\n",
       "      <td>1</td>\n",
       "      <td>1</td>\n",
       "      <td>3</td>\n",
       "      <td>2</td>\n",
       "      <td>1</td>\n",
       "      <td>3</td>\n",
       "      <td>1</td>\n",
       "      <td>1</td>\n",
       "      <td>0</td>\n",
       "    </tr>\n",
       "  </tbody>\n",
       "</table>\n",
       "</div>"
      ],
      "text/plain": [
       "                    Clump Thickness  Uniformity of Cell Size  \\\n",
       "Sample code number                                             \n",
       "1000025                           5                        1   \n",
       "1002945                           5                        4   \n",
       "1015425                           3                        1   \n",
       "1016277                           6                        8   \n",
       "1017023                           4                        1   \n",
       "\n",
       "                    Uniformity of Cell Shape  Marginal Adhesion  \\\n",
       "Sample code number                                                \n",
       "1000025                                    1                  1   \n",
       "1002945                                    4                  5   \n",
       "1015425                                    1                  1   \n",
       "1016277                                    8                  1   \n",
       "1017023                                    1                  3   \n",
       "\n",
       "                    Single Epithelial Cell Size  Bare Nuclei  Bland Chromatin  \\\n",
       "Sample code number                                                              \n",
       "1000025                                       2            1                3   \n",
       "1002945                                       7           10                3   \n",
       "1015425                                       2            2                3   \n",
       "1016277                                       3            4                3   \n",
       "1017023                                       2            1                3   \n",
       "\n",
       "                    Normal Nucleoli  Mitoses  Class  \n",
       "Sample code number                                   \n",
       "1000025                           1        1      0  \n",
       "1002945                           2        1      0  \n",
       "1015425                           1        1      0  \n",
       "1016277                           7        1      0  \n",
       "1017023                           1        1      0  "
      ]
     },
     "execution_count": 3,
     "metadata": {},
     "output_type": "execute_result"
    }
   ],
   "source": [
    "df.head()"
   ]
  },
  {
   "cell_type": "code",
   "execution_count": 4,
   "metadata": {
    "collapsed": false
   },
   "outputs": [
    {
     "data": {
      "text/plain": [
       "(683, 10)"
      ]
     },
     "execution_count": 4,
     "metadata": {},
     "output_type": "execute_result"
    }
   ],
   "source": [
    "df.shape"
   ]
  },
  {
   "cell_type": "markdown",
   "metadata": {},
   "source": [
    "# Dividing in two sets\n",
    "#### To have an idea of how different classifiers perform on datasets of different sizes, lets create a smaller dataset, with 100 random samples."
   ]
  },
  {
   "cell_type": "code",
   "execution_count": 5,
   "metadata": {
    "collapsed": true
   },
   "outputs": [],
   "source": [
    "df_small = df.sample(100, random_state=1)\n",
    "df_complete = df"
   ]
  },
  {
   "cell_type": "code",
   "execution_count": 6,
   "metadata": {
    "collapsed": false
   },
   "outputs": [],
   "source": [
    "# Assign the features and the target\n",
    "features_small = df_small.drop(['Class'], axis=1)\n",
    "target_small = df_small['Class']\n",
    "\n",
    "features_complete = df_complete.drop(['Class'], axis=1)\n",
    "target_complete = df_complete['Class']"
   ]
  },
  {
   "cell_type": "markdown",
   "metadata": {},
   "source": [
    "# Train/test split"
   ]
  },
  {
   "cell_type": "code",
   "execution_count": 7,
   "metadata": {
    "collapsed": false
   },
   "outputs": [],
   "source": [
    "X_train_small, X_test_small, y_train_small, y_test_small = train_test_split(features_small, target_small, test_size=0.3, random_state=1)\n",
    "\n",
    "X_train_complete, X_test_complete, y_train_complete, y_test_complete = train_test_split(features_complete, target_complete, test_size=0.3, random_state=1)"
   ]
  },
  {
   "cell_type": "markdown",
   "metadata": {},
   "source": [
    "# Modelling"
   ]
  },
  {
   "cell_type": "code",
   "execution_count": 8,
   "metadata": {
    "collapsed": false
   },
   "outputs": [
    {
     "name": "stdout",
     "output_type": "stream",
     "text": [
      "Small dataset\n",
      "ROC AUC: 0.947368421053\n",
      "Number of mislabeled points out of a total 30 points: 2\n",
      "\n",
      "Complete dataset\n",
      "ROC AUC: 0.977443609023\n",
      "Number of mislabeled points out of a total 205 points: 6\n"
     ]
    }
   ],
   "source": [
    "# Choose the classifer\n",
    "classifier = GaussianNB()\n",
    "\n",
    "# Fit the classifier\n",
    "classifier.fit(X_train_small, y_train_small)\n",
    "\n",
    "# Make the predictions\n",
    "y_pred_small = classifier.predict(X_test_small)\n",
    "\n",
    "# Score the predictions\n",
    "score_small = roc_auc_score(y_test_small, y_pred_small)\n",
    "\n",
    "print(\"Small dataset\")\n",
    "print(\"ROC AUC: \" + str(score_small))\n",
    "\n",
    "print(\"Number of mislabeled points out of a total %d points: %d\" % (y_test_small.shape[0],(y_test_small != y_pred_small).sum()) + \"\\n\")\n",
    "\n",
    "# Fit the classifier\n",
    "classifier.fit(X_train_complete, y_train_complete)\n",
    "\n",
    "# Make the predictions\n",
    "y_pred_complete = classifier.predict(X_test_complete)\n",
    "\n",
    "# Score the predictions\n",
    "score_complete = roc_auc_score(y_test_complete, y_pred_complete)\n",
    "\n",
    "print(\"Complete dataset\")\n",
    "print(\"ROC AUC: \" + str(score_complete))\n",
    "\n",
    "print(\"Number of mislabeled points out of a total %d points: %d\" % (y_test_complete.shape[0],(y_test_complete != y_pred_complete).sum()))\n"
   ]
  },
  {
   "cell_type": "code",
   "execution_count": null,
   "metadata": {
    "collapsed": true
   },
   "outputs": [],
   "source": []
  }
 ],
 "metadata": {
  "kernelspec": {
   "display_name": "Python 3",
   "language": "python",
   "name": "python3"
  },
  "language_info": {
   "codemirror_mode": {
    "name": "ipython",
    "version": 3
   },
   "file_extension": ".py",
   "mimetype": "text/x-python",
   "name": "python",
   "nbconvert_exporter": "python",
   "pygments_lexer": "ipython3",
   "version": "3.6.0"
  }
 },
 "nbformat": 4,
 "nbformat_minor": 2
}
