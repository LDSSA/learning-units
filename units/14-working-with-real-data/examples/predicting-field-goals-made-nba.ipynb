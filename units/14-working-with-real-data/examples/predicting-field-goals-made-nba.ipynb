{
 "cells": [
  {
   "cell_type": "markdown",
   "metadata": {},
   "source": [
    "# Predicting field goals made from NBA shot logs"
   ]
  },
  {
   "cell_type": "code",
   "execution_count": 318,
   "metadata": {
    "collapsed": true
   },
   "outputs": [],
   "source": [
    "import datetime as dt\n",
    "import pandas as pd \n",
    "import numpy as np \n",
    "% matplotlib inline\n",
    "from matplotlib import pyplot as plt\n",
    "import seaborn as sns"
   ]
  },
  {
   "cell_type": "markdown",
   "metadata": {},
   "source": [
    "## 1 Imports"
   ]
  },
  {
   "cell_type": "code",
   "execution_count": 319,
   "metadata": {
    "collapsed": true
   },
   "outputs": [],
   "source": [
    "data = pd.read_csv(\"../data/shot_logs.csv\")\n",
    "data.columns = data.columns.str.upper()"
   ]
  },
  {
   "cell_type": "code",
   "execution_count": 320,
   "metadata": {},
   "outputs": [
    {
     "data": {
      "text/html": [
       "<div>\n",
       "<table border=\"1\" class=\"dataframe\">\n",
       "  <thead>\n",
       "    <tr style=\"text-align: right;\">\n",
       "      <th></th>\n",
       "      <th>GAME_ID</th>\n",
       "      <th>MATCHUP</th>\n",
       "      <th>LOCATION</th>\n",
       "      <th>W</th>\n",
       "      <th>FINAL_MARGIN</th>\n",
       "      <th>SHOT_NUMBER</th>\n",
       "      <th>PERIOD</th>\n",
       "      <th>GAME_CLOCK</th>\n",
       "      <th>SHOT_CLOCK</th>\n",
       "      <th>DRIBBLES</th>\n",
       "      <th>...</th>\n",
       "      <th>SHOT_DIST</th>\n",
       "      <th>PTS_TYPE</th>\n",
       "      <th>SHOT_RESULT</th>\n",
       "      <th>CLOSEST_DEFENDER</th>\n",
       "      <th>CLOSEST_DEFENDER_PLAYER_ID</th>\n",
       "      <th>CLOSE_DEF_DIST</th>\n",
       "      <th>FGM</th>\n",
       "      <th>PTS</th>\n",
       "      <th>PLAYER_NAME</th>\n",
       "      <th>PLAYER_ID</th>\n",
       "    </tr>\n",
       "  </thead>\n",
       "  <tbody>\n",
       "    <tr>\n",
       "      <th>0</th>\n",
       "      <td>21400899</td>\n",
       "      <td>MAR 04, 2015 - CHA @ BKN</td>\n",
       "      <td>A</td>\n",
       "      <td>W</td>\n",
       "      <td>24</td>\n",
       "      <td>1</td>\n",
       "      <td>1</td>\n",
       "      <td>1:09</td>\n",
       "      <td>10.8</td>\n",
       "      <td>2</td>\n",
       "      <td>...</td>\n",
       "      <td>7.7</td>\n",
       "      <td>2</td>\n",
       "      <td>made</td>\n",
       "      <td>Anderson, Alan</td>\n",
       "      <td>101187</td>\n",
       "      <td>1.3</td>\n",
       "      <td>1</td>\n",
       "      <td>2</td>\n",
       "      <td>brian roberts</td>\n",
       "      <td>203148</td>\n",
       "    </tr>\n",
       "    <tr>\n",
       "      <th>1</th>\n",
       "      <td>21400899</td>\n",
       "      <td>MAR 04, 2015 - CHA @ BKN</td>\n",
       "      <td>A</td>\n",
       "      <td>W</td>\n",
       "      <td>24</td>\n",
       "      <td>2</td>\n",
       "      <td>1</td>\n",
       "      <td>0:14</td>\n",
       "      <td>3.4</td>\n",
       "      <td>0</td>\n",
       "      <td>...</td>\n",
       "      <td>28.2</td>\n",
       "      <td>3</td>\n",
       "      <td>missed</td>\n",
       "      <td>Bogdanovic, Bojan</td>\n",
       "      <td>202711</td>\n",
       "      <td>6.1</td>\n",
       "      <td>0</td>\n",
       "      <td>0</td>\n",
       "      <td>brian roberts</td>\n",
       "      <td>203148</td>\n",
       "    </tr>\n",
       "    <tr>\n",
       "      <th>2</th>\n",
       "      <td>21400899</td>\n",
       "      <td>MAR 04, 2015 - CHA @ BKN</td>\n",
       "      <td>A</td>\n",
       "      <td>W</td>\n",
       "      <td>24</td>\n",
       "      <td>3</td>\n",
       "      <td>1</td>\n",
       "      <td>0:00</td>\n",
       "      <td>NaN</td>\n",
       "      <td>3</td>\n",
       "      <td>...</td>\n",
       "      <td>10.1</td>\n",
       "      <td>2</td>\n",
       "      <td>missed</td>\n",
       "      <td>Bogdanovic, Bojan</td>\n",
       "      <td>202711</td>\n",
       "      <td>0.9</td>\n",
       "      <td>0</td>\n",
       "      <td>0</td>\n",
       "      <td>brian roberts</td>\n",
       "      <td>203148</td>\n",
       "    </tr>\n",
       "    <tr>\n",
       "      <th>3</th>\n",
       "      <td>21400899</td>\n",
       "      <td>MAR 04, 2015 - CHA @ BKN</td>\n",
       "      <td>A</td>\n",
       "      <td>W</td>\n",
       "      <td>24</td>\n",
       "      <td>4</td>\n",
       "      <td>2</td>\n",
       "      <td>11:47</td>\n",
       "      <td>10.3</td>\n",
       "      <td>2</td>\n",
       "      <td>...</td>\n",
       "      <td>17.2</td>\n",
       "      <td>2</td>\n",
       "      <td>missed</td>\n",
       "      <td>Brown, Markel</td>\n",
       "      <td>203900</td>\n",
       "      <td>3.4</td>\n",
       "      <td>0</td>\n",
       "      <td>0</td>\n",
       "      <td>brian roberts</td>\n",
       "      <td>203148</td>\n",
       "    </tr>\n",
       "    <tr>\n",
       "      <th>4</th>\n",
       "      <td>21400899</td>\n",
       "      <td>MAR 04, 2015 - CHA @ BKN</td>\n",
       "      <td>A</td>\n",
       "      <td>W</td>\n",
       "      <td>24</td>\n",
       "      <td>5</td>\n",
       "      <td>2</td>\n",
       "      <td>10:34</td>\n",
       "      <td>10.9</td>\n",
       "      <td>2</td>\n",
       "      <td>...</td>\n",
       "      <td>3.7</td>\n",
       "      <td>2</td>\n",
       "      <td>missed</td>\n",
       "      <td>Young, Thaddeus</td>\n",
       "      <td>201152</td>\n",
       "      <td>1.1</td>\n",
       "      <td>0</td>\n",
       "      <td>0</td>\n",
       "      <td>brian roberts</td>\n",
       "      <td>203148</td>\n",
       "    </tr>\n",
       "  </tbody>\n",
       "</table>\n",
       "<p>5 rows × 21 columns</p>\n",
       "</div>"
      ],
      "text/plain": [
       "    GAME_ID                   MATCHUP LOCATION  W  FINAL_MARGIN  SHOT_NUMBER  \\\n",
       "0  21400899  MAR 04, 2015 - CHA @ BKN        A  W            24            1   \n",
       "1  21400899  MAR 04, 2015 - CHA @ BKN        A  W            24            2   \n",
       "2  21400899  MAR 04, 2015 - CHA @ BKN        A  W            24            3   \n",
       "3  21400899  MAR 04, 2015 - CHA @ BKN        A  W            24            4   \n",
       "4  21400899  MAR 04, 2015 - CHA @ BKN        A  W            24            5   \n",
       "\n",
       "   PERIOD GAME_CLOCK  SHOT_CLOCK  DRIBBLES    ...     SHOT_DIST  PTS_TYPE  \\\n",
       "0       1       1:09        10.8         2    ...           7.7         2   \n",
       "1       1       0:14         3.4         0    ...          28.2         3   \n",
       "2       1       0:00         NaN         3    ...          10.1         2   \n",
       "3       2      11:47        10.3         2    ...          17.2         2   \n",
       "4       2      10:34        10.9         2    ...           3.7         2   \n",
       "\n",
       "   SHOT_RESULT   CLOSEST_DEFENDER CLOSEST_DEFENDER_PLAYER_ID  CLOSE_DEF_DIST  \\\n",
       "0         made     Anderson, Alan                     101187             1.3   \n",
       "1       missed  Bogdanovic, Bojan                     202711             6.1   \n",
       "2       missed  Bogdanovic, Bojan                     202711             0.9   \n",
       "3       missed      Brown, Markel                     203900             3.4   \n",
       "4       missed    Young, Thaddeus                     201152             1.1   \n",
       "\n",
       "   FGM  PTS    PLAYER_NAME PLAYER_ID  \n",
       "0    1    2  brian roberts    203148  \n",
       "1    0    0  brian roberts    203148  \n",
       "2    0    0  brian roberts    203148  \n",
       "3    0    0  brian roberts    203148  \n",
       "4    0    0  brian roberts    203148  \n",
       "\n",
       "[5 rows x 21 columns]"
      ]
     },
     "execution_count": 320,
     "metadata": {},
     "output_type": "execute_result"
    }
   ],
   "source": [
    "data.head(n=5)"
   ]
  },
  {
   "cell_type": "markdown",
   "metadata": {},
   "source": [
    "## 2 Duplicated rows"
   ]
  },
  {
   "cell_type": "markdown",
   "metadata": {},
   "source": [
    "The first thing we need to do is check the data frame for duplicated entries."
   ]
  },
  {
   "cell_type": "code",
   "execution_count": 321,
   "metadata": {},
   "outputs": [
    {
     "name": "stdout",
     "output_type": "stream",
     "text": [
      "There are 0 duplicated rows in the original dataset.\n"
     ]
    }
   ],
   "source": [
    "duplicates = data.duplicated()\n",
    "total_duplicates = sum(duplicates)\n",
    "print(\"There are %s duplicated rows in the original dataset.\" % total_duplicates)"
   ]
  },
  {
   "cell_type": "markdown",
   "metadata": {},
   "source": [
    "## 3 Duplicated features"
   ]
  },
  {
   "cell_type": "markdown",
   "metadata": {},
   "source": [
    "Surprisingly there are a lot of duplicated information in our columns.\n",
    "\n",
    "Let's start by plotting any correlations between the attributes."
   ]
  },
  {
   "cell_type": "code",
   "execution_count": 322,
   "metadata": {},
   "outputs": [
    {
     "data": {
      "image/png": "[encoded data removed]",
      "text/plain": [
       "<matplotlib.figure.Figure at 0x7fa95b649240>"
      ]
     },
     "metadata": {},
     "output_type": "display_data"
    }
   ],
   "source": [
    "correlations = data.corr()\n",
    "plt.rc('font', family='DejaVu Sans') \n",
    "plt.figure(figsize=(15, 10))\n",
    "sns.heatmap(correlations, annot=True)\n",
    "plt.show()"
   ]
  },
  {
   "cell_type": "markdown",
   "metadata": {},
   "source": [
    "In summary, we spot a bunch of features with duplicated information:\n",
    "* `SHOT_NUMBER` and `PERIOD`\n",
    "* `TOUCH_TIME` and `DRIBBLES`\n",
    "* `SHOT_DIST` and `PTS_TYPE`\n",
    "* `PTS` and `FGM`\n",
    "\n",
    "Let's not be too smart, and address this problem by removing unnecessary columns.\n",
    "\n",
    "We will also remove the `PLAYER_NAME` and `CLOSEST_DEFENDER` and keep the IDs and the `FGM` label and keep `SHOT_RESULT` for now.\n",
    "\n",
    "We will remove `W` and `FINAL_MARGIN`, as those are not known to us at the moment of the shot, and the `GAME_ID`."
   ]
  },
  {
   "cell_type": "code",
   "execution_count": 333,
   "metadata": {},
   "outputs": [
    {
     "data": {
      "image/png": "[encoded data removed]",
      "text/plain": [
       "<matplotlib.figure.Figure at 0x7fa958b4a2e8>"
      ]
     },
     "metadata": {},
     "output_type": "display_data"
    }
   ],
   "source": [
    "data_independent_features = data.drop(\n",
    "    ['PERIOD', 'DRIBBLES', 'PTS_TYPE', 'PTS', 'CLOSEST_DEFENDER', 'PLAYER_NAME', 'FGM', 'W', 'FINAL_MARGIN', 'GAME_ID'], \n",
    "    axis=1)\n",
    "correlations = data_independent_features.corr()\n",
    "plt.rc('font', family='DejaVu Sans') \n",
    "plt.figure(figsize=(15, 5))\n",
    "sns.heatmap(correlations, annot=True)\n",
    "plt.show()"
   ]
  },
  {
   "cell_type": "markdown",
   "metadata": {},
   "source": [
    "Things look much better now! Note that `CLOSE_DEF_DIST` (distance to the closest denfender) correlates with the `SHOT_DIST`, but we will keep both for now."
   ]
  },
  {
   "cell_type": "markdown",
   "metadata": {},
   "source": [
    "## 4 Missing values"
   ]
  },
  {
   "cell_type": "markdown",
   "metadata": {},
   "source": [
    "Now we will check for missing values and deal with them."
   ]
  },
  {
   "cell_type": "code",
   "execution_count": 334,
   "metadata": {},
   "outputs": [
    {
     "data": {
      "text/plain": [
       "MATCHUP                          0\n",
       "LOCATION                         0\n",
       "SHOT_NUMBER                      0\n",
       "GAME_CLOCK                       0\n",
       "SHOT_CLOCK                    5567\n",
       "TOUCH_TIME                       0\n",
       "SHOT_DIST                        0\n",
       "SHOT_RESULT                      0\n",
       "CLOSEST_DEFENDER_PLAYER_ID       0\n",
       "CLOSE_DEF_DIST                   0\n",
       "PLAYER_ID                        0\n",
       "dtype: int64"
      ]
     },
     "execution_count": 334,
     "metadata": {},
     "output_type": "execute_result"
    }
   ],
   "source": [
    "missing = data_independent_features.isnull()\n",
    "missing.sum()"
   ]
  },
  {
   "cell_type": "code",
   "execution_count": 335,
   "metadata": {},
   "outputs": [
    {
     "name": "stdout",
     "output_type": "stream",
     "text": [
      "There are 5567 observations missing SHOT_CLOCK.\n",
      "This represent 0.0434687551242 of the total samples.\n"
     ]
    }
   ],
   "source": [
    "total_missing = missing['SHOT_CLOCK'].sum()\n",
    "total_samples = len(data_independent_features['SHOT_CLOCK'])\n",
    "missing_percentage = total_missing / total_samples \n",
    "print(\"There are %s observations missing SHOT_CLOCK.\" % total_missing)\n",
    "print(\"This represent %s of the total samples.\" % missing_percentage)"
   ]
  },
  {
   "cell_type": "markdown",
   "metadata": {},
   "source": [
    "For convenience, we will simply remove these observations."
   ]
  },
  {
   "cell_type": "code",
   "execution_count": 336,
   "metadata": {},
   "outputs": [
    {
     "name": "stdout",
     "output_type": "stream",
     "text": [
      "There are 0 observations missing SHOT_CLOCK.\n"
     ]
    }
   ],
   "source": [
    "data_complete_observations = data_independent_features.dropna()\n",
    "total_missing = data_complete_observations['SHOT_CLOCK'].isnull().sum()\n",
    "print(\"There are %s observations missing SHOT_CLOCK.\" % total_missing)"
   ]
  },
  {
   "cell_type": "markdown",
   "metadata": {},
   "source": [
    "## 4 Extracting features from the `MATCHUP` column"
   ]
  },
  {
   "cell_type": "markdown",
   "metadata": {},
   "source": [
    "Let's take a closer look at the `MATCHUP` column."
   ]
  },
  {
   "cell_type": "code",
   "execution_count": 337,
   "metadata": {},
   "outputs": [
    {
     "data": {
      "text/plain": [
       "0    MAR 04, 2015 - CHA @ BKN\n",
       "1    MAR 04, 2015 - CHA @ BKN\n",
       "3    MAR 04, 2015 - CHA @ BKN\n",
       "4    MAR 04, 2015 - CHA @ BKN\n",
       "5    MAR 04, 2015 - CHA @ BKN\n",
       "Name: MATCHUP, dtype: object"
      ]
     },
     "execution_count": 337,
     "metadata": {},
     "output_type": "execute_result"
    }
   ],
   "source": [
    "data_complete_observations['MATCHUP'].head()"
   ]
  },
  {
   "cell_type": "markdown",
   "metadata": {},
   "source": [
    "Has we can see, in the same column we have 3 features, so we have to extract them to 3 new columns:\n",
    "* Date (`MATCHUP_DATE`)\n",
    "* Home team (`MATCHUP_AWAY_TEAM`)\n",
    "* Away team (`MATCHUP_HOME_TEAM`)."
   ]
  },
  {
   "cell_type": "code",
   "execution_count": 338,
   "metadata": {},
   "outputs": [
    {
     "data": {
      "text/html": [
       "<div>\n",
       "<table border=\"1\" class=\"dataframe\">\n",
       "  <thead>\n",
       "    <tr style=\"text-align: right;\">\n",
       "      <th></th>\n",
       "      <th>MATCHUP_DATE</th>\n",
       "      <th>MATCHUP_AWAY_TEAM</th>\n",
       "      <th>MATCHUP_HOME_TEAM</th>\n",
       "    </tr>\n",
       "  </thead>\n",
       "  <tbody>\n",
       "    <tr>\n",
       "      <th>0</th>\n",
       "      <td>MAR 04, 2015</td>\n",
       "      <td>CHA</td>\n",
       "      <td>BKN</td>\n",
       "    </tr>\n",
       "    <tr>\n",
       "      <th>1</th>\n",
       "      <td>MAR 04, 2015</td>\n",
       "      <td>CHA</td>\n",
       "      <td>BKN</td>\n",
       "    </tr>\n",
       "    <tr>\n",
       "      <th>3</th>\n",
       "      <td>MAR 04, 2015</td>\n",
       "      <td>CHA</td>\n",
       "      <td>BKN</td>\n",
       "    </tr>\n",
       "    <tr>\n",
       "      <th>4</th>\n",
       "      <td>MAR 04, 2015</td>\n",
       "      <td>CHA</td>\n",
       "      <td>BKN</td>\n",
       "    </tr>\n",
       "    <tr>\n",
       "      <th>5</th>\n",
       "      <td>MAR 04, 2015</td>\n",
       "      <td>CHA</td>\n",
       "      <td>BKN</td>\n",
       "    </tr>\n",
       "    <tr>\n",
       "      <th>6</th>\n",
       "      <td>MAR 04, 2015</td>\n",
       "      <td>CHA</td>\n",
       "      <td>BKN</td>\n",
       "    </tr>\n",
       "    <tr>\n",
       "      <th>7</th>\n",
       "      <td>MAR 04, 2015</td>\n",
       "      <td>CHA</td>\n",
       "      <td>BKN</td>\n",
       "    </tr>\n",
       "    <tr>\n",
       "      <th>8</th>\n",
       "      <td>MAR 04, 2015</td>\n",
       "      <td>CHA</td>\n",
       "      <td>BKN</td>\n",
       "    </tr>\n",
       "    <tr>\n",
       "      <th>9</th>\n",
       "      <td>MAR 03, 2015</td>\n",
       "      <td>CHA</td>\n",
       "      <td>. L</td>\n",
       "    </tr>\n",
       "    <tr>\n",
       "      <th>10</th>\n",
       "      <td>MAR 03, 2015</td>\n",
       "      <td>CHA</td>\n",
       "      <td>. L</td>\n",
       "    </tr>\n",
       "  </tbody>\n",
       "</table>\n",
       "</div>"
      ],
      "text/plain": [
       "    MATCHUP_DATE MATCHUP_AWAY_TEAM MATCHUP_HOME_TEAM\n",
       "0   MAR 04, 2015               CHA               BKN\n",
       "1   MAR 04, 2015               CHA               BKN\n",
       "3   MAR 04, 2015               CHA               BKN\n",
       "4   MAR 04, 2015               CHA               BKN\n",
       "5   MAR 04, 2015               CHA               BKN\n",
       "6   MAR 04, 2015               CHA               BKN\n",
       "7   MAR 04, 2015               CHA               BKN\n",
       "8   MAR 04, 2015               CHA               BKN\n",
       "9   MAR 03, 2015               CHA               . L\n",
       "10  MAR 03, 2015               CHA               . L"
      ]
     },
     "execution_count": 338,
     "metadata": {},
     "output_type": "execute_result"
    }
   ],
   "source": [
    "matchup = data_complete_observations['MATCHUP']\n",
    "new_matchup_columns = matchup.str.extract(\n",
    "    \"(?P<MATCHUP_DATE>.{12}).{3}(?P<MATCHUP_AWAY_TEAM>.{3}).{3}(?P<MATCHUP_HOME_TEAM>.{3})\", \n",
    "    expand=True)\n",
    "new_matchup_columns.head(n=10)"
   ]
  },
  {
   "cell_type": "markdown",
   "metadata": {},
   "source": [
    "Apparently, there is a problem with the way we are parsing the columns, namely the `HOME_TEAM`. Let's understand why."
   ]
  },
  {
   "cell_type": "code",
   "execution_count": 339,
   "metadata": {},
   "outputs": [
    {
     "data": {
      "text/plain": [
       "'MAR 03, 2015 - CHA vs. LAL'"
      ]
     },
     "execution_count": 339,
     "metadata": {},
     "output_type": "execute_result"
    }
   ],
   "source": [
    "data_complete_observations['MATCHUP'][9]"
   ]
  },
  {
   "cell_type": "markdown",
   "metadata": {},
   "source": [
    "Apprently the string formatting is not consistent, let's tackle this."
   ]
  },
  {
   "cell_type": "code",
   "execution_count": 340,
   "metadata": {},
   "outputs": [],
   "source": [
    "matchup_clean = data_complete_observations['MATCHUP'].str.replace('vs.', '@')"
   ]
  },
  {
   "cell_type": "markdown",
   "metadata": {},
   "source": [
    "Now that the problem is solve, let's extract our columns again."
   ]
  },
  {
   "cell_type": "code",
   "execution_count": 341,
   "metadata": {},
   "outputs": [
    {
     "data": {
      "text/html": [
       "<div>\n",
       "<table border=\"1\" class=\"dataframe\">\n",
       "  <thead>\n",
       "    <tr style=\"text-align: right;\">\n",
       "      <th></th>\n",
       "      <th>MATCHUP_DATE</th>\n",
       "      <th>MATCHUP_AWAY_TEAM</th>\n",
       "      <th>MATCHUP_HOME_TEAM</th>\n",
       "    </tr>\n",
       "  </thead>\n",
       "  <tbody>\n",
       "    <tr>\n",
       "      <th>0</th>\n",
       "      <td>MAR 04, 2015</td>\n",
       "      <td>CHA</td>\n",
       "      <td>BKN</td>\n",
       "    </tr>\n",
       "    <tr>\n",
       "      <th>1</th>\n",
       "      <td>MAR 04, 2015</td>\n",
       "      <td>CHA</td>\n",
       "      <td>BKN</td>\n",
       "    </tr>\n",
       "    <tr>\n",
       "      <th>3</th>\n",
       "      <td>MAR 04, 2015</td>\n",
       "      <td>CHA</td>\n",
       "      <td>BKN</td>\n",
       "    </tr>\n",
       "    <tr>\n",
       "      <th>4</th>\n",
       "      <td>MAR 04, 2015</td>\n",
       "      <td>CHA</td>\n",
       "      <td>BKN</td>\n",
       "    </tr>\n",
       "    <tr>\n",
       "      <th>5</th>\n",
       "      <td>MAR 04, 2015</td>\n",
       "      <td>CHA</td>\n",
       "      <td>BKN</td>\n",
       "    </tr>\n",
       "    <tr>\n",
       "      <th>6</th>\n",
       "      <td>MAR 04, 2015</td>\n",
       "      <td>CHA</td>\n",
       "      <td>BKN</td>\n",
       "    </tr>\n",
       "    <tr>\n",
       "      <th>7</th>\n",
       "      <td>MAR 04, 2015</td>\n",
       "      <td>CHA</td>\n",
       "      <td>BKN</td>\n",
       "    </tr>\n",
       "    <tr>\n",
       "      <th>8</th>\n",
       "      <td>MAR 04, 2015</td>\n",
       "      <td>CHA</td>\n",
       "      <td>BKN</td>\n",
       "    </tr>\n",
       "    <tr>\n",
       "      <th>9</th>\n",
       "      <td>MAR 03, 2015</td>\n",
       "      <td>CHA</td>\n",
       "      <td>LAL</td>\n",
       "    </tr>\n",
       "    <tr>\n",
       "      <th>10</th>\n",
       "      <td>MAR 03, 2015</td>\n",
       "      <td>CHA</td>\n",
       "      <td>LAL</td>\n",
       "    </tr>\n",
       "  </tbody>\n",
       "</table>\n",
       "</div>"
      ],
      "text/plain": [
       "    MATCHUP_DATE MATCHUP_AWAY_TEAM MATCHUP_HOME_TEAM\n",
       "0   MAR 04, 2015               CHA               BKN\n",
       "1   MAR 04, 2015               CHA               BKN\n",
       "3   MAR 04, 2015               CHA               BKN\n",
       "4   MAR 04, 2015               CHA               BKN\n",
       "5   MAR 04, 2015               CHA               BKN\n",
       "6   MAR 04, 2015               CHA               BKN\n",
       "7   MAR 04, 2015               CHA               BKN\n",
       "8   MAR 04, 2015               CHA               BKN\n",
       "9   MAR 03, 2015               CHA               LAL\n",
       "10  MAR 03, 2015               CHA               LAL"
      ]
     },
     "execution_count": 341,
     "metadata": {},
     "output_type": "execute_result"
    }
   ],
   "source": [
    "new_matchup_columns_matchup_clean = matchup_clean.str.extract(\n",
    "    \"(?P<MATCHUP_DATE>.{12}).{3}(?P<MATCHUP_AWAY_TEAM>.{3}).{3}(?P<MATCHUP_HOME_TEAM>.{3})\", \n",
    "    expand=True)\n",
    "\n",
    "new_matchup_columns_matchup_clean.head(n=10)"
   ]
  },
  {
   "cell_type": "code",
   "execution_count": 342,
   "metadata": {},
   "outputs": [
    {
     "data": {
      "text/html": [
       "<div>\n",
       "<table border=\"1\" class=\"dataframe\">\n",
       "  <thead>\n",
       "    <tr style=\"text-align: right;\">\n",
       "      <th></th>\n",
       "      <th>MATCHUP_DATE</th>\n",
       "      <th>MATCHUP_AWAY_TEAM</th>\n",
       "      <th>MATCHUP_HOME_TEAM</th>\n",
       "      <th>LOCATION</th>\n",
       "      <th>SHOT_NUMBER</th>\n",
       "      <th>GAME_CLOCK</th>\n",
       "      <th>SHOT_CLOCK</th>\n",
       "      <th>TOUCH_TIME</th>\n",
       "      <th>SHOT_DIST</th>\n",
       "      <th>SHOT_RESULT</th>\n",
       "      <th>CLOSEST_DEFENDER_PLAYER_ID</th>\n",
       "      <th>CLOSE_DEF_DIST</th>\n",
       "      <th>PLAYER_ID</th>\n",
       "    </tr>\n",
       "  </thead>\n",
       "  <tbody>\n",
       "    <tr>\n",
       "      <th>0</th>\n",
       "      <td>MAR 04, 2015</td>\n",
       "      <td>CHA</td>\n",
       "      <td>BKN</td>\n",
       "      <td>A</td>\n",
       "      <td>1</td>\n",
       "      <td>1:09</td>\n",
       "      <td>10.8</td>\n",
       "      <td>1.9</td>\n",
       "      <td>7.7</td>\n",
       "      <td>made</td>\n",
       "      <td>101187</td>\n",
       "      <td>1.3</td>\n",
       "      <td>203148</td>\n",
       "    </tr>\n",
       "    <tr>\n",
       "      <th>1</th>\n",
       "      <td>MAR 04, 2015</td>\n",
       "      <td>CHA</td>\n",
       "      <td>BKN</td>\n",
       "      <td>A</td>\n",
       "      <td>2</td>\n",
       "      <td>0:14</td>\n",
       "      <td>3.4</td>\n",
       "      <td>0.8</td>\n",
       "      <td>28.2</td>\n",
       "      <td>missed</td>\n",
       "      <td>202711</td>\n",
       "      <td>6.1</td>\n",
       "      <td>203148</td>\n",
       "    </tr>\n",
       "    <tr>\n",
       "      <th>3</th>\n",
       "      <td>MAR 04, 2015</td>\n",
       "      <td>CHA</td>\n",
       "      <td>BKN</td>\n",
       "      <td>A</td>\n",
       "      <td>4</td>\n",
       "      <td>11:47</td>\n",
       "      <td>10.3</td>\n",
       "      <td>1.9</td>\n",
       "      <td>17.2</td>\n",
       "      <td>missed</td>\n",
       "      <td>203900</td>\n",
       "      <td>3.4</td>\n",
       "      <td>203148</td>\n",
       "    </tr>\n",
       "    <tr>\n",
       "      <th>4</th>\n",
       "      <td>MAR 04, 2015</td>\n",
       "      <td>CHA</td>\n",
       "      <td>BKN</td>\n",
       "      <td>A</td>\n",
       "      <td>5</td>\n",
       "      <td>10:34</td>\n",
       "      <td>10.9</td>\n",
       "      <td>2.7</td>\n",
       "      <td>3.7</td>\n",
       "      <td>missed</td>\n",
       "      <td>201152</td>\n",
       "      <td>1.1</td>\n",
       "      <td>203148</td>\n",
       "    </tr>\n",
       "    <tr>\n",
       "      <th>5</th>\n",
       "      <td>MAR 04, 2015</td>\n",
       "      <td>CHA</td>\n",
       "      <td>BKN</td>\n",
       "      <td>A</td>\n",
       "      <td>6</td>\n",
       "      <td>8:15</td>\n",
       "      <td>9.1</td>\n",
       "      <td>4.4</td>\n",
       "      <td>18.4</td>\n",
       "      <td>missed</td>\n",
       "      <td>101114</td>\n",
       "      <td>2.6</td>\n",
       "      <td>203148</td>\n",
       "    </tr>\n",
       "    <tr>\n",
       "      <th>6</th>\n",
       "      <td>MAR 04, 2015</td>\n",
       "      <td>CHA</td>\n",
       "      <td>BKN</td>\n",
       "      <td>A</td>\n",
       "      <td>7</td>\n",
       "      <td>10:15</td>\n",
       "      <td>14.5</td>\n",
       "      <td>9.0</td>\n",
       "      <td>20.7</td>\n",
       "      <td>missed</td>\n",
       "      <td>101127</td>\n",
       "      <td>6.1</td>\n",
       "      <td>203148</td>\n",
       "    </tr>\n",
       "    <tr>\n",
       "      <th>7</th>\n",
       "      <td>MAR 04, 2015</td>\n",
       "      <td>CHA</td>\n",
       "      <td>BKN</td>\n",
       "      <td>A</td>\n",
       "      <td>8</td>\n",
       "      <td>8:00</td>\n",
       "      <td>3.4</td>\n",
       "      <td>2.5</td>\n",
       "      <td>3.5</td>\n",
       "      <td>made</td>\n",
       "      <td>203486</td>\n",
       "      <td>2.1</td>\n",
       "      <td>203148</td>\n",
       "    </tr>\n",
       "    <tr>\n",
       "      <th>8</th>\n",
       "      <td>MAR 04, 2015</td>\n",
       "      <td>CHA</td>\n",
       "      <td>BKN</td>\n",
       "      <td>A</td>\n",
       "      <td>9</td>\n",
       "      <td>5:14</td>\n",
       "      <td>12.4</td>\n",
       "      <td>0.8</td>\n",
       "      <td>24.6</td>\n",
       "      <td>missed</td>\n",
       "      <td>202721</td>\n",
       "      <td>7.3</td>\n",
       "      <td>203148</td>\n",
       "    </tr>\n",
       "    <tr>\n",
       "      <th>9</th>\n",
       "      <td>MAR 03, 2015</td>\n",
       "      <td>CHA</td>\n",
       "      <td>LAL</td>\n",
       "      <td>H</td>\n",
       "      <td>1</td>\n",
       "      <td>11:32</td>\n",
       "      <td>17.4</td>\n",
       "      <td>1.1</td>\n",
       "      <td>22.4</td>\n",
       "      <td>missed</td>\n",
       "      <td>201961</td>\n",
       "      <td>19.8</td>\n",
       "      <td>203148</td>\n",
       "    </tr>\n",
       "    <tr>\n",
       "      <th>10</th>\n",
       "      <td>MAR 03, 2015</td>\n",
       "      <td>CHA</td>\n",
       "      <td>LAL</td>\n",
       "      <td>H</td>\n",
       "      <td>2</td>\n",
       "      <td>6:30</td>\n",
       "      <td>16.0</td>\n",
       "      <td>7.5</td>\n",
       "      <td>24.5</td>\n",
       "      <td>missed</td>\n",
       "      <td>202391</td>\n",
       "      <td>4.7</td>\n",
       "      <td>203148</td>\n",
       "    </tr>\n",
       "  </tbody>\n",
       "</table>\n",
       "</div>"
      ],
      "text/plain": [
       "    MATCHUP_DATE MATCHUP_AWAY_TEAM MATCHUP_HOME_TEAM LOCATION  SHOT_NUMBER  \\\n",
       "0   MAR 04, 2015               CHA               BKN        A            1   \n",
       "1   MAR 04, 2015               CHA               BKN        A            2   \n",
       "3   MAR 04, 2015               CHA               BKN        A            4   \n",
       "4   MAR 04, 2015               CHA               BKN        A            5   \n",
       "5   MAR 04, 2015               CHA               BKN        A            6   \n",
       "6   MAR 04, 2015               CHA               BKN        A            7   \n",
       "7   MAR 04, 2015               CHA               BKN        A            8   \n",
       "8   MAR 04, 2015               CHA               BKN        A            9   \n",
       "9   MAR 03, 2015               CHA               LAL        H            1   \n",
       "10  MAR 03, 2015               CHA               LAL        H            2   \n",
       "\n",
       "   GAME_CLOCK  SHOT_CLOCK  TOUCH_TIME  SHOT_DIST SHOT_RESULT  \\\n",
       "0        1:09        10.8         1.9        7.7        made   \n",
       "1        0:14         3.4         0.8       28.2      missed   \n",
       "3       11:47        10.3         1.9       17.2      missed   \n",
       "4       10:34        10.9         2.7        3.7      missed   \n",
       "5        8:15         9.1         4.4       18.4      missed   \n",
       "6       10:15        14.5         9.0       20.7      missed   \n",
       "7        8:00         3.4         2.5        3.5        made   \n",
       "8        5:14        12.4         0.8       24.6      missed   \n",
       "9       11:32        17.4         1.1       22.4      missed   \n",
       "10       6:30        16.0         7.5       24.5      missed   \n",
       "\n",
       "    CLOSEST_DEFENDER_PLAYER_ID  CLOSE_DEF_DIST  PLAYER_ID  \n",
       "0                       101187             1.3     203148  \n",
       "1                       202711             6.1     203148  \n",
       "3                       203900             3.4     203148  \n",
       "4                       201152             1.1     203148  \n",
       "5                       101114             2.6     203148  \n",
       "6                       101127             6.1     203148  \n",
       "7                       203486             2.1     203148  \n",
       "8                       202721             7.3     203148  \n",
       "9                       201961            19.8     203148  \n",
       "10                      202391             4.7     203148  "
      ]
     },
     "execution_count": 342,
     "metadata": {},
     "output_type": "execute_result"
    }
   ],
   "source": [
    "data_without_matchup_column = data_complete_observations.drop('MATCHUP', axis=1)\n",
    "data_with_new_matchup_columns = pd.concat(\n",
    "    [new_matchup_columns_matchup_clean, data_without_matchup_column], \n",
    "    axis=1)\n",
    "\n",
    "data_with_new_matchup_columns.head(n=10)"
   ]
  },
  {
   "cell_type": "markdown",
   "metadata": {
    "collapsed": true
   },
   "source": [
    "Finally, we need to parse the matchup date."
   ]
  },
  {
   "cell_type": "code",
   "execution_count": 343,
   "metadata": {},
   "outputs": [
    {
     "data": {
      "text/html": [
       "<div>\n",
       "<table border=\"1\" class=\"dataframe\">\n",
       "  <thead>\n",
       "    <tr style=\"text-align: right;\">\n",
       "      <th></th>\n",
       "      <th>MATCHUP_DATE</th>\n",
       "      <th>MATCHUP_AWAY_TEAM</th>\n",
       "      <th>MATCHUP_HOME_TEAM</th>\n",
       "      <th>LOCATION</th>\n",
       "      <th>SHOT_NUMBER</th>\n",
       "      <th>GAME_CLOCK</th>\n",
       "      <th>SHOT_CLOCK</th>\n",
       "      <th>TOUCH_TIME</th>\n",
       "      <th>SHOT_DIST</th>\n",
       "      <th>SHOT_RESULT</th>\n",
       "      <th>CLOSEST_DEFENDER_PLAYER_ID</th>\n",
       "      <th>CLOSE_DEF_DIST</th>\n",
       "      <th>PLAYER_ID</th>\n",
       "    </tr>\n",
       "  </thead>\n",
       "  <tbody>\n",
       "    <tr>\n",
       "      <th>0</th>\n",
       "      <td>2015-03-04</td>\n",
       "      <td>CHA</td>\n",
       "      <td>BKN</td>\n",
       "      <td>A</td>\n",
       "      <td>1</td>\n",
       "      <td>1:09</td>\n",
       "      <td>10.8</td>\n",
       "      <td>1.9</td>\n",
       "      <td>7.7</td>\n",
       "      <td>made</td>\n",
       "      <td>101187</td>\n",
       "      <td>1.3</td>\n",
       "      <td>203148</td>\n",
       "    </tr>\n",
       "    <tr>\n",
       "      <th>1</th>\n",
       "      <td>2015-03-04</td>\n",
       "      <td>CHA</td>\n",
       "      <td>BKN</td>\n",
       "      <td>A</td>\n",
       "      <td>2</td>\n",
       "      <td>0:14</td>\n",
       "      <td>3.4</td>\n",
       "      <td>0.8</td>\n",
       "      <td>28.2</td>\n",
       "      <td>missed</td>\n",
       "      <td>202711</td>\n",
       "      <td>6.1</td>\n",
       "      <td>203148</td>\n",
       "    </tr>\n",
       "    <tr>\n",
       "      <th>3</th>\n",
       "      <td>2015-03-04</td>\n",
       "      <td>CHA</td>\n",
       "      <td>BKN</td>\n",
       "      <td>A</td>\n",
       "      <td>4</td>\n",
       "      <td>11:47</td>\n",
       "      <td>10.3</td>\n",
       "      <td>1.9</td>\n",
       "      <td>17.2</td>\n",
       "      <td>missed</td>\n",
       "      <td>203900</td>\n",
       "      <td>3.4</td>\n",
       "      <td>203148</td>\n",
       "    </tr>\n",
       "    <tr>\n",
       "      <th>4</th>\n",
       "      <td>2015-03-04</td>\n",
       "      <td>CHA</td>\n",
       "      <td>BKN</td>\n",
       "      <td>A</td>\n",
       "      <td>5</td>\n",
       "      <td>10:34</td>\n",
       "      <td>10.9</td>\n",
       "      <td>2.7</td>\n",
       "      <td>3.7</td>\n",
       "      <td>missed</td>\n",
       "      <td>201152</td>\n",
       "      <td>1.1</td>\n",
       "      <td>203148</td>\n",
       "    </tr>\n",
       "    <tr>\n",
       "      <th>5</th>\n",
       "      <td>2015-03-04</td>\n",
       "      <td>CHA</td>\n",
       "      <td>BKN</td>\n",
       "      <td>A</td>\n",
       "      <td>6</td>\n",
       "      <td>8:15</td>\n",
       "      <td>9.1</td>\n",
       "      <td>4.4</td>\n",
       "      <td>18.4</td>\n",
       "      <td>missed</td>\n",
       "      <td>101114</td>\n",
       "      <td>2.6</td>\n",
       "      <td>203148</td>\n",
       "    </tr>\n",
       "  </tbody>\n",
       "</table>\n",
       "</div>"
      ],
      "text/plain": [
       "  MATCHUP_DATE MATCHUP_AWAY_TEAM MATCHUP_HOME_TEAM LOCATION  SHOT_NUMBER  \\\n",
       "0   2015-03-04               CHA               BKN        A            1   \n",
       "1   2015-03-04               CHA               BKN        A            2   \n",
       "3   2015-03-04               CHA               BKN        A            4   \n",
       "4   2015-03-04               CHA               BKN        A            5   \n",
       "5   2015-03-04               CHA               BKN        A            6   \n",
       "\n",
       "  GAME_CLOCK  SHOT_CLOCK  TOUCH_TIME  SHOT_DIST SHOT_RESULT  \\\n",
       "0       1:09        10.8         1.9        7.7        made   \n",
       "1       0:14         3.4         0.8       28.2      missed   \n",
       "3      11:47        10.3         1.9       17.2      missed   \n",
       "4      10:34        10.9         2.7        3.7      missed   \n",
       "5       8:15         9.1         4.4       18.4      missed   \n",
       "\n",
       "   CLOSEST_DEFENDER_PLAYER_ID  CLOSE_DEF_DIST  PLAYER_ID  \n",
       "0                      101187             1.3     203148  \n",
       "1                      202711             6.1     203148  \n",
       "3                      203900             3.4     203148  \n",
       "4                      201152             1.1     203148  \n",
       "5                      101114             2.6     203148  "
      ]
     },
     "execution_count": 343,
     "metadata": {},
     "output_type": "execute_result"
    }
   ],
   "source": [
    "matchup_date = data_with_new_matchup_columns['MATCHUP_DATE']\n",
    "matchup_date = matchup_date.str.replace(\" \", \"\")\n",
    "matchup_date = matchup_date.str.replace(\",\", \"\")\n",
    "\n",
    "data_with_new_matchup_columns_and_date = data_with_new_matchup_columns\n",
    "data_with_new_matchup_columns_and_date['MATCHUP_DATE'] = pd.to_datetime(matchup_date, format='%b%d%Y')\n",
    "data_with_new_matchup_columns_and_date.head()"
   ]
  },
  {
   "cell_type": "markdown",
   "metadata": {},
   "source": [
    "## 5 Categorical features"
   ]
  },
  {
   "cell_type": "code",
   "execution_count": null,
   "metadata": {
    "collapsed": true
   },
   "outputs": [],
   "source": []
  }
 ],
 "metadata": {
  "kernelspec": {
   "display_name": "Python 3",
   "language": "python",
   "name": "python3"
  },
  "language_info": {
   "codemirror_mode": {
    "name": "ipython",
    "version": 3
   },
   "file_extension": ".py",
   "mimetype": "text/x-python",
   "name": "python",
   "nbconvert_exporter": "python",
   "pygments_lexer": "ipython3",
   "version": "3.6.1"
  }
 },
 "nbformat": 4,
 "nbformat_minor": 2
}
