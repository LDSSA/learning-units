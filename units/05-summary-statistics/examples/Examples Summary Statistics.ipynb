{
 "cells": [
  {
   "cell_type": "markdown",
   "metadata": {},
   "source": [
    "# Summary Statistics - Examples\n",
    "In these exercises you'll use a real life medical dataset to learn how to obtain basic statistics from the data. This dataset comes from [Gluegrant](https://www.gluegrant.org/), an American project that aims to find a which genes are more important for the recovery of severely injured patients! \n",
    "\n",
    "## Dataset information\n",
    "\n",
    "The dataset is a medical dataset with 184 patients, distributed into 2 test groups where each group divided in 2, patients and control.\n",
    "The dataset is composed of clinical values:\n",
    "* Patient.id\n",
    "* Age\n",
    "* Sex\n",
    "* Group (to what group they belong)\n",
    "* Results (the outcome of the patient)\n",
    "* *And __~55k genes__*\n",
    "\n",
    "### Import Data"
   ]
  },
  {
   "cell_type": "code",
   "execution_count": 1,
   "metadata": {
    "collapsed": true
   },
   "outputs": [],
   "source": [
    "import pandas as pd\n",
    "import numpy as np\n",
    "from IPython.display import display, HTML\n",
    "%matplotlib inline\n",
    "import matplotlib.pyplot as plt\n",
    "import seaborn as sns\n",
    "\n",
    "CSS = \"\"\"\n",
    ".output {\n",
    "    flex-direction: row;\n",
    "}\n",
    "\"\"\"\n",
    "\n",
    "complete_data = pd.read_csv(\"../data/Exercises_Summary_Statistics_Data.csv\")\n",
    "complete_data = complete_data.set_index('Patient_id')"
   ]
  },
  {
   "cell_type": "markdown",
   "metadata": {},
   "source": [
    "The dimensions of the dataset are"
   ]
  },
  {
   "cell_type": "code",
   "execution_count": 2,
   "metadata": {},
   "outputs": [
    {
     "data": {
      "text/plain": [
       "(184, 10)"
      ]
     },
     "execution_count": 2,
     "metadata": {},
     "output_type": "execute_result"
    }
   ],
   "source": [
    "complete_data.shape"
   ]
  },
  {
   "cell_type": "markdown",
   "metadata": {},
   "source": [
    "Let's take a look:"
   ]
  },
  {
   "cell_type": "code",
   "execution_count": 3,
   "metadata": {},
   "outputs": [
    {
     "data": {
      "text/html": [
       "<div>\n",
       "<style>\n",
       "    .dataframe thead tr:only-child th {\n",
       "        text-align: right;\n",
       "    }\n",
       "\n",
       "    .dataframe thead th {\n",
       "        text-align: left;\n",
       "    }\n",
       "\n",
       "    .dataframe tbody tr th {\n",
       "        vertical-align: top;\n",
       "    }\n",
       "</style>\n",
       "<table border=\"1\" class=\"dataframe\">\n",
       "  <thead>\n",
       "    <tr style=\"text-align: right;\">\n",
       "      <th></th>\n",
       "      <th>Age</th>\n",
       "      <th>Sex</th>\n",
       "      <th>Result</th>\n",
       "      <th>Group</th>\n",
       "      <th>Gene1</th>\n",
       "      <th>Gene2</th>\n",
       "      <th>Gene3</th>\n",
       "      <th>Gene4</th>\n",
       "      <th>Gene5</th>\n",
       "      <th>Gene6</th>\n",
       "    </tr>\n",
       "    <tr>\n",
       "      <th>Patient_id</th>\n",
       "      <th></th>\n",
       "      <th></th>\n",
       "      <th></th>\n",
       "      <th></th>\n",
       "      <th></th>\n",
       "      <th></th>\n",
       "      <th></th>\n",
       "      <th></th>\n",
       "      <th></th>\n",
       "      <th></th>\n",
       "    </tr>\n",
       "  </thead>\n",
       "  <tbody>\n",
       "    <tr>\n",
       "      <th>1</th>\n",
       "      <td>20</td>\n",
       "      <td>male</td>\n",
       "      <td>control</td>\n",
       "      <td>Control</td>\n",
       "      <td>950.444</td>\n",
       "      <td>5609.021</td>\n",
       "      <td>530.861</td>\n",
       "      <td>56.001</td>\n",
       "      <td>38.539</td>\n",
       "      <td>32.496</td>\n",
       "    </tr>\n",
       "    <tr>\n",
       "      <th>2</th>\n",
       "      <td>34</td>\n",
       "      <td>female</td>\n",
       "      <td>control</td>\n",
       "      <td>Control</td>\n",
       "      <td>728.066</td>\n",
       "      <td>3337.738</td>\n",
       "      <td>271.314</td>\n",
       "      <td>60.238</td>\n",
       "      <td>37.117</td>\n",
       "      <td>30.645</td>\n",
       "    </tr>\n",
       "    <tr>\n",
       "      <th>3</th>\n",
       "      <td>40</td>\n",
       "      <td>female</td>\n",
       "      <td>control</td>\n",
       "      <td>Control</td>\n",
       "      <td>1208.076</td>\n",
       "      <td>4430.424</td>\n",
       "      <td>520.859</td>\n",
       "      <td>67.374</td>\n",
       "      <td>41.698</td>\n",
       "      <td>29.476</td>\n",
       "    </tr>\n",
       "    <tr>\n",
       "      <th>4</th>\n",
       "      <td>31</td>\n",
       "      <td>male</td>\n",
       "      <td>control</td>\n",
       "      <td>Control</td>\n",
       "      <td>3426.842</td>\n",
       "      <td>6524.846</td>\n",
       "      <td>842.426</td>\n",
       "      <td>68.772</td>\n",
       "      <td>36.682</td>\n",
       "      <td>32.125</td>\n",
       "    </tr>\n",
       "    <tr>\n",
       "      <th>5</th>\n",
       "      <td>21</td>\n",
       "      <td>female</td>\n",
       "      <td>control</td>\n",
       "      <td>Control</td>\n",
       "      <td>3781.265</td>\n",
       "      <td>7916.231</td>\n",
       "      <td>574.768</td>\n",
       "      <td>70.522</td>\n",
       "      <td>34.877</td>\n",
       "      <td>27.416</td>\n",
       "    </tr>\n",
       "  </tbody>\n",
       "</table>\n",
       "</div>"
      ],
      "text/plain": [
       "            Age     Sex   Result    Group     Gene1     Gene2    Gene3  \\\n",
       "Patient_id                                                               \n",
       "1            20    male  control  Control   950.444  5609.021  530.861   \n",
       "2            34  female  control  Control   728.066  3337.738  271.314   \n",
       "3            40  female  control  Control  1208.076  4430.424  520.859   \n",
       "4            31    male  control  Control  3426.842  6524.846  842.426   \n",
       "5            21  female  control  Control  3781.265  7916.231  574.768   \n",
       "\n",
       "             Gene4   Gene5   Gene6  \n",
       "Patient_id                          \n",
       "1           56.001  38.539  32.496  \n",
       "2           60.238  37.117  30.645  \n",
       "3           67.374  41.698  29.476  \n",
       "4           68.772  36.682  32.125  \n",
       "5           70.522  34.877  27.416  "
      ]
     },
     "execution_count": 3,
     "metadata": {},
     "output_type": "execute_result"
    }
   ],
   "source": [
    "complete_data.iloc[:, 0:15].head()"
   ]
  },
  {
   "cell_type": "markdown",
   "metadata": {
    "collapsed": true
   },
   "source": [
    "### For those without biological background\n",
    "\n",
    "You can consider that this dataset comes from a online shopping service like Amazon. Imagine that they were conducting an A/B test, where a small part of their website was changed, like the related items suggestions. You have 2 groups, the \"control group\" that is the group that is experiencing the original website (without modifications) and Group 1 that is using the website with the new suggestions.\n",
    "\n",
    "Consider also that the genes are products or product categories where the customers buy a certain ammount of products. Your objective now is to find if there is a significant difference between the __control group__ and __Group 1__."
   ]
  },
  {
   "cell_type": "markdown",
   "metadata": {},
   "source": [
    "## Analysis to perform\n",
    "* Basic statistics on the differences between patients of differnet sexes.\n",
    "* Check what happened to the patients.\n",
    "* Check which genes are more or less expressed in the patients.\n",
    "\n",
    "### Age statistics for each of the sexes"
   ]
  },
  {
   "cell_type": "code",
   "execution_count": 5,
   "metadata": {},
   "outputs": [
    {
     "name": "stdout",
     "output_type": "stream",
     "text": [
      "The male mean age is: 32.95652173913044 The median age is: 32.0 and the standard dev is: 11.174368622493418\n",
      "The female mean age is: 33.3768115942029 The median age is: 33.0 and the standard dev is: 11.014831510921137\n"
     ]
    }
   ],
   "source": [
    "male_patients = complete_data[complete_data.Sex == \"male\"]\n",
    "female_patients =  complete_data[complete_data.Sex == \"female\"]\n",
    "\n",
    "# Mean\n",
    "male_mean_age = male_patients.Age.mean()\n",
    "female_mean_age = female_patients.Age.mean()\n",
    "\n",
    "# Median\n",
    "male_median_age = male_patients.Age.median()\n",
    "female_median_age = female_patients.Age.median()\n",
    "\n",
    "# Std\n",
    "male_std_age = male_patients.Age.std()\n",
    "female_std_age = female_patients.Age.std()\n",
    "\n",
    "print(\"The male mean age is:\", male_mean_age, \"The median age is:\", male_median_age, \\\n",
    "      \"and the standard dev is:\", male_std_age)\n",
    "print(\"The female mean age is:\", female_mean_age, \"The median age is:\", female_median_age, \\\n",
    "      \"and the standard dev is:\", female_std_age)"
   ]
  },
  {
   "cell_type": "markdown",
   "metadata": {},
   "source": [
    "### Quantiles"
   ]
  },
  {
   "cell_type": "code",
   "execution_count": 6,
   "metadata": {},
   "outputs": [
    {
     "data": {
      "text/plain": [
       "0.00    16.0\n",
       "0.25    23.0\n",
       "0.50    32.0\n",
       "0.75    43.0\n",
       "1.00    55.0\n",
       "Name: Age, dtype: float64"
      ]
     },
     "metadata": {},
     "output_type": "display_data"
    },
    {
     "data": {
      "text/plain": [
       "0.00    17.0\n",
       "0.25    25.0\n",
       "0.50    33.0\n",
       "0.75    41.0\n",
       "1.00    55.0\n",
       "Name: Age, dtype: float64"
      ]
     },
     "metadata": {},
     "output_type": "display_data"
    }
   ],
   "source": [
    "display(male_patients.Age.quantile(q=[0,1/4,1/2,3/4,1]))\n",
    "display(female_patients.Age.quantile(q=[0,1/4,1/2,3/4,1]))"
   ]
  },
  {
   "cell_type": "markdown",
   "metadata": {},
   "source": [
    "There is almost no difference from the sexes! Really strange to see such close numbers...\n",
    "\n",
    "### Check out what happened to the patients\n",
    "\n",
    "We have a column named _Results_ that has the information of what happened to the patient. It has both happy and tragic information. Let's first check out how many results there are."
   ]
  },
  {
   "cell_type": "code",
   "execution_count": 7,
   "metadata": {},
   "outputs": [
    {
     "data": {
      "text/plain": [
       "array(['09: Death', '06: Home', '02: Skilled nursing facility',\n",
       "       '01: Inpatient rehabilitation facility', '88: Other (specify)',\n",
       "       '05: Home with services', '07: Another acute care facility',\n",
       "       'control'], dtype=object)"
      ]
     },
     "execution_count": 7,
     "metadata": {},
     "output_type": "execute_result"
    }
   ],
   "source": [
    "#Lets first remove the control patients. Those patients don't hava a result since they weren't injured.\n",
    "patient_data = complete_data[~complete_data.Group.isin([\"Control\"])]\n",
    "patient_data.Result.unique()"
   ]
  },
  {
   "cell_type": "markdown",
   "metadata": {},
   "source": [
    "Ok, we have 8 types of outcomes for the patients. _One of them is control, ignore that, it's a problem with the dataset._\n",
    "\n",
    "Let's check the numbers for each of these outcomes."
   ]
  },
  {
   "cell_type": "code",
   "execution_count": 8,
   "metadata": {},
   "outputs": [
    {
     "data": {
      "text/plain": [
       "02: Skilled nursing facility             50\n",
       "06: Home                                 37\n",
       "01: Inpatient rehabilitation facility    30\n",
       "control                                  17\n",
       "05: Home with services                   11\n",
       "09: Death                                 7\n",
       "88: Other (specify)                       5\n",
       "07: Another acute care facility           1\n",
       "Name: Result, dtype: int64"
      ]
     },
     "execution_count": 8,
     "metadata": {},
     "output_type": "execute_result"
    }
   ],
   "source": [
    "patient_data.Result.value_counts()"
   ]
  },
  {
   "cell_type": "markdown",
   "metadata": {},
   "source": [
    "Ok, so, good news, most of our patients survived the injury! :)\n",
    "\n",
    "### Is there any gene difference that makes these differences?\n",
    "\n",
    "Next step, is there any gene difference between the patients that survived the injury and those that didn't? \n",
    "\n",
    "(_Optional_): This question is very difficult to answer and in biostatistics we use something called survival analysis to model the patient's outcome according to a set of variables. Here we wont do that, but we will attempt to get a nice result!\n",
    "\n",
    "Let's check if there are any genes that have very different values in the patients that survived and the ones that didn't!"
   ]
  },
  {
   "cell_type": "code",
   "execution_count": 9,
   "metadata": {},
   "outputs": [
    {
     "data": {
      "text/html": [
       "<div>\n",
       "<style>\n",
       "    .dataframe thead tr:only-child th {\n",
       "        text-align: right;\n",
       "    }\n",
       "\n",
       "    .dataframe thead th {\n",
       "        text-align: left;\n",
       "    }\n",
       "\n",
       "    .dataframe tbody tr th {\n",
       "        vertical-align: top;\n",
       "    }\n",
       "</style>\n",
       "<table border=\"1\" class=\"dataframe\">\n",
       "  <thead>\n",
       "    <tr style=\"text-align: right;\">\n",
       "      <th></th>\n",
       "      <th>Gene1</th>\n",
       "      <th>Gene2</th>\n",
       "      <th>Gene3</th>\n",
       "      <th>Gene4</th>\n",
       "      <th>Gene5</th>\n",
       "      <th>Gene6</th>\n",
       "    </tr>\n",
       "  </thead>\n",
       "  <tbody>\n",
       "    <tr>\n",
       "      <th>count</th>\n",
       "      <td>7.000000</td>\n",
       "      <td>7.000000</td>\n",
       "      <td>7.000000</td>\n",
       "      <td>7.000000</td>\n",
       "      <td>7.000000</td>\n",
       "      <td>7.000000</td>\n",
       "    </tr>\n",
       "    <tr>\n",
       "      <th>mean</th>\n",
       "      <td>15139.870571</td>\n",
       "      <td>18878.937857</td>\n",
       "      <td>9387.305714</td>\n",
       "      <td>258.840000</td>\n",
       "      <td>41.496143</td>\n",
       "      <td>30.772143</td>\n",
       "    </tr>\n",
       "    <tr>\n",
       "      <th>std</th>\n",
       "      <td>2950.951932</td>\n",
       "      <td>2272.013493</td>\n",
       "      <td>2361.202572</td>\n",
       "      <td>438.835615</td>\n",
       "      <td>5.947910</td>\n",
       "      <td>6.700381</td>\n",
       "    </tr>\n",
       "    <tr>\n",
       "      <th>min</th>\n",
       "      <td>9188.998000</td>\n",
       "      <td>16078.555000</td>\n",
       "      <td>5985.571000</td>\n",
       "      <td>62.755000</td>\n",
       "      <td>32.100000</td>\n",
       "      <td>20.265000</td>\n",
       "    </tr>\n",
       "    <tr>\n",
       "      <th>25%</th>\n",
       "      <td>14940.678500</td>\n",
       "      <td>17392.816500</td>\n",
       "      <td>7720.098000</td>\n",
       "      <td>77.092500</td>\n",
       "      <td>38.556500</td>\n",
       "      <td>26.297000</td>\n",
       "    </tr>\n",
       "    <tr>\n",
       "      <th>50%</th>\n",
       "      <td>15661.511000</td>\n",
       "      <td>18217.162000</td>\n",
       "      <td>10471.703000</td>\n",
       "      <td>88.359000</td>\n",
       "      <td>42.332000</td>\n",
       "      <td>32.258000</td>\n",
       "    </tr>\n",
       "    <tr>\n",
       "      <th>75%</th>\n",
       "      <td>16260.619000</td>\n",
       "      <td>20251.048000</td>\n",
       "      <td>10909.176000</td>\n",
       "      <td>127.134000</td>\n",
       "      <td>43.957500</td>\n",
       "      <td>35.974000</td>\n",
       "    </tr>\n",
       "    <tr>\n",
       "      <th>max</th>\n",
       "      <td>18725.990000</td>\n",
       "      <td>22569.119000</td>\n",
       "      <td>11995.318000</td>\n",
       "      <td>1252.313000</td>\n",
       "      <td>51.013000</td>\n",
       "      <td>38.340000</td>\n",
       "    </tr>\n",
       "  </tbody>\n",
       "</table>\n",
       "</div>"
      ],
      "text/plain": [
       "              Gene1         Gene2         Gene3        Gene4      Gene5  \\\n",
       "count      7.000000      7.000000      7.000000     7.000000   7.000000   \n",
       "mean   15139.870571  18878.937857   9387.305714   258.840000  41.496143   \n",
       "std     2950.951932   2272.013493   2361.202572   438.835615   5.947910   \n",
       "min     9188.998000  16078.555000   5985.571000    62.755000  32.100000   \n",
       "25%    14940.678500  17392.816500   7720.098000    77.092500  38.556500   \n",
       "50%    15661.511000  18217.162000  10471.703000    88.359000  42.332000   \n",
       "75%    16260.619000  20251.048000  10909.176000   127.134000  43.957500   \n",
       "max    18725.990000  22569.119000  11995.318000  1252.313000  51.013000   \n",
       "\n",
       "           Gene6  \n",
       "count   7.000000  \n",
       "mean   30.772143  \n",
       "std     6.700381  \n",
       "min    20.265000  \n",
       "25%    26.297000  \n",
       "50%    32.258000  \n",
       "75%    35.974000  \n",
       "max    38.340000  "
      ]
     },
     "metadata": {},
     "output_type": "display_data"
    },
    {
     "data": {
      "text/html": [
       "<div>\n",
       "<style>\n",
       "    .dataframe thead tr:only-child th {\n",
       "        text-align: right;\n",
       "    }\n",
       "\n",
       "    .dataframe thead th {\n",
       "        text-align: left;\n",
       "    }\n",
       "\n",
       "    .dataframe tbody tr th {\n",
       "        vertical-align: top;\n",
       "    }\n",
       "</style>\n",
       "<table border=\"1\" class=\"dataframe\">\n",
       "  <thead>\n",
       "    <tr style=\"text-align: right;\">\n",
       "      <th></th>\n",
       "      <th>Gene1</th>\n",
       "      <th>Gene2</th>\n",
       "      <th>Gene3</th>\n",
       "      <th>Gene4</th>\n",
       "      <th>Gene5</th>\n",
       "      <th>Gene6</th>\n",
       "    </tr>\n",
       "  </thead>\n",
       "  <tbody>\n",
       "    <tr>\n",
       "      <th>count</th>\n",
       "      <td>151.000000</td>\n",
       "      <td>151.000000</td>\n",
       "      <td>151.000000</td>\n",
       "      <td>151.000000</td>\n",
       "      <td>151.000000</td>\n",
       "      <td>151.000000</td>\n",
       "    </tr>\n",
       "    <tr>\n",
       "      <th>mean</th>\n",
       "      <td>13608.552040</td>\n",
       "      <td>16866.263377</td>\n",
       "      <td>8506.073265</td>\n",
       "      <td>80.970517</td>\n",
       "      <td>40.547033</td>\n",
       "      <td>30.215530</td>\n",
       "    </tr>\n",
       "    <tr>\n",
       "      <th>std</th>\n",
       "      <td>3091.638953</td>\n",
       "      <td>2737.191925</td>\n",
       "      <td>2474.180091</td>\n",
       "      <td>10.138796</td>\n",
       "      <td>4.952128</td>\n",
       "      <td>4.832408</td>\n",
       "    </tr>\n",
       "    <tr>\n",
       "      <th>min</th>\n",
       "      <td>4216.792000</td>\n",
       "      <td>9000.672000</td>\n",
       "      <td>2076.031000</td>\n",
       "      <td>57.577000</td>\n",
       "      <td>29.299000</td>\n",
       "      <td>21.090000</td>\n",
       "    </tr>\n",
       "    <tr>\n",
       "      <th>25%</th>\n",
       "      <td>12061.415500</td>\n",
       "      <td>15236.947000</td>\n",
       "      <td>7217.568000</td>\n",
       "      <td>73.264500</td>\n",
       "      <td>37.288500</td>\n",
       "      <td>26.948000</td>\n",
       "    </tr>\n",
       "    <tr>\n",
       "      <th>50%</th>\n",
       "      <td>13512.042000</td>\n",
       "      <td>16941.197000</td>\n",
       "      <td>8870.878000</td>\n",
       "      <td>80.689000</td>\n",
       "      <td>40.281000</td>\n",
       "      <td>29.791000</td>\n",
       "    </tr>\n",
       "    <tr>\n",
       "      <th>75%</th>\n",
       "      <td>15896.543500</td>\n",
       "      <td>18730.372000</td>\n",
       "      <td>10103.303000</td>\n",
       "      <td>87.717000</td>\n",
       "      <td>42.876000</td>\n",
       "      <td>33.190000</td>\n",
       "    </tr>\n",
       "    <tr>\n",
       "      <th>max</th>\n",
       "      <td>21642.619000</td>\n",
       "      <td>23432.793000</td>\n",
       "      <td>13809.735000</td>\n",
       "      <td>116.463000</td>\n",
       "      <td>54.990000</td>\n",
       "      <td>56.933000</td>\n",
       "    </tr>\n",
       "  </tbody>\n",
       "</table>\n",
       "</div>"
      ],
      "text/plain": [
       "              Gene1         Gene2         Gene3       Gene4       Gene5  \\\n",
       "count    151.000000    151.000000    151.000000  151.000000  151.000000   \n",
       "mean   13608.552040  16866.263377   8506.073265   80.970517   40.547033   \n",
       "std     3091.638953   2737.191925   2474.180091   10.138796    4.952128   \n",
       "min     4216.792000   9000.672000   2076.031000   57.577000   29.299000   \n",
       "25%    12061.415500  15236.947000   7217.568000   73.264500   37.288500   \n",
       "50%    13512.042000  16941.197000   8870.878000   80.689000   40.281000   \n",
       "75%    15896.543500  18730.372000  10103.303000   87.717000   42.876000   \n",
       "max    21642.619000  23432.793000  13809.735000  116.463000   54.990000   \n",
       "\n",
       "            Gene6  \n",
       "count  151.000000  \n",
       "mean    30.215530  \n",
       "std      4.832408  \n",
       "min     21.090000  \n",
       "25%     26.948000  \n",
       "50%     29.791000  \n",
       "75%     33.190000  \n",
       "max     56.933000  "
      ]
     },
     "metadata": {},
     "output_type": "display_data"
    },
    {
     "data": {
      "text/html": [
       "<style>\n",
       ".output {\n",
       "    flex-direction: row;\n",
       "}\n",
       "</style>"
      ],
      "text/plain": [
       "<IPython.core.display.HTML object>"
      ]
     },
     "execution_count": 9,
     "metadata": {},
     "output_type": "execute_result"
    }
   ],
   "source": [
    "patients_death = patient_data[patient_data.Result == \"09: Death\"]\n",
    "patients_alive = patient_data[patient_data.Result != \"09: Death\"]\n",
    "\n",
    "gene_names = [\"Gene1\", \"Gene2\", \"Gene3\", \"Gene4\", \"Gene5\", \"Gene6\"]\n",
    "\n",
    "display(patients_death[gene_names].describe())\n",
    "display(patients_alive[gene_names].describe())\n",
    "\n",
    "HTML('<style>{}</style>'.format(CSS))"
   ]
  },
  {
   "cell_type": "markdown",
   "metadata": {},
   "source": [
    "Looking at the mean, **Gene4** seems to be a good one to predict the death of the patient, since it is much higher on the dead patients that in the alive ones.\n",
    "But the median (50% in the tables) say otherwise, I smell something fishy, let's see the plot of the data!"
   ]
  },
  {
   "cell_type": "code",
   "execution_count": 10,
   "metadata": {},
   "outputs": [
    {
     "data": {
      "image/png": "[encoded data removed]",
      "text/plain": [
       "<IPython.core.display.Image object>"
      ]
     },
     "metadata": {
      "image/png": {
       "unconfined": true,
       "width": 2000
      }
     },
     "output_type": "display_data"
    }
   ],
   "source": [
    "display(Image('./profileGraph.png', width=2000, unconfined=True))"
   ]
  },
  {
   "cell_type": "markdown",
   "metadata": {},
   "source": [
    "So, it seems like our result was caused by an outlier! Therefore, there is no clear difference between the expression of gene4 on the dead and alive patients. (From the dataset of 55k genes I didn't find any gene with a significant difference between the groups)."
   ]
  },
  {
   "cell_type": "markdown",
   "metadata": {},
   "source": [
    "# Exercise time\n",
    "\n",
    "Ok guys, it's time to put to practice Summary Statistics. Please open the Exercises on the Exercise folder and let the biostatistics begin! :)"
   ]
  }
 ],
 "metadata": {
  "kernelspec": {
   "display_name": "Python 3",
   "language": "python",
   "name": "python3"
  },
  "language_info": {
   "codemirror_mode": {
    "name": "ipython",
    "version": 3
   },
   "file_extension": ".py",
   "mimetype": "text/x-python",
   "name": "python",
   "nbconvert_exporter": "python",
   "pygments_lexer": "ipython3",
   "version": "3.6.1"
  }
 },
 "nbformat": 4,
 "nbformat_minor": 2
}
