{
 "cells": [
  {
   "cell_type": "markdown",
   "metadata": {},
   "source": [
    "# Summary Statistics\n",
    "In these exercises you'll use a real life medical dataset to learn how to obtain basic statistics from the data. This dataset comes from [Gluegrant](https://www.gluegrant.org/), an American project that aims to find a which genes are more important for the recovery of severely injured patients! It was sightly edited to remove some complexities, but if you wish to check it out in it's full glory, it's available on the website and I can show it to you! \n",
    "\n",
    "Have fun being a biostaticist for 1 hour! :)\n",
    "\n",
    "## Objectives\n",
    "\n",
    "In this exercise the objective if for you to learn how to use Pandas functions to obtain simple statistics of Datasets.\n",
    "\n",
    "## Dataset information\n",
    "\n",
    "The dataset is a medical dataset with 184 patients, distributed into 2 test groups where each group divided in 2, patients and control.\n",
    "The dataset is composed of clinical values:\n",
    "* Patient.id\n",
    "* Age\n",
    "* Sex\n",
    "* Group (to what group they belong)\n",
    "* Results (outcome of the patient)\n",
    "\n",
    "and of the gene expression (higher = more expressed):\n",
    "* Gene1: [MMP9](https://www.ncbi.nlm.nih.gov/gene/4318)\n",
    "* Gene2: [S100A12](https://www.ncbi.nlm.nih.gov/gene/6283)\n",
    "* Gene3: [MCEMP1](https://www.ncbi.nlm.nih.gov/gene/199675)\n",
    "* Gene4: [ACSL1](https://www.ncbi.nlm.nih.gov/gene/2180)\n",
    "* Gene5: [SLC7A2](https://www.ncbi.nlm.nih.gov/gene/6542)\n",
    "* Gene6: [CDC14B](https://www.ncbi.nlm.nih.gov/gene/8555)\n",
    "\n",
    "**Don't worry if you are not from a biological background**, consider that these genes are simply numeric values related to the patient. We will not delve into the biological meaning of any of the genes, we'll only try to find if there are differences between the gene values for the different groups!\n",
    "\n",
    "Ok, introductions aside, **please have fun being a biostaticist for 45 minutes! :P** Any doubt, please call me or any of the other professors!\n",
    "\n",
    "### Import Data"
   ]
  },
  {
   "cell_type": "code",
   "execution_count": 2,
   "metadata": {},
   "outputs": [
    {
     "data": {
      "text/html": [
       "<div>\n",
       "<style>\n",
       "    .dataframe thead tr:only-child th {\n",
       "        text-align: right;\n",
       "    }\n",
       "\n",
       "    .dataframe thead th {\n",
       "        text-align: left;\n",
       "    }\n",
       "\n",
       "    .dataframe tbody tr th {\n",
       "        vertical-align: top;\n",
       "    }\n",
       "</style>\n",
       "<table border=\"1\" class=\"dataframe\">\n",
       "  <thead>\n",
       "    <tr style=\"text-align: right;\">\n",
       "      <th></th>\n",
       "      <th>Patient_id</th>\n",
       "      <th>Age</th>\n",
       "      <th>Sex</th>\n",
       "      <th>Result</th>\n",
       "      <th>Group</th>\n",
       "      <th>Gene1</th>\n",
       "      <th>Gene2</th>\n",
       "      <th>Gene3</th>\n",
       "      <th>Gene4</th>\n",
       "      <th>Gene5</th>\n",
       "      <th>Gene6</th>\n",
       "    </tr>\n",
       "  </thead>\n",
       "  <tbody>\n",
       "    <tr>\n",
       "      <th>0</th>\n",
       "      <td>1</td>\n",
       "      <td>20</td>\n",
       "      <td>male</td>\n",
       "      <td>control</td>\n",
       "      <td>Control</td>\n",
       "      <td>950.444</td>\n",
       "      <td>5609.021</td>\n",
       "      <td>530.861</td>\n",
       "      <td>5561.673</td>\n",
       "      <td>38.539</td>\n",
       "      <td>32.496</td>\n",
       "    </tr>\n",
       "    <tr>\n",
       "      <th>1</th>\n",
       "      <td>2</td>\n",
       "      <td>34</td>\n",
       "      <td>female</td>\n",
       "      <td>control</td>\n",
       "      <td>Control</td>\n",
       "      <td>728.066</td>\n",
       "      <td>3337.738</td>\n",
       "      <td>271.314</td>\n",
       "      <td>4444.388</td>\n",
       "      <td>37.117</td>\n",
       "      <td>30.645</td>\n",
       "    </tr>\n",
       "    <tr>\n",
       "      <th>2</th>\n",
       "      <td>3</td>\n",
       "      <td>40</td>\n",
       "      <td>female</td>\n",
       "      <td>control</td>\n",
       "      <td>Control</td>\n",
       "      <td>1208.076</td>\n",
       "      <td>4430.424</td>\n",
       "      <td>520.859</td>\n",
       "      <td>4378.873</td>\n",
       "      <td>41.698</td>\n",
       "      <td>29.476</td>\n",
       "    </tr>\n",
       "    <tr>\n",
       "      <th>3</th>\n",
       "      <td>4</td>\n",
       "      <td>31</td>\n",
       "      <td>male</td>\n",
       "      <td>control</td>\n",
       "      <td>Control</td>\n",
       "      <td>3426.842</td>\n",
       "      <td>6524.846</td>\n",
       "      <td>842.426</td>\n",
       "      <td>6802.140</td>\n",
       "      <td>36.682</td>\n",
       "      <td>32.125</td>\n",
       "    </tr>\n",
       "    <tr>\n",
       "      <th>4</th>\n",
       "      <td>5</td>\n",
       "      <td>21</td>\n",
       "      <td>female</td>\n",
       "      <td>control</td>\n",
       "      <td>Control</td>\n",
       "      <td>3781.265</td>\n",
       "      <td>7916.231</td>\n",
       "      <td>574.768</td>\n",
       "      <td>4937.560</td>\n",
       "      <td>34.877</td>\n",
       "      <td>27.416</td>\n",
       "    </tr>\n",
       "  </tbody>\n",
       "</table>\n",
       "</div>"
      ],
      "text/plain": [
       "   Patient_id  Age     Sex   Result    Group     Gene1     Gene2    Gene3  \\\n",
       "0           1   20    male  control  Control   950.444  5609.021  530.861   \n",
       "1           2   34  female  control  Control   728.066  3337.738  271.314   \n",
       "2           3   40  female  control  Control  1208.076  4430.424  520.859   \n",
       "3           4   31    male  control  Control  3426.842  6524.846  842.426   \n",
       "4           5   21  female  control  Control  3781.265  7916.231  574.768   \n",
       "\n",
       "      Gene4   Gene5   Gene6  \n",
       "0  5561.673  38.539  32.496  \n",
       "1  4444.388  37.117  30.645  \n",
       "2  4378.873  41.698  29.476  \n",
       "3  6802.140  36.682  32.125  \n",
       "4  4937.560  34.877  27.416  "
      ]
     },
     "execution_count": 2,
     "metadata": {},
     "output_type": "execute_result"
    }
   ],
   "source": [
    "import pandas as pd\n",
    "import numpy as np\n",
    "from IPython.display import display, HTML\n",
    "\n",
    "CSS = \"\"\"\n",
    ".output {\n",
    "    flex-direction: row;\n",
    "}\n",
    "\"\"\"\n",
    "\n",
    "patient_data = pd.read_csv(\"../data/Exercises_Summary_Statistics_Data.csv\")\n",
    "\n",
    "patient_data.head()"
   ]
  },
  {
   "cell_type": "markdown",
   "metadata": {},
   "source": [
    "# Exercise 1 - Lets get a quick look at the groups\n",
    "\n",
    "Ok, first lets get a quick look at who is in each of the groups. In medical studies it's important that the control and patient groups aren't too different from each other, so that we can draw relevant results.\n",
    "\n",
    "### Separate the patients and control into 2 dataframes\n",
    "Since we are going to perform multiple statistics on the patient and control groups, we should create a variable for each one of the groups, so that we mantain our code readable!\n",
    "\n",
    "_Remember:_ If you want to subset the comand is: Name_of_dataframe[Name_of_dataframe.column == \"Value\"]"
   ]
  },
  {
   "cell_type": "code",
   "execution_count": 16,
   "metadata": {
    "collapsed": true
   },
   "outputs": [],
   "source": [
    "patients = patient_data[patient_data.Group == \"Patient\"]\n",
    "control = patient_data[patient_data.Group == \"Control\"]"
   ]
  },
  {
   "cell_type": "markdown",
   "metadata": {},
   "source": [
    "### Find out the Age means for each of the groups\n",
    "_Remember_: To find the mean of a dataframe column, just use Name_of_dataframe.column.mean()"
   ]
  },
  {
   "cell_type": "code",
   "execution_count": 148,
   "metadata": {},
   "outputs": [
    {
     "name": "stdout",
     "output_type": "stream",
     "text": [
      "The patient mean age is: 33.64556962025316 and the control mean age is: 29.884615384615383 \t\n"
     ]
    }
   ],
   "source": [
    "patient_mean = patients.Age.mean()\n",
    "control_mean = control.Age.mean()\n",
    "\n",
    "print(\"The patient mean age is:\", patient_mean, \"and the control mean age is:\", control_mean, \"\\t\")"
   ]
  },
  {
   "cell_type": "markdown",
   "metadata": {},
   "source": [
    "### Find the Median of each group\n",
    "As seen on the presentation, the mean can affected by outliers on the data, lets check that out with the median.\n",
    "\n",
    "_Remember_: To find the median of a dataframecolumn, just use Name_of_dataframe.column.median()"
   ]
  },
  {
   "cell_type": "code",
   "execution_count": 147,
   "metadata": {},
   "outputs": [
    {
     "name": "stdout",
     "output_type": "stream",
     "text": [
      "The patient median age is: 33.0 and the control median age is: 28.0 \t\n"
     ]
    }
   ],
   "source": [
    "patient_median = patients.Age.median()\n",
    "control_median = control.Age.median()\n",
    "\n",
    "print(\"The patient median age is:\", patient_median, \"and the control median age is:\", control_median, \"\\t\")"
   ]
  },
  {
   "cell_type": "markdown",
   "metadata": {},
   "source": [
    "### Results - Mean / Median\n",
    "Is there a significant difference of the mean and median?"
   ]
  },
  {
   "cell_type": "raw",
   "metadata": {},
   "source": []
  },
  {
   "cell_type": "markdown",
   "metadata": {},
   "source": [
    "(_Optional_): Is there a significant difference between the age of the Patients and Control? Consider that this dataset is composed mainly of people injured using powertools or other type of machinery, therefore, it's composed mainly of people in working age 20-ish to 60-ish."
   ]
  },
  {
   "cell_type": "raw",
   "metadata": {},
   "source": []
  },
  {
   "cell_type": "markdown",
   "metadata": {},
   "source": [
    "### Find the Standard deviation of each group\n",
    "Let's see if there is a large deviation from the mean in each of the groups.\n",
    "\n",
    "_Remember:_ The standard deviation is taken as Name_of_dataframe.column.std()"
   ]
  },
  {
   "cell_type": "code",
   "execution_count": 145,
   "metadata": {},
   "outputs": [
    {
     "name": "stdout",
     "output_type": "stream",
     "text": [
      "The patient std is: 11.166987259352279 and the control std is: 10.195398660481787 \t\n"
     ]
    }
   ],
   "source": [
    "patient_std = patients.Age.std()\n",
    "control_std = control.Age.std()\n",
    "\n",
    "print(\"The patient std is:\", patient_std, \"and the control std is:\", control_std, \"\\t\")"
   ]
  },
  {
   "cell_type": "markdown",
   "metadata": {},
   "source": [
    "### Find the quantiles\n",
    "Let's use the quantiles to obtain the dispersion of the groups.\n",
    "\n",
    "_Remember:_ The quantiles are obtained using the comand Name_of_dataframe.column.quantile(q=[percentages])"
   ]
  },
  {
   "cell_type": "code",
   "execution_count": 132,
   "metadata": {},
   "outputs": [
    {
     "name": "stdout",
     "output_type": "stream",
     "text": [
      "Patients:\f",
      "\n"
     ]
    },
    {
     "data": {
      "text/html": [
       "<div>\n",
       "<style>\n",
       "    .dataframe thead tr:only-child th {\n",
       "        text-align: right;\n",
       "    }\n",
       "\n",
       "    .dataframe thead th {\n",
       "        text-align: left;\n",
       "    }\n",
       "\n",
       "    .dataframe tbody tr th {\n",
       "        vertical-align: top;\n",
       "    }\n",
       "</style>\n",
       "<table border=\"1\" class=\"dataframe\">\n",
       "  <thead>\n",
       "    <tr style=\"text-align: right;\">\n",
       "      <th></th>\n",
       "      <th>Age</th>\n",
       "    </tr>\n",
       "  </thead>\n",
       "  <tbody>\n",
       "    <tr>\n",
       "      <th>0.00</th>\n",
       "      <td>16.0</td>\n",
       "    </tr>\n",
       "    <tr>\n",
       "      <th>0.25</th>\n",
       "      <td>24.0</td>\n",
       "    </tr>\n",
       "    <tr>\n",
       "      <th>0.50</th>\n",
       "      <td>33.0</td>\n",
       "    </tr>\n",
       "    <tr>\n",
       "      <th>0.75</th>\n",
       "      <td>43.0</td>\n",
       "    </tr>\n",
       "    <tr>\n",
       "      <th>1.00</th>\n",
       "      <td>55.0</td>\n",
       "    </tr>\n",
       "  </tbody>\n",
       "</table>\n",
       "</div>"
      ],
      "text/plain": [
       "       Age\n",
       "0.00  16.0\n",
       "0.25  24.0\n",
       "0.50  33.0\n",
       "0.75  43.0\n",
       "1.00  55.0"
      ]
     },
     "metadata": {},
     "output_type": "display_data"
    },
    {
     "name": "stdout",
     "output_type": "stream",
     "text": [
      "Control:\f",
      "\n"
     ]
    },
    {
     "data": {
      "text/html": [
       "<div>\n",
       "<style>\n",
       "    .dataframe thead tr:only-child th {\n",
       "        text-align: right;\n",
       "    }\n",
       "\n",
       "    .dataframe thead th {\n",
       "        text-align: left;\n",
       "    }\n",
       "\n",
       "    .dataframe tbody tr th {\n",
       "        vertical-align: top;\n",
       "    }\n",
       "</style>\n",
       "<table border=\"1\" class=\"dataframe\">\n",
       "  <thead>\n",
       "    <tr style=\"text-align: right;\">\n",
       "      <th></th>\n",
       "      <th>Age</th>\n",
       "    </tr>\n",
       "  </thead>\n",
       "  <tbody>\n",
       "    <tr>\n",
       "      <th>0.00</th>\n",
       "      <td>17.0</td>\n",
       "    </tr>\n",
       "    <tr>\n",
       "      <th>0.25</th>\n",
       "      <td>21.5</td>\n",
       "    </tr>\n",
       "    <tr>\n",
       "      <th>0.50</th>\n",
       "      <td>28.0</td>\n",
       "    </tr>\n",
       "    <tr>\n",
       "      <th>0.75</th>\n",
       "      <td>34.0</td>\n",
       "    </tr>\n",
       "    <tr>\n",
       "      <th>1.00</th>\n",
       "      <td>54.0</td>\n",
       "    </tr>\n",
       "  </tbody>\n",
       "</table>\n",
       "</div>"
      ],
      "text/plain": [
       "       Age\n",
       "0.00  17.0\n",
       "0.25  21.5\n",
       "0.50  28.0\n",
       "0.75  34.0\n",
       "1.00  54.0"
      ]
     },
     "metadata": {},
     "output_type": "display_data"
    },
    {
     "data": {
      "text/html": [
       "<style>\n",
       ".output {\n",
       "    flex-direction: row;\n",
       "}\n",
       "</style>"
      ],
      "text/plain": [
       "<IPython.core.display.HTML object>"
      ]
     },
     "execution_count": 132,
     "metadata": {},
     "output_type": "execute_result"
    }
   ],
   "source": [
    "patient_quantiles = patients.Age.quantile(q=[0, 0.25, 0.5, 0.75, 1])\n",
    "control_quantiles = control.Age.quantile(q=[0, 0.25, 0.5, 0.75, 1])\n",
    "\n",
    "print(\"Patients:\\f\")\n",
    "display(pd.DataFrame(patient_quantiles))\n",
    "print(\"Control:\\f\")\n",
    "display(pd.DataFrame(control_quantiles))\n",
    "HTML('<style>{}</style>'.format(CSS))"
   ]
  },
  {
   "cell_type": "markdown",
   "metadata": {},
   "source": [
    "### Results - Interval Statistics"
   ]
  },
  {
   "cell_type": "markdown",
   "metadata": {},
   "source": [
    "(_Options_): Do the dispersion statistics show a significant difference in the dispersion of the data?"
   ]
  },
  {
   "cell_type": "raw",
   "metadata": {},
   "source": []
  },
  {
   "cell_type": "markdown",
   "metadata": {},
   "source": [
    "### Find out how many patients are male and how many are female\n",
    "\n",
    "Next, let's try to find out the number or each of the sexes and the prercantage of males in each of the groups.\n",
    "\n",
    "_Remember:_ To get a frequency table, use Name_of_dataframe.column.value_counts(). To get the number of a certain group do Name_of_dataframe.column.value_counts()[\"name_of_group\"]\n",
    "\n",
    "#### Number of male patients"
   ]
  },
  {
   "cell_type": "code",
   "execution_count": 142,
   "metadata": {},
   "outputs": [
    {
     "name": "stdout",
     "output_type": "stream",
     "text": [
      "The number of male patients is: 98 \n",
      "The number of female patients is: 60 \n",
      "And the percentage of males is: 0.620253164557 \t\n"
     ]
    }
   ],
   "source": [
    "num_male_patients = patients.Sex.value_counts()[\"male\"]\n",
    "num_female_patients = patients.Sex.value_counts()[\"female\"]\n",
    "\n",
    "print(\"The number of male patients is:\", num_male_patients, \\\n",
    "      \"\\nThe number of female patients is:\", num_female_patients, \\\n",
    "      \"\\nAnd the percentage of males is:\", num_male_patients / (num_male_patients + num_female_patients), \"\\t\")"
   ]
  },
  {
   "cell_type": "markdown",
   "metadata": {},
   "source": [
    "#### Number of male *control* patients"
   ]
  },
  {
   "cell_type": "code",
   "execution_count": 144,
   "metadata": {},
   "outputs": [
    {
     "name": "stdout",
     "output_type": "stream",
     "text": [
      "The number of male control patients is: 17 \n",
      "The number of female control patients is: 9 \n",
      "And the percentage of males is: 0.653846153846 \t\n"
     ]
    }
   ],
   "source": [
    "num_male_control = control.Sex.value_counts()[\"male\"]\n",
    "num_female_control = control.Sex.value_counts()[\"female\"]\n",
    "\n",
    "print(\"The number of male control patients is:\", num_male_control, \\\n",
    "      \"\\nThe number of female control patients is:\", num_female_control, \\\n",
    "      \"\\nAnd the percentage of males is:\", num_male_control / (num_male_control + num_female_control), \"\\t\")"
   ]
  },
  {
   "cell_type": "markdown",
   "metadata": {},
   "source": [
    "## Results - Percentage of the sexes\n",
    "(_Optional_): Is there a significant difference between the percentage of male patients and male control patients?"
   ]
  },
  {
   "cell_type": "raw",
   "metadata": {},
   "source": []
  },
  {
   "cell_type": "markdown",
   "metadata": {},
   "source": [
    "# Exercise 2 - Let the Biostatistics begin\n",
    "\n",
    "I have selected 6 genes from a total of ~55000. The objective here is for you to try to find genes that are different from the patient group and control group using the tools that you learned on exercise 1.\n",
    "\n",
    "### Gene 1"
   ]
  },
  {
   "cell_type": "code",
   "execution_count": 175,
   "metadata": {},
   "outputs": [
    {
     "name": "stdout",
     "output_type": "stream",
     "text": [
      "Patients: Mean = 13676.395265822784 Median = 13555.230500000001 Std = 3092.69814423062 \t\n",
      "Control:  Mean = 1156.0739230769232 Median = 947.1095 Std = 854.9755207222215 \t\n"
     ]
    }
   ],
   "source": [
    "gene1_patients = patients.Gene1\n",
    "gene1_control = control.Gene1\n",
    "\n",
    "# Mean\n",
    "mean_gene1_patients = gene1_patients.mean()\n",
    "mean_gene1_control = gene1_control.mean()\n",
    "\n",
    "# Median\n",
    "median_gene1_patients = gene1_patients.median()\n",
    "median_gene1_control = gene1_control.median()\n",
    "\n",
    "# Std\n",
    "std_gene1_patients = gene1_patients.std()\n",
    "std_gene1_control = gene1_control.std()\n",
    "\n",
    "print(\"Patients: Mean =\", mean_gene1_patients, \"Median =\", median_gene1_patients, \"Std =\", std_gene1_patients, \"\\t\")\n",
    "print(\"Control:  Mean =\", mean_gene1_control, \"Median =\", median_gene1_control, \"Std =\", std_gene1_control, \"\\t\")"
   ]
  },
  {
   "cell_type": "markdown",
   "metadata": {},
   "source": [
    "### Gene 2"
   ]
  },
  {
   "cell_type": "code",
   "execution_count": 176,
   "metadata": {},
   "outputs": [
    {
     "name": "stdout",
     "output_type": "stream",
     "text": [
      "Patients: Mean = 16955.432499999995 Median = 17023.491 Std = 2743.730488293748 \t\n",
      "Control:  Mean = 3439.741 Median = 3067.3015 Std = 1549.3355492407961 \t\n"
     ]
    }
   ],
   "source": [
    "gene2_patients = patients.Gene2\n",
    "gene2_control = control.Gene2\n",
    "\n",
    "# Mean\n",
    "mean_gene2_patients = gene2_patients.mean()\n",
    "mean_gene2_control = gene2_control.mean()\n",
    "\n",
    "# Median\n",
    "median_gene2_patients = gene2_patients.median()\n",
    "median_gene2_control = gene2_control.median()\n",
    "\n",
    "# Std\n",
    "std_gene2_patients = gene2_patients.std()\n",
    "std_gene2_control = gene2_control.std()\n",
    "\n",
    "print(\"Patients: Mean =\", mean_gene2_patients, \"Median =\", median_gene2_patients, \"Std =\", std_gene2_patients, \"\\t\")\n",
    "print(\"Control:  Mean =\", mean_gene2_control, \"Median =\", median_gene2_control, \"Std =\", std_gene2_control, \"\\t\")"
   ]
  },
  {
   "cell_type": "markdown",
   "metadata": {},
   "source": [
    "I will just **ask for one more gene**, since the process is entirely the same!\n",
    "\n",
    "### Gene 6"
   ]
  },
  {
   "cell_type": "code",
   "execution_count": 174,
   "metadata": {},
   "outputs": [
    {
     "name": "stdout",
     "output_type": "stream",
     "text": [
      "Patients: Mean = 30.24018987341772 Median = 29.8615 Std = 4.903053008532824 \t\n",
      "Control:  Mean = 30.018538461538462 Median = 29.8885 Std = 3.6831340701176676 \t\n"
     ]
    }
   ],
   "source": [
    "gene6_patients = patients.Gene6\n",
    "gene6_control = control.Gene6\n",
    "\n",
    "# Mean\n",
    "mean_gene6_patients = gene6_patients.mean()\n",
    "mean_gene6_control = gene6_control.mean()\n",
    "\n",
    "# Median\n",
    "median_gene6_patients = gene6_patients.median()\n",
    "median_gene6_control = gene6_control.median()\n",
    "\n",
    "# Std\n",
    "std_gene6_patients = gene6_patients.std()\n",
    "std_gene6_control = gene6_control.std()\n",
    "\n",
    "print(\"Patients: Mean =\", mean_gene6_patients, \"Median =\", median_gene6_patients, \"Std =\", std_gene6_patients, \"\\t\")\n",
    "print(\"Control:  Mean =\", mean_gene6_control, \"Median =\", median_gene6_control, \"Std =\", std_gene6_control, \"\\t\")"
   ]
  },
  {
   "cell_type": "markdown",
   "metadata": {},
   "source": [
    "### Results - Genes 1, 2 and 6\n",
    "\n",
    "Of the 3 genes, which ones do you believe are involved in the process of recovery?\n",
    "\n",
    "_Help:_ Recall that we have 2 groups, a group of patients that is recovering from a severe accident and a control group that are fine. You should look at the statistics for the 3 genes (mean, median and standard deviation [this last one is skippable]) and try to find differences!"
   ]
  },
  {
   "cell_type": "code",
   "execution_count": null,
   "metadata": {
    "collapsed": true
   },
   "outputs": [],
   "source": []
  },
  {
   "cell_type": "markdown",
   "metadata": {},
   "source": [
    "## Can we do this without so much code?\n",
    "\n",
    "Can we obtain the previous statistics for the 6 genes without all the effort?"
   ]
  },
  {
   "cell_type": "code",
   "execution_count": 190,
   "metadata": {},
   "outputs": [
    {
     "data": {
      "text/html": [
       "<div>\n",
       "<style>\n",
       "    .dataframe thead tr:only-child th {\n",
       "        text-align: right;\n",
       "    }\n",
       "\n",
       "    .dataframe thead th {\n",
       "        text-align: left;\n",
       "    }\n",
       "\n",
       "    .dataframe tbody tr th {\n",
       "        vertical-align: top;\n",
       "    }\n",
       "</style>\n",
       "<table border=\"1\" class=\"dataframe\">\n",
       "  <thead>\n",
       "    <tr style=\"text-align: right;\">\n",
       "      <th></th>\n",
       "      <th>Gene1</th>\n",
       "      <th>Gene2</th>\n",
       "      <th>Gene3</th>\n",
       "      <th>Gene4</th>\n",
       "      <th>Gene5</th>\n",
       "      <th>Gene6</th>\n",
       "    </tr>\n",
       "  </thead>\n",
       "  <tbody>\n",
       "    <tr>\n",
       "      <th>count</th>\n",
       "      <td>158.000000</td>\n",
       "      <td>158.000000</td>\n",
       "      <td>158.000000</td>\n",
       "      <td>158.000000</td>\n",
       "      <td>158.000000</td>\n",
       "      <td>158.000000</td>\n",
       "    </tr>\n",
       "    <tr>\n",
       "      <th>mean</th>\n",
       "      <td>13676.395266</td>\n",
       "      <td>16955.432500</td>\n",
       "      <td>8545.115209</td>\n",
       "      <td>10893.511563</td>\n",
       "      <td>40.589082</td>\n",
       "      <td>30.240190</td>\n",
       "    </tr>\n",
       "    <tr>\n",
       "      <th>std</th>\n",
       "      <td>3092.698144</td>\n",
       "      <td>2743.730488</td>\n",
       "      <td>2468.762672</td>\n",
       "      <td>1215.103278</td>\n",
       "      <td>4.982023</td>\n",
       "      <td>4.903053</td>\n",
       "    </tr>\n",
       "    <tr>\n",
       "      <th>min</th>\n",
       "      <td>4216.792000</td>\n",
       "      <td>9000.672000</td>\n",
       "      <td>2076.031000</td>\n",
       "      <td>5794.872000</td>\n",
       "      <td>29.299000</td>\n",
       "      <td>20.265000</td>\n",
       "    </tr>\n",
       "    <tr>\n",
       "      <th>50%</th>\n",
       "      <td>13555.230500</td>\n",
       "      <td>17023.491000</td>\n",
       "      <td>8901.650500</td>\n",
       "      <td>11141.368500</td>\n",
       "      <td>40.286500</td>\n",
       "      <td>29.861500</td>\n",
       "    </tr>\n",
       "    <tr>\n",
       "      <th>max</th>\n",
       "      <td>21642.619000</td>\n",
       "      <td>23432.793000</td>\n",
       "      <td>13809.735000</td>\n",
       "      <td>13716.356000</td>\n",
       "      <td>54.990000</td>\n",
       "      <td>56.933000</td>\n",
       "    </tr>\n",
       "  </tbody>\n",
       "</table>\n",
       "</div>"
      ],
      "text/plain": [
       "              Gene1         Gene2         Gene3         Gene4       Gene5  \\\n",
       "count    158.000000    158.000000    158.000000    158.000000  158.000000   \n",
       "mean   13676.395266  16955.432500   8545.115209  10893.511563   40.589082   \n",
       "std     3092.698144   2743.730488   2468.762672   1215.103278    4.982023   \n",
       "min     4216.792000   9000.672000   2076.031000   5794.872000   29.299000   \n",
       "50%    13555.230500  17023.491000   8901.650500  11141.368500   40.286500   \n",
       "max    21642.619000  23432.793000  13809.735000  13716.356000   54.990000   \n",
       "\n",
       "            Gene6  \n",
       "count  158.000000  \n",
       "mean    30.240190  \n",
       "std      4.903053  \n",
       "min     20.265000  \n",
       "50%     29.861500  \n",
       "max     56.933000  "
      ]
     },
     "metadata": {},
     "output_type": "display_data"
    },
    {
     "data": {
      "text/html": [
       "<div>\n",
       "<style>\n",
       "    .dataframe thead tr:only-child th {\n",
       "        text-align: right;\n",
       "    }\n",
       "\n",
       "    .dataframe thead th {\n",
       "        text-align: left;\n",
       "    }\n",
       "\n",
       "    .dataframe tbody tr th {\n",
       "        vertical-align: top;\n",
       "    }\n",
       "</style>\n",
       "<table border=\"1\" class=\"dataframe\">\n",
       "  <thead>\n",
       "    <tr style=\"text-align: right;\">\n",
       "      <th></th>\n",
       "      <th>Gene1</th>\n",
       "      <th>Gene2</th>\n",
       "      <th>Gene3</th>\n",
       "      <th>Gene4</th>\n",
       "      <th>Gene5</th>\n",
       "      <th>Gene6</th>\n",
       "    </tr>\n",
       "  </thead>\n",
       "  <tbody>\n",
       "    <tr>\n",
       "      <th>count</th>\n",
       "      <td>26.000000</td>\n",
       "      <td>26.000000</td>\n",
       "      <td>26.000000</td>\n",
       "      <td>26.000000</td>\n",
       "      <td>26.000000</td>\n",
       "      <td>26.000000</td>\n",
       "    </tr>\n",
       "    <tr>\n",
       "      <th>mean</th>\n",
       "      <td>1156.073923</td>\n",
       "      <td>3439.741000</td>\n",
       "      <td>469.361115</td>\n",
       "      <td>4625.444269</td>\n",
       "      <td>40.434962</td>\n",
       "      <td>30.018538</td>\n",
       "    </tr>\n",
       "    <tr>\n",
       "      <th>std</th>\n",
       "      <td>854.975521</td>\n",
       "      <td>1549.335549</td>\n",
       "      <td>146.219868</td>\n",
       "      <td>785.497970</td>\n",
       "      <td>4.406569</td>\n",
       "      <td>3.683134</td>\n",
       "    </tr>\n",
       "    <tr>\n",
       "      <th>min</th>\n",
       "      <td>308.670000</td>\n",
       "      <td>1729.328000</td>\n",
       "      <td>253.831000</td>\n",
       "      <td>2943.397000</td>\n",
       "      <td>34.290000</td>\n",
       "      <td>23.870000</td>\n",
       "    </tr>\n",
       "    <tr>\n",
       "      <th>50%</th>\n",
       "      <td>947.109500</td>\n",
       "      <td>3067.301500</td>\n",
       "      <td>428.851500</td>\n",
       "      <td>4576.891000</td>\n",
       "      <td>39.957500</td>\n",
       "      <td>29.888500</td>\n",
       "    </tr>\n",
       "    <tr>\n",
       "      <th>max</th>\n",
       "      <td>3781.265000</td>\n",
       "      <td>7916.231000</td>\n",
       "      <td>842.426000</td>\n",
       "      <td>6802.140000</td>\n",
       "      <td>50.098000</td>\n",
       "      <td>38.250000</td>\n",
       "    </tr>\n",
       "  </tbody>\n",
       "</table>\n",
       "</div>"
      ],
      "text/plain": [
       "             Gene1        Gene2       Gene3        Gene4      Gene5      Gene6\n",
       "count    26.000000    26.000000   26.000000    26.000000  26.000000  26.000000\n",
       "mean   1156.073923  3439.741000  469.361115  4625.444269  40.434962  30.018538\n",
       "std     854.975521  1549.335549  146.219868   785.497970   4.406569   3.683134\n",
       "min     308.670000  1729.328000  253.831000  2943.397000  34.290000  23.870000\n",
       "50%     947.109500  3067.301500  428.851500  4576.891000  39.957500  29.888500\n",
       "max    3781.265000  7916.231000  842.426000  6802.140000  50.098000  38.250000"
      ]
     },
     "metadata": {},
     "output_type": "display_data"
    }
   ],
   "source": [
    "gene_names = [\"Gene1\", \"Gene2\", \"Gene3\", \"Gene4\", \"Gene5\", \"Gene6\"]\n",
    "\n",
    "display(patients[gene_names].describe(percentiles = []))\n",
    "display(control[gene_names].describe(percentiles = []))"
   ]
  },
  {
   "cell_type": "markdown",
   "metadata": {},
   "source": [
    "What if we want the a measure of difference for each gene?"
   ]
  },
  {
   "cell_type": "code",
   "execution_count": 203,
   "metadata": {},
   "outputs": [
    {
     "data": {
      "text/plain": [
       "Gene1    11.830035\n",
       "Gene2     4.929276\n",
       "Gene3    18.205844\n",
       "Gene4     2.355128\n",
       "Gene5     1.003812\n",
       "Gene6     1.007384\n",
       "dtype: float64"
      ]
     },
     "metadata": {},
     "output_type": "display_data"
    },
    {
     "data": {
      "text/plain": [
       "array([50, 21, 34, 33, 26, 47, 40, 48, 45, 43, 51, 41, 27, 28, 16, 32, 31,\n",
       "       55, 49, 24, 22, 20, 54, 37, 52, 46, 35, 19, 18, 25, 44, 30, 23, 17,\n",
       "       36, 29, 38, 39], dtype=int64)"
      ]
     },
     "execution_count": 203,
     "metadata": {},
     "output_type": "execute_result"
    }
   ],
   "source": [
    "display(patients[gene_names].mean() / control[gene_names].mean())\n",
    "\n"
   ]
  }
 ],
 "metadata": {
  "kernelspec": {
   "display_name": "Python 3",
   "language": "python",
   "name": "python3"
  },
  "language_info": {
   "codemirror_mode": {
    "name": "ipython",
    "version": 3
   },
   "file_extension": ".py",
   "mimetype": "text/x-python",
   "name": "python",
   "nbconvert_exporter": "python",
   "pygments_lexer": "ipython3",
   "version": "3.6.1"
  }
 },
 "nbformat": 4,
 "nbformat_minor": 2
}
