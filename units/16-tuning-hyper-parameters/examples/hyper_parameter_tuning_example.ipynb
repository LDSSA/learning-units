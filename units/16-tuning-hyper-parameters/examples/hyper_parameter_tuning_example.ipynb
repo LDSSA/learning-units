{
  "cells": [
    {
      "cell_type": "code",
      "source": [
        "import pandas as pd \n",
        "import numpy as np \n",
        "% matplotlib inline\n",
        "from matplotlib import pyplot as plt"
      ],
      "outputs": [],
      "execution_count": 15,
      "metadata": {
        "collapsed": false,
        "outputHidden": false,
        "inputHidden": false
      }
    },
    {
      "cell_type": "markdown",
      "source": [
        "# Import the data:\n",
        "\nDuring this example we will be using a dataset of politicians affairs. This dataset has a number of politicians, their attributes and the number of affairs in the past."
      ],
      "metadata": {}
    },
    {
      "cell_type": "code",
      "source": [
        "path_to_data = r'E:\\Universidade\\Projects\\DSSA\\learning-units\\units\\16-tuning-hyper-parameters\\data\\affairs.csv'\n",
        "\n",
        "data = pd.read_csv(path_to_data)\n",
        "data.head(10)"
      ],
      "outputs": [
        {
          "output_type": "execute_result",
          "execution_count": 16,
          "data": {
            "text/html": [
              "<div>\n",
              "<table border=\"1\" class=\"dataframe\">\n",
              "  <thead>\n",
              "    <tr style=\"text-align: right;\">\n",
              "      <th></th>\n",
              "      <th>sex</th>\n",
              "      <th>age</th>\n",
              "      <th>ym</th>\n",
              "      <th>child</th>\n",
              "      <th>religious</th>\n",
              "      <th>education</th>\n",
              "      <th>occupation</th>\n",
              "      <th>rate</th>\n",
              "      <th>nbaffairs</th>\n",
              "    </tr>\n",
              "  </thead>\n",
              "  <tbody>\n",
              "    <tr>\n",
              "      <th>0</th>\n",
              "      <td>male</td>\n",
              "      <td>37.0</td>\n",
              "      <td>10.00</td>\n",
              "      <td>no</td>\n",
              "      <td>3</td>\n",
              "      <td>18</td>\n",
              "      <td>7</td>\n",
              "      <td>4</td>\n",
              "      <td>0</td>\n",
              "    </tr>\n",
              "    <tr>\n",
              "      <th>1</th>\n",
              "      <td>female</td>\n",
              "      <td>27.0</td>\n",
              "      <td>4.00</td>\n",
              "      <td>no</td>\n",
              "      <td>4</td>\n",
              "      <td>14</td>\n",
              "      <td>6</td>\n",
              "      <td>4</td>\n",
              "      <td>0</td>\n",
              "    </tr>\n",
              "    <tr>\n",
              "      <th>2</th>\n",
              "      <td>female</td>\n",
              "      <td>32.0</td>\n",
              "      <td>15.00</td>\n",
              "      <td>yes</td>\n",
              "      <td>1</td>\n",
              "      <td>12</td>\n",
              "      <td>1</td>\n",
              "      <td>4</td>\n",
              "      <td>0</td>\n",
              "    </tr>\n",
              "    <tr>\n",
              "      <th>3</th>\n",
              "      <td>male</td>\n",
              "      <td>57.0</td>\n",
              "      <td>15.00</td>\n",
              "      <td>yes</td>\n",
              "      <td>5</td>\n",
              "      <td>18</td>\n",
              "      <td>6</td>\n",
              "      <td>5</td>\n",
              "      <td>0</td>\n",
              "    </tr>\n",
              "    <tr>\n",
              "      <th>4</th>\n",
              "      <td>male</td>\n",
              "      <td>22.0</td>\n",
              "      <td>0.75</td>\n",
              "      <td>no</td>\n",
              "      <td>2</td>\n",
              "      <td>17</td>\n",
              "      <td>6</td>\n",
              "      <td>3</td>\n",
              "      <td>0</td>\n",
              "    </tr>\n",
              "    <tr>\n",
              "      <th>5</th>\n",
              "      <td>female</td>\n",
              "      <td>32.0</td>\n",
              "      <td>1.50</td>\n",
              "      <td>no</td>\n",
              "      <td>2</td>\n",
              "      <td>17</td>\n",
              "      <td>5</td>\n",
              "      <td>5</td>\n",
              "      <td>0</td>\n",
              "    </tr>\n",
              "    <tr>\n",
              "      <th>6</th>\n",
              "      <td>female</td>\n",
              "      <td>22.0</td>\n",
              "      <td>0.75</td>\n",
              "      <td>no</td>\n",
              "      <td>2</td>\n",
              "      <td>12</td>\n",
              "      <td>1</td>\n",
              "      <td>3</td>\n",
              "      <td>0</td>\n",
              "    </tr>\n",
              "    <tr>\n",
              "      <th>7</th>\n",
              "      <td>male</td>\n",
              "      <td>57.0</td>\n",
              "      <td>15.00</td>\n",
              "      <td>yes</td>\n",
              "      <td>2</td>\n",
              "      <td>14</td>\n",
              "      <td>4</td>\n",
              "      <td>4</td>\n",
              "      <td>0</td>\n",
              "    </tr>\n",
              "    <tr>\n",
              "      <th>8</th>\n",
              "      <td>female</td>\n",
              "      <td>32.0</td>\n",
              "      <td>15.00</td>\n",
              "      <td>yes</td>\n",
              "      <td>4</td>\n",
              "      <td>16</td>\n",
              "      <td>1</td>\n",
              "      <td>2</td>\n",
              "      <td>0</td>\n",
              "    </tr>\n",
              "    <tr>\n",
              "      <th>9</th>\n",
              "      <td>male</td>\n",
              "      <td>22.0</td>\n",
              "      <td>1.50</td>\n",
              "      <td>no</td>\n",
              "      <td>4</td>\n",
              "      <td>14</td>\n",
              "      <td>4</td>\n",
              "      <td>5</td>\n",
              "      <td>0</td>\n",
              "    </tr>\n",
              "  </tbody>\n",
              "</table>\n",
              "</div>"
            ],
            "text/plain": [
              "      sex   age     ym child  religious  education  occupation  rate  \\\n",
              "0    male  37.0  10.00    no          3         18           7     4   \n",
              "1  female  27.0   4.00    no          4         14           6     4   \n",
              "2  female  32.0  15.00   yes          1         12           1     4   \n",
              "3    male  57.0  15.00   yes          5         18           6     5   \n",
              "4    male  22.0   0.75    no          2         17           6     3   \n",
              "5  female  32.0   1.50    no          2         17           5     5   \n",
              "6  female  22.0   0.75    no          2         12           1     3   \n",
              "7    male  57.0  15.00   yes          2         14           4     4   \n",
              "8  female  32.0  15.00   yes          4         16           1     2   \n",
              "9    male  22.0   1.50    no          4         14           4     5   \n",
              "\n",
              "   nbaffairs  \n",
              "0          0  \n",
              "1          0  \n",
              "2          0  \n",
              "3          0  \n",
              "4          0  \n",
              "5          0  \n",
              "6          0  \n",
              "7          0  \n",
              "8          0  \n",
              "9          0  "
            ]
          },
          "metadata": {}
        }
      ],
      "execution_count": 16,
      "metadata": {
        "collapsed": false,
        "outputHidden": false,
        "inputHidden": false
      }
    },
    {
      "cell_type": "markdown",
      "source": [
        "# Import Scikit Learn:"
      ],
      "metadata": {}
    },
    {
      "cell_type": "code",
      "source": [
        "from sklearn.model_selection import train_test_split, RandomizedSearchCV, GridSearchCV\n",
        "from sklearn.metrics import classification_report\n",
        "from sklearn import tree\n",
        "\nfrom scipy.stats import randint"
      ],
      "outputs": [],
      "execution_count": 17,
      "metadata": {
        "collapsed": false,
        "outputHidden": false,
        "inputHidden": false
      }
    },
    {
      "cell_type": "markdown",
      "source": [
        "# Prepare dataset for learning:\n"
      ],
      "metadata": {}
    },
    {
      "cell_type": "code",
      "source": [
        "data = pd.read_csv(path_to_data)\n",
        "\n",
        "data['child'] = data['child'].map({'no': 0, 'yes': 1}).astype(int)\n",
        "data['sex']   = data['sex'].map({'male': 0, 'female': 1}).astype(int)\n",
        "\n",
        "y = data['nbaffairs'].values\n",
        "X = data.drop(['nbaffairs'], axis=1).values\n",
        "\ndata.head(10)"
      ],
      "outputs": [
        {
          "output_type": "execute_result",
          "execution_count": 18,
          "data": {
            "text/html": [
              "<div>\n",
              "<table border=\"1\" class=\"dataframe\">\n",
              "  <thead>\n",
              "    <tr style=\"text-align: right;\">\n",
              "      <th></th>\n",
              "      <th>sex</th>\n",
              "      <th>age</th>\n",
              "      <th>ym</th>\n",
              "      <th>child</th>\n",
              "      <th>religious</th>\n",
              "      <th>education</th>\n",
              "      <th>occupation</th>\n",
              "      <th>rate</th>\n",
              "      <th>nbaffairs</th>\n",
              "    </tr>\n",
              "  </thead>\n",
              "  <tbody>\n",
              "    <tr>\n",
              "      <th>0</th>\n",
              "      <td>0</td>\n",
              "      <td>37.0</td>\n",
              "      <td>10.00</td>\n",
              "      <td>0</td>\n",
              "      <td>3</td>\n",
              "      <td>18</td>\n",
              "      <td>7</td>\n",
              "      <td>4</td>\n",
              "      <td>0</td>\n",
              "    </tr>\n",
              "    <tr>\n",
              "      <th>1</th>\n",
              "      <td>1</td>\n",
              "      <td>27.0</td>\n",
              "      <td>4.00</td>\n",
              "      <td>0</td>\n",
              "      <td>4</td>\n",
              "      <td>14</td>\n",
              "      <td>6</td>\n",
              "      <td>4</td>\n",
              "      <td>0</td>\n",
              "    </tr>\n",
              "    <tr>\n",
              "      <th>2</th>\n",
              "      <td>1</td>\n",
              "      <td>32.0</td>\n",
              "      <td>15.00</td>\n",
              "      <td>1</td>\n",
              "      <td>1</td>\n",
              "      <td>12</td>\n",
              "      <td>1</td>\n",
              "      <td>4</td>\n",
              "      <td>0</td>\n",
              "    </tr>\n",
              "    <tr>\n",
              "      <th>3</th>\n",
              "      <td>0</td>\n",
              "      <td>57.0</td>\n",
              "      <td>15.00</td>\n",
              "      <td>1</td>\n",
              "      <td>5</td>\n",
              "      <td>18</td>\n",
              "      <td>6</td>\n",
              "      <td>5</td>\n",
              "      <td>0</td>\n",
              "    </tr>\n",
              "    <tr>\n",
              "      <th>4</th>\n",
              "      <td>0</td>\n",
              "      <td>22.0</td>\n",
              "      <td>0.75</td>\n",
              "      <td>0</td>\n",
              "      <td>2</td>\n",
              "      <td>17</td>\n",
              "      <td>6</td>\n",
              "      <td>3</td>\n",
              "      <td>0</td>\n",
              "    </tr>\n",
              "    <tr>\n",
              "      <th>5</th>\n",
              "      <td>1</td>\n",
              "      <td>32.0</td>\n",
              "      <td>1.50</td>\n",
              "      <td>0</td>\n",
              "      <td>2</td>\n",
              "      <td>17</td>\n",
              "      <td>5</td>\n",
              "      <td>5</td>\n",
              "      <td>0</td>\n",
              "    </tr>\n",
              "    <tr>\n",
              "      <th>6</th>\n",
              "      <td>1</td>\n",
              "      <td>22.0</td>\n",
              "      <td>0.75</td>\n",
              "      <td>0</td>\n",
              "      <td>2</td>\n",
              "      <td>12</td>\n",
              "      <td>1</td>\n",
              "      <td>3</td>\n",
              "      <td>0</td>\n",
              "    </tr>\n",
              "    <tr>\n",
              "      <th>7</th>\n",
              "      <td>0</td>\n",
              "      <td>57.0</td>\n",
              "      <td>15.00</td>\n",
              "      <td>1</td>\n",
              "      <td>2</td>\n",
              "      <td>14</td>\n",
              "      <td>4</td>\n",
              "      <td>4</td>\n",
              "      <td>0</td>\n",
              "    </tr>\n",
              "    <tr>\n",
              "      <th>8</th>\n",
              "      <td>1</td>\n",
              "      <td>32.0</td>\n",
              "      <td>15.00</td>\n",
              "      <td>1</td>\n",
              "      <td>4</td>\n",
              "      <td>16</td>\n",
              "      <td>1</td>\n",
              "      <td>2</td>\n",
              "      <td>0</td>\n",
              "    </tr>\n",
              "    <tr>\n",
              "      <th>9</th>\n",
              "      <td>0</td>\n",
              "      <td>22.0</td>\n",
              "      <td>1.50</td>\n",
              "      <td>0</td>\n",
              "      <td>4</td>\n",
              "      <td>14</td>\n",
              "      <td>4</td>\n",
              "      <td>5</td>\n",
              "      <td>0</td>\n",
              "    </tr>\n",
              "  </tbody>\n",
              "</table>\n",
              "</div>"
            ],
            "text/plain": [
              "   sex   age     ym  child  religious  education  occupation  rate  nbaffairs\n",
              "0    0  37.0  10.00      0          3         18           7     4          0\n",
              "1    1  27.0   4.00      0          4         14           6     4          0\n",
              "2    1  32.0  15.00      1          1         12           1     4          0\n",
              "3    0  57.0  15.00      1          5         18           6     5          0\n",
              "4    0  22.0   0.75      0          2         17           6     3          0\n",
              "5    1  32.0   1.50      0          2         17           5     5          0\n",
              "6    1  22.0   0.75      0          2         12           1     3          0\n",
              "7    0  57.0  15.00      1          2         14           4     4          0\n",
              "8    1  32.0  15.00      1          4         16           1     2          0\n",
              "9    0  22.0   1.50      0          4         14           4     5          0"
            ]
          },
          "metadata": {}
        }
      ],
      "execution_count": 18,
      "metadata": {
        "collapsed": false,
        "outputHidden": false,
        "inputHidden": false
      }
    },
    {
      "cell_type": "markdown",
      "source": [
        "# Split the data in train and test set:"
      ],
      "metadata": {}
    },
    {
      "cell_type": "code",
      "source": [
        "X_train, X_test, y_train, y_test = train_test_split(X, y, test_size=0.5, random_state=0)"
      ],
      "outputs": [],
      "execution_count": 19,
      "metadata": {
        "collapsed": false,
        "outputHidden": false,
        "inputHidden": false
      }
    },
    {
      "cell_type": "markdown",
      "source": [
        "# Hyper parameter tuning\n",
        "\nNow we will use the training data to find the best parameters using cross validation"
      ],
      "metadata": {}
    },
    {
      "cell_type": "markdown",
      "source": [
        "## Grid Search\n",
        "\nFirst we will try the grid search."
      ],
      "metadata": {}
    },
    {
      "cell_type": "code",
      "source": [
        "# Define the parameter space\n",
        "parameter_space = [{'max_depth': [1,2,3,4,5], 'max_features': range(1, 8)}]\n",
        "\n",
        "# Choose the classifier\n",
        "classifier = tree.DecisionTreeClassifier()\n",
        "\n",
        "# Select grid search with cross validation\n",
        "grid_search = GridSearchCV(classifier, parameter_space, cv=5)\n",
        "\ngrid_search.fit(X_train, y_train)"
      ],
      "outputs": [
        {
          "output_type": "execute_result",
          "execution_count": 20,
          "data": {
            "text/plain": [
              "GridSearchCV(cv=5, error_score='raise',\n",
              "       estimator=DecisionTreeClassifier(class_weight=None, criterion='gini', max_depth=None,\n",
              "            max_features=None, max_leaf_nodes=None,\n",
              "            min_impurity_split=1e-07, min_samples_leaf=1,\n",
              "            min_samples_split=2, min_weight_fraction_leaf=0.0,\n",
              "            presort=False, random_state=None, splitter='best'),\n",
              "       fit_params={}, iid=True, n_jobs=1,\n",
              "       param_grid=[{'max_features': range(1, 8), 'max_depth': [1, 2, 3, 4, 5]}],\n",
              "       pre_dispatch='2*n_jobs', refit=True, return_train_score=True,\n",
              "       scoring=None, verbose=0)"
            ]
          },
          "metadata": {}
        }
      ],
      "execution_count": 20,
      "metadata": {
        "collapsed": false,
        "outputHidden": false,
        "inputHidden": false
      }
    },
    {
      "cell_type": "code",
      "source": [
        "grid_search.best_params_"
      ],
      "outputs": [
        {
          "output_type": "execute_result",
          "execution_count": 21,
          "data": {
            "text/plain": [
              "{'max_depth': 3, 'max_features': 6}"
            ]
          },
          "metadata": {}
        }
      ],
      "execution_count": 21,
      "metadata": {
        "collapsed": false,
        "outputHidden": false,
        "inputHidden": false
      }
    },
    {
      "cell_type": "code",
      "source": [
        "grid_search.cv_results_['mean_test_score']"
      ],
      "outputs": [
        {
          "output_type": "execute_result",
          "execution_count": 22,
          "data": {
            "text/plain": [
              "array([ 0.75      ,  0.75      ,  0.75      ,  0.75      ,  0.75      ,\n",
              "        0.75      ,  0.75      ,  0.74333333,  0.75      ,  0.74333333,\n",
              "        0.75      ,  0.75      ,  0.74333333,  0.74      ,  0.73666667,\n",
              "        0.74      ,  0.73333333,  0.73666667,  0.75      ,  0.76666667,\n",
              "        0.74333333,  0.74666667,  0.74      ,  0.74666667,  0.74333333,\n",
              "        0.74333333,  0.73      ,  0.74666667,  0.72333333,  0.71666667,\n",
              "        0.72666667,  0.73333333,  0.71666667,  0.74      ,  0.73666667])"
            ]
          },
          "metadata": {}
        }
      ],
      "execution_count": 22,
      "metadata": {
        "collapsed": false,
        "outputHidden": false,
        "inputHidden": false
      }
    },
    {
      "cell_type": "code",
      "source": [
        "grid_search.best_score_\n"
      ],
      "outputs": [
        {
          "output_type": "execute_result",
          "execution_count": 23,
          "data": {
            "text/plain": [
              "0.76666666666666672"
            ]
          },
          "metadata": {}
        }
      ],
      "execution_count": 23,
      "metadata": {
        "collapsed": false,
        "outputHidden": false,
        "inputHidden": false
      }
    },
    {
      "cell_type": "markdown",
      "source": [
        "## Random Search\n",
        "\nNow we will repeat the same with the random search"
      ],
      "metadata": {}
    },
    {
      "cell_type": "code",
      "source": [
        "# Define the parameter space\n",
        "parameter_space_dist = {\"max_depth\": [1, 2, 3, 4, 5], \"max_features\": randint(1, 8)}\n",
        "             \n",
        "# Choose the classifier\n",
        "classifier = tree.DecisionTreeClassifier()\n",
        "\n",
        "# Select grid search with cross validation\n",
        "random_search = RandomizedSearchCV(classifier, parameter_space_dist, cv=5, n_iter=500)\n",
        "                                   \n",
        "random_search.fit(X_train, y_train)"
      ],
      "outputs": [
        {
          "output_type": "execute_result",
          "execution_count": 24,
          "data": {
            "text/plain": [
              "RandomizedSearchCV(cv=5, error_score='raise',\n",
              "          estimator=DecisionTreeClassifier(class_weight=None, criterion='gini', max_depth=None,\n",
              "            max_features=None, max_leaf_nodes=None,\n",
              "            min_impurity_split=1e-07, min_samples_leaf=1,\n",
              "            min_samples_split=2, min_weight_fraction_leaf=0.0,\n",
              "            presort=False, random_state=None, splitter='best'),\n",
              "          fit_params={}, iid=True, n_iter=500, n_jobs=1,\n",
              "          param_distributions={'max_features': <scipy.stats._distn_infrastructure.rv_frozen object at 0x000000000C935AC8>, 'max_depth': [1, 2, 3, 4, 5]},\n",
              "          pre_dispatch='2*n_jobs', random_state=None, refit=True,\n",
              "          return_train_score=True, scoring=None, verbose=0)"
            ]
          },
          "metadata": {}
        }
      ],
      "execution_count": 24,
      "metadata": {
        "collapsed": false,
        "outputHidden": false,
        "inputHidden": false
      }
    },
    {
      "cell_type": "code",
      "source": [
        "random_search.best_params_"
      ],
      "outputs": [
        {
          "output_type": "execute_result",
          "execution_count": 25,
          "data": {
            "text/plain": [
              "{'max_depth': 4, 'max_features': 2}"
            ]
          },
          "metadata": {}
        }
      ],
      "execution_count": 25,
      "metadata": {
        "collapsed": false,
        "outputHidden": false,
        "inputHidden": false
      }
    },
    {
      "cell_type": "code",
      "source": [
        "random_search.best_score_"
      ],
      "outputs": [
        {
          "output_type": "execute_result",
          "execution_count": 26,
          "data": {
            "text/plain": [
              "0.75666666666666671"
            ]
          },
          "metadata": {}
        }
      ],
      "execution_count": 26,
      "metadata": {
        "collapsed": false,
        "outputHidden": false,
        "inputHidden": false
      }
    },
    {
      "cell_type": "markdown",
      "source": [
        "\n",
        "# Training the classifier\n",
        "\nInstantiate the classifier with the parameters found during the grid search"
      ],
      "metadata": {}
    },
    {
      "cell_type": "code",
      "source": [
        "classifier = tree.DecisionTreeClassifier(max_depth=4)\n",
        "classifier.fit(X_train, y_train)"
      ],
      "outputs": [
        {
          "output_type": "execute_result",
          "execution_count": 41,
          "data": {
            "text/plain": [
              "DecisionTreeClassifier(class_weight=None, criterion='gini', max_depth=4,\n",
              "            max_features=None, max_leaf_nodes=None,\n",
              "            min_impurity_split=1e-07, min_samples_leaf=1,\n",
              "            min_samples_split=2, min_weight_fraction_leaf=0.0,\n",
              "            presort=False, random_state=None, splitter='best')"
            ]
          },
          "metadata": {}
        }
      ],
      "execution_count": 41,
      "metadata": {
        "collapsed": false,
        "outputHidden": false,
        "inputHidden": false
      }
    },
    {
      "cell_type": "code",
      "source": [
        "classifier.score(X_test, y_test)"
      ],
      "outputs": [
        {
          "output_type": "execute_result",
          "execution_count": 42,
          "data": {
            "text/plain": [
              "0.7441860465116279"
            ]
          },
          "metadata": {}
        }
      ],
      "execution_count": 42,
      "metadata": {
        "collapsed": false,
        "outputHidden": false,
        "inputHidden": false
      }
    },
    {
      "cell_type": "code",
      "source": [
        "tree.export_graphviz(classifier, feature_names=data.columns.values.tolist(), filled=True, out_file=r'E:\\Universidade\\Projects\\DSSA\\learning-units\\units\\16-tuning-hyper-parameters\\tree.dot')"
      ],
      "outputs": [],
      "execution_count": 46,
      "metadata": {
        "collapsed": false,
        "outputHidden": false,
        "inputHidden": false
      }
    },
    {
      "cell_type": "code",
      "source": [
        "classifier.get_params()"
      ],
      "outputs": [
        {
          "output_type": "execute_result",
          "execution_count": 48,
          "data": {
            "text/plain": [
              "{'class_weight': None,\n",
              " 'criterion': 'gini',\n",
              " 'max_depth': 4,\n",
              " 'max_features': None,\n",
              " 'max_leaf_nodes': None,\n",
              " 'min_impurity_split': 1e-07,\n",
              " 'min_samples_leaf': 1,\n",
              " 'min_samples_split': 2,\n",
              " 'min_weight_fraction_leaf': 0.0,\n",
              " 'presort': False,\n",
              " 'random_state': None,\n",
              " 'splitter': 'best'}"
            ]
          },
          "metadata": {}
        }
      ],
      "execution_count": 48,
      "metadata": {
        "collapsed": false,
        "outputHidden": false,
        "inputHidden": false
      }
    },
    {
      "cell_type": "code",
      "source": [],
      "outputs": [],
      "execution_count": null,
      "metadata": {
        "collapsed": false,
        "outputHidden": false,
        "inputHidden": false
      }
    }
  ],
  "metadata": {
    "kernelspec": {
      "name": "python3",
      "language": "python",
      "display_name": "Python 3"
    },
    "kernel_info": {
      "name": "python3"
    },
    "language_info": {
      "name": "python",
      "version": "3.4.5",
      "mimetype": "text/x-python",
      "pygments_lexer": "ipython3",
      "nbconvert_exporter": "python",
      "file_extension": ".py",
      "codemirror_mode": {
        "name": "ipython",
        "version": 3
      }
    }
  },
  "nbformat": 4,
  "nbformat_minor": 4
}