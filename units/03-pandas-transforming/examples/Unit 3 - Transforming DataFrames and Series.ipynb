{
 "cells": [
  {
   "cell_type": "markdown",
   "metadata": {
    "slideshow": {
     "slide_type": "-"
    }
   },
   "source": [
    "## Unit 3 - Transforming DataFrames and Series"
   ]
  },
  {
   "cell_type": "code",
   "execution_count": null,
   "metadata": {
    "collapsed": true
   },
   "outputs": [],
   "source": [
    "import pandas as pd"
   ]
  },
  {
   "cell_type": "code",
   "execution_count": null,
   "metadata": {
    "collapsed": true
   },
   "outputs": [],
   "source": [
    "def make_data(n_rows=None):\n",
    "    columns = ['room_id', 'host_id', 'room_type', 'neighborhood', 'reviews', 'overall_satisfaction',\n",
    "               'accommodates', 'bedrooms', 'price']\n",
    "    df = pd.read_csv('../data/airbnb_input.csv', usecols=columns, index_col='room_id').sort_index()\n",
    "    if n_rows:\n",
    "        df = df.head(n_rows)\n",
    "    \n",
    "    return df\n",
    "\n",
    "\n",
    "def make_location_data():\n",
    "    columns = ['room_id', 'latitude', 'longitude']\n",
    "    df = pd.read_csv('../data/airbnb_input.csv', usecols=columns, index_col='room_id').sort_index()\n",
    "    return df\n",
    "\n",
    "df = make_data(5)"
   ]
  },
  {
   "cell_type": "markdown",
   "metadata": {},
   "source": [
    "df is the same DataFrame that we used in Unit 2. You can get it by calling function make_data."
   ]
  },
  {
   "cell_type": "markdown",
   "metadata": {
    "collapsed": true,
    "slideshow": {
     "slide_type": "-"
    }
   },
   "source": [
    "### Dropping rows and columns"
   ]
  },
  {
   "cell_type": "markdown",
   "metadata": {},
   "source": [
    "In order to drop rows and columns from a DataFrame, you can use funtion [drop](https://pandas.pydata.org/pandas-docs/stable/generated/pandas.DataFrame.drop.html).\n",
    "\n",
    "Drop has two important arguments:\n",
    "* inplace: with this argument, you can chose if you want to transform the original DataFrame or if you want the drop function to return a copy of the transformed DataFrame. It's default value is False, i.e, you don't apply the transformation in the original DataFrame. You'll see this argument in many functions that transform DataFrames.\n",
    "* axis: with this argument, you chose if you want to drop rows (axis=0) or if you want to drop columns (axis=1). The default behaviour is to drop rows. You'll se this argument in many functions that transform DataFrames."
   ]
  },
  {
   "cell_type": "markdown",
   "metadata": {},
   "source": [
    "Examples...\n",
    "\n",
    "Dropping row with index 6499 and checking that the original DataFrame df didn't change:"
   ]
  },
  {
   "cell_type": "code",
   "execution_count": null,
   "metadata": {},
   "outputs": [],
   "source": [
    "df1 = df.drop(6499)\n",
    "print(6499 in df.index)\n",
    "df1"
   ]
  },
  {
   "cell_type": "markdown",
   "metadata": {},
   "source": [
    "While with inplace=True, we do change the original DataFrame:"
   ]
  },
  {
   "cell_type": "code",
   "execution_count": null,
   "metadata": {},
   "outputs": [],
   "source": [
    "df.drop(6499, inplace=True)\n",
    "print(6499 in df.index)\n",
    "df"
   ]
  },
  {
   "cell_type": "markdown",
   "metadata": {},
   "source": [
    "Now, go ahead and try to drop a list of rows!"
   ]
  },
  {
   "cell_type": "code",
   "execution_count": null,
   "metadata": {
    "collapsed": true
   },
   "outputs": [],
   "source": [
    "# code to drop a list of rows"
   ]
  },
  {
   "cell_type": "markdown",
   "metadata": {},
   "source": [
    "In order to drop columns, we use the axis=1 argument:"
   ]
  },
  {
   "cell_type": "code",
   "execution_count": null,
   "metadata": {
    "scrolled": true
   },
   "outputs": [],
   "source": [
    "df = df.drop(['reviews', 'price'], axis=1)\n",
    "df"
   ]
  },
  {
   "cell_type": "markdown",
   "metadata": {},
   "source": [
    "### Copying DataFrames"
   ]
  },
  {
   "cell_type": "markdown",
   "metadata": {},
   "source": [
    "Sometimes it's useful to keep an unchanged version of your DataFrame.\n",
    "\n",
    "When doing that, be sure not to fall on this mistake:"
   ]
  },
  {
   "cell_type": "code",
   "execution_count": null,
   "metadata": {},
   "outputs": [],
   "source": [
    "df = make_data(n_rows=5)\n",
    "new_df = df # new_df is just another way to refer to the same DataFrame as df\n",
    "df.drop(['room_type', 'neighborhood', 'reviews'], axis=1, inplace=True)\n",
    "new_df"
   ]
  },
  {
   "cell_type": "markdown",
   "metadata": {},
   "source": [
    "In this example, we are just declaring a new way to refer to the original DataFrame.\n",
    "So, both the transformations that you apply on df and on new_df will impact the __same__ DataFrame.\n",
    "\n",
    "If you want to make a copy of a DataFrame, you should use the function [copy](https://pandas.pydata.org/pandas-docs/stable/generated/pandas.DataFrame.copy.html):"
   ]
  },
  {
   "cell_type": "code",
   "execution_count": null,
   "metadata": {},
   "outputs": [],
   "source": [
    "df = make_data(n_rows=5)\n",
    "new_df = df.copy() # new_df now refers to a copy of df, we actually have two DataFrames\n",
    "df.drop(['room_type', 'neighborhood', 'reviews'], axis=1, inplace=True)\n",
    "new_df"
   ]
  },
  {
   "cell_type": "markdown",
   "metadata": {},
   "source": [
    "### Basic math operations"
   ]
  },
  {
   "cell_type": "markdown",
   "metadata": {},
   "source": [
    "Now, we'll see examples on how to apply arithmetic operations ([add](https://pandas.pydata.org/pandas-docs/stable/generated/pandas.DataFrame.add.html), [subtract](https://pandas.pydata.org/pandas-docs/stable/generated/pandas.DataFrame.subtract.html), [multiply](https://pandas.pydata.org/pandas-docs/stable/generated/pandas.DataFrame.multiply.html), [divide](https://pandas.pydata.org/pandas-docs/stable/generated/pandas.DataFrame.divide.html)) between:\n",
    "* a constant and a DataFrame column \n",
    "* two DataFrame columns"
   ]
  },
  {
   "cell_type": "markdown",
   "metadata": {},
   "source": [
    "__Multiplying a DataFrame column by a constant__\n",
    "\n",
    "Getting the rooms' price per week (7 nights):"
   ]
  },
  {
   "cell_type": "code",
   "execution_count": null,
   "metadata": {},
   "outputs": [],
   "source": [
    "df = make_data(5)\n",
    "df['price_per_week'] = df.price.multiply(7) # or df['price_per_week'] = df.price * 7\n",
    "df.head()"
   ]
  },
  {
   "cell_type": "markdown",
   "metadata": {},
   "source": [
    "__Dividing a DataFrame column by another column__\n",
    "\n",
    "Getting the people per bedroom ratio:"
   ]
  },
  {
   "cell_type": "code",
   "execution_count": null,
   "metadata": {},
   "outputs": [],
   "source": [
    "df = make_data(5)\n",
    "df['people_per_bedroom'] = df.accommodates.divide(df.bedrooms)\n",
    "# or df['people_per_bedroom'] = df.accommodates / df.bedrooms\n",
    "df.head()"
   ]
  },
  {
   "cell_type": "markdown",
   "metadata": {},
   "source": [
    "### String operations"
   ]
  },
  {
   "cell_type": "markdown",
   "metadata": {},
   "source": [
    "In Pandas Series and Indexes have a set of string processing methods that can be accessed through the str attribute.\n",
    "\n",
    "For instance, if we want to make neighborhood names more machine friendly, we can make the neighborhood names all lower case and replace spaces with underscores:"
   ]
  },
  {
   "cell_type": "code",
   "execution_count": null,
   "metadata": {},
   "outputs": [],
   "source": [
    "df.neighborhood = df.neighborhood.str.replace(' ', '_').str.lower()\n",
    "df.head()"
   ]
  },
  {
   "cell_type": "markdown",
   "metadata": {},
   "source": [
    "We can also want to remove some pattern from the strings in a certain column:"
   ]
  },
  {
   "cell_type": "code",
   "execution_count": null,
   "metadata": {},
   "outputs": [],
   "source": [
    "df.room_type = df.room_type.str.strip('/apt')\n",
    "df.head()"
   ]
  },
  {
   "cell_type": "markdown",
   "metadata": {},
   "source": [
    "To give an example using the str attribute on Indexes, we'll convert the room_id index into a string and then append it the host_id separated by an underscore:"
   ]
  },
  {
   "cell_type": "code",
   "execution_count": null,
   "metadata": {},
   "outputs": [],
   "source": [
    "df = make_data(5)\n",
    "df = df.reset_index()\n",
    "df.room_id = df.room_id.astype(str)\n",
    "df = df.set_index('room_id')\n",
    "df.index = df.index.str.cat(df.host_id.astype(str), sep='_')\n",
    "df"
   ]
  },
  {
   "cell_type": "markdown",
   "metadata": {},
   "source": [
    "### Group by"
   ]
  },
  {
   "cell_type": "markdown",
   "metadata": {},
   "source": [
    "In Pandas, group by refers two a process of three chained steps: [split-apply-combine](https://pandas.pydata.org/pandas-docs/stable/groupby.html).\n",
    "* split: splitting the DataFrame into groups\n",
    "* apply: apply a function to each group (aggregation, transformation and filtration)\n",
    "* combine: create a DataFrame with the results\n",
    "\n",
    "For instance, if we want to know how many rooms does each landlord have:"
   ]
  },
  {
   "cell_type": "code",
   "execution_count": null,
   "metadata": {},
   "outputs": [],
   "source": [
    "df.groupby('host_id')"
   ]
  },
  {
   "cell_type": "code",
   "execution_count": null,
   "metadata": {},
   "outputs": [],
   "source": [
    "df = make_data()\n",
    "# reset df index so that we have the room_id as a column\n",
    "df = df.reset_index()\n",
    "# only selecting columns room_id and host_id from the DataFrame\n",
    "df = df[['room_id', 'host_id']]\n",
    "# groupby() returns a DataFrameGroupBy object and count()\n",
    "# is the aggregate function that counts room_ids in each group\n",
    "df = df.groupby('host_id').count()\n",
    "# now we don't have room_id anymore, we have room counts instead\n",
    "# so the column name should be changed\n",
    "df = df.rename(columns={'room_id': 'room_counts'})\n",
    "df.head()"
   ]
  },
  {
   "cell_type": "markdown",
   "metadata": {},
   "source": [
    "By default, the columns on which we perform the group by, become indexes.\n",
    "If we don't want this behaviour, we can use the argument as_index=False."
   ]
  },
  {
   "cell_type": "code",
   "execution_count": null,
   "metadata": {},
   "outputs": [],
   "source": [
    "df = make_data()\n",
    "df = df.reset_index()\n",
    "df = df[['room_id', 'host_id']]\n",
    "df = df.groupby('host_id', as_index=False).count()\n",
    "df = df.rename(columns={'room_id': 'room_counts'})\n",
    "df.head(10).tail(5)"
   ]
  },
  {
   "cell_type": "markdown",
   "metadata": {},
   "source": [
    "We can use group by to learn the average price per room type, for each landlord."
   ]
  },
  {
   "cell_type": "code",
   "execution_count": null,
   "metadata": {},
   "outputs": [],
   "source": [
    "df = make_data()\n",
    "df = df[['host_id', 'room_type', 'price']]\n",
    "df = df.groupby(['host_id', 'room_type']).mean()\n",
    "df.head(10).tail(5)"
   ]
  },
  {
   "cell_type": "markdown",
   "metadata": {},
   "source": [
    "Now a small challenge!\n",
    "Check the [split-apply-combine](https://pandas.pydata.org/pandas-docs/stable/groupby.html) documentation and try to find examples, with our dataset, for:\n",
    "* a group by with a transformation on the apply step\n",
    "* a group by with a filtration on the apply step"
   ]
  },
  {
   "cell_type": "code",
   "execution_count": null,
   "metadata": {
    "collapsed": true
   },
   "outputs": [],
   "source": [
    "# write the code for the challenge here"
   ]
  },
  {
   "cell_type": "markdown",
   "metadata": {},
   "source": [
    "### Bonus content - Merge and concatenate DataFrames"
   ]
  },
  {
   "cell_type": "markdown",
   "metadata": {},
   "source": [
    "If you have the time, after the practical exercises, explore the [merge](https://pandas.pydata.org/pandas-docs/stable/generated/pandas.DataFrame.merge.html) and [concat](https://pandas.pydata.org/pandas-docs/stable/generated/pandas.concat.html) functions.\n",
    "\n",
    "In particular, try to solve these exercises:\n",
    "* Use function make_location_data to get the locations for each room.\n",
    "* Merge df with the locations DataFrame so that you have two new columns (latitude and longitude) on df.\n",
    "* Obtain the same result as the last question by using the concat function instead"
   ]
  }
 ],
 "metadata": {
  "kernelspec": {
   "display_name": "Python 3",
   "language": "python",
   "name": "python3"
  },
  "language_info": {
   "codemirror_mode": {
    "name": "ipython",
    "version": 3
   },
   "file_extension": ".py",
   "mimetype": "text/x-python",
   "name": "python",
   "nbconvert_exporter": "python",
   "pygments_lexer": "ipython3",
   "version": "3.6.0"
  }
 },
 "nbformat": 4,
 "nbformat_minor": 2
}
