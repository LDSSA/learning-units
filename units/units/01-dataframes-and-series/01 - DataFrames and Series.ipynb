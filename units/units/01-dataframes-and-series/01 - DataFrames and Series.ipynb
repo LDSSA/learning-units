{
 "cells": [
  {
   "cell_type": "markdown",
   "metadata": {},
   "source": [
    "# DataFrames and Series\n",
    "\n",
    "### Enter Pandas! \n",
    "#### Pandas is a  Python library has fast become the standard for data manipulation. It unifies the most common data science workflows, allowing us to easily work with tabular data (data represented as rows and columns). \n",
    "#### In Pandas, this data structure is called a DataFrame, and each column of the DataFrame is a Series.\n",
    "\n",
    "#### Let's take a look!\n",
    "\n",
    "(Pandas allows us to store mixed data types, and handle missing values as a custom object, NaN (Not a Number).)"
   ]
  },
  {
   "cell_type": "markdown",
   "metadata": {},
   "source": [
    "#### First, we will import Pandas. As a convention, it is imported as \"pd\"."
   ]
  },
  {
   "cell_type": "code",
   "execution_count": 7,
   "metadata": {
    "collapsed": true
   },
   "outputs": [],
   "source": [
    "import pandas as pd"
   ]
  },
  {
   "cell_type": "markdown",
   "metadata": {},
   "source": [
    "#### We can read text files as DataFrames! The most common type of file representing tabular data you'll see is \".csv\". This stands for \"Comma Separated Values\".\n",
    "#### Lucky for us, Pandas does all the heavy lifting, turning these files into elegant DataFrames. For this, we'll use `read_csv()`."
   ]
  },
  {
   "cell_type": "code",
   "execution_count": 8,
   "metadata": {
    "collapsed": true
   },
   "outputs": [],
   "source": [
    "df = pd.read_csv('data/loans.csv')"
   ]
  },
  {
   "cell_type": "markdown",
   "metadata": {},
   "source": [
    "#### Now, how we take a look at this dataset?\n",
    "#### The DataFrame object has a bunch of useful methods, and the one we'll be using now is the `.head()` method. It stands for \"header\", showing us the first five rows of the DataFrame."
   ]
  },
  {
   "cell_type": "code",
   "execution_count": 9,
   "metadata": {
    "collapsed": false
   },
   "outputs": [
    {
     "data": {
      "text/html": [
       "<div>\n",
       "<style>\n",
       "    .dataframe thead tr:only-child th {\n",
       "        text-align: right;\n",
       "    }\n",
       "\n",
       "    .dataframe thead th {\n",
       "        text-align: left;\n",
       "    }\n",
       "\n",
       "    .dataframe tbody tr th {\n",
       "        vertical-align: top;\n",
       "    }\n",
       "</style>\n",
       "<table border=\"1\" class=\"dataframe\">\n",
       "  <thead>\n",
       "    <tr style=\"text-align: right;\">\n",
       "      <th></th>\n",
       "      <th>loan_amnt</th>\n",
       "      <th>term</th>\n",
       "      <th>int_rate</th>\n",
       "      <th>installment</th>\n",
       "      <th>emp_title</th>\n",
       "      <th>emp_length</th>\n",
       "      <th>home_ownership</th>\n",
       "      <th>annual_inc</th>\n",
       "      <th>loan_status</th>\n",
       "      <th>purpose</th>\n",
       "      <th>title</th>\n",
       "      <th>dti</th>\n",
       "      <th>delinq_2yrs</th>\n",
       "      <th>date</th>\n",
       "      <th>Reference number</th>\n",
       "    </tr>\n",
       "  </thead>\n",
       "  <tbody>\n",
       "    <tr>\n",
       "      <th>0</th>\n",
       "      <td>26125.0</td>\n",
       "      <td>36 months</td>\n",
       "      <td>14.49%</td>\n",
       "      <td>899.13</td>\n",
       "      <td>Medical Supply Technician</td>\n",
       "      <td>10+ years</td>\n",
       "      <td>RENT</td>\n",
       "      <td>57000.0</td>\n",
       "      <td>Fully Paid</td>\n",
       "      <td>debt_consolidation</td>\n",
       "      <td>Debt consolidation</td>\n",
       "      <td>32.27</td>\n",
       "      <td>0.0</td>\n",
       "      <td>01/08/2014</td>\n",
       "      <td>98612494</td>\n",
       "    </tr>\n",
       "    <tr>\n",
       "      <th>1</th>\n",
       "      <td>5000.0</td>\n",
       "      <td>36 months</td>\n",
       "      <td>7.90%</td>\n",
       "      <td>156.46</td>\n",
       "      <td>STAFF WRITER</td>\n",
       "      <td>4 years</td>\n",
       "      <td>RENT</td>\n",
       "      <td>35000.0</td>\n",
       "      <td>Fully Paid</td>\n",
       "      <td>credit_card</td>\n",
       "      <td>Credit card refinancing</td>\n",
       "      <td>15.56</td>\n",
       "      <td>0.0</td>\n",
       "      <td>01/01/2014</td>\n",
       "      <td>84238224</td>\n",
       "    </tr>\n",
       "    <tr>\n",
       "      <th>2</th>\n",
       "      <td>8250.0</td>\n",
       "      <td>36 months</td>\n",
       "      <td>9.67%</td>\n",
       "      <td>264.93</td>\n",
       "      <td>Project manager</td>\n",
       "      <td>&lt; 1 year</td>\n",
       "      <td>MORTGAGE</td>\n",
       "      <td>92000.0</td>\n",
       "      <td>Fully Paid</td>\n",
       "      <td>debt_consolidation</td>\n",
       "      <td>Debt consolidation</td>\n",
       "      <td>12.27</td>\n",
       "      <td>0.0</td>\n",
       "      <td>01/04/2014</td>\n",
       "      <td>42731556</td>\n",
       "    </tr>\n",
       "    <tr>\n",
       "      <th>3</th>\n",
       "      <td>16000.0</td>\n",
       "      <td>60 months</td>\n",
       "      <td>13.33%</td>\n",
       "      <td>366.76</td>\n",
       "      <td>National Director of Franchise Growth</td>\n",
       "      <td>2 years</td>\n",
       "      <td>MORTGAGE</td>\n",
       "      <td>104000.0</td>\n",
       "      <td>Fully Paid</td>\n",
       "      <td>home_improvement</td>\n",
       "      <td>Home improvement</td>\n",
       "      <td>16.78</td>\n",
       "      <td>0.0</td>\n",
       "      <td>01/08/2015</td>\n",
       "      <td>46024870</td>\n",
       "    </tr>\n",
       "    <tr>\n",
       "      <th>4</th>\n",
       "      <td>15000.0</td>\n",
       "      <td>36 months</td>\n",
       "      <td>15.61%</td>\n",
       "      <td>524.48</td>\n",
       "      <td>Manager of Training Programs</td>\n",
       "      <td>8 years</td>\n",
       "      <td>MORTGAGE</td>\n",
       "      <td>80000.0</td>\n",
       "      <td>Fully Paid</td>\n",
       "      <td>debt_consolidation</td>\n",
       "      <td>Debt consolidation</td>\n",
       "      <td>11.81</td>\n",
       "      <td>0.0</td>\n",
       "      <td>01/08/2014</td>\n",
       "      <td>93257050</td>\n",
       "    </tr>\n",
       "  </tbody>\n",
       "</table>\n",
       "</div>"
      ],
      "text/plain": [
       "   loan_amnt        term int_rate  installment  \\\n",
       "0    26125.0   36 months   14.49%       899.13   \n",
       "1     5000.0   36 months    7.90%       156.46   \n",
       "2     8250.0   36 months    9.67%       264.93   \n",
       "3    16000.0   60 months   13.33%       366.76   \n",
       "4    15000.0   36 months   15.61%       524.48   \n",
       "\n",
       "                               emp_title emp_length home_ownership  \\\n",
       "0              Medical Supply Technician  10+ years           RENT   \n",
       "1                           STAFF WRITER    4 years           RENT   \n",
       "2                        Project manager   < 1 year       MORTGAGE   \n",
       "3  National Director of Franchise Growth    2 years       MORTGAGE   \n",
       "4           Manager of Training Programs    8 years       MORTGAGE   \n",
       "\n",
       "   annual_inc loan_status             purpose                    title    dti  \\\n",
       "0     57000.0  Fully Paid  debt_consolidation       Debt consolidation  32.27   \n",
       "1     35000.0  Fully Paid         credit_card  Credit card refinancing  15.56   \n",
       "2     92000.0  Fully Paid  debt_consolidation       Debt consolidation  12.27   \n",
       "3    104000.0  Fully Paid    home_improvement         Home improvement  16.78   \n",
       "4     80000.0  Fully Paid  debt_consolidation       Debt consolidation  11.81   \n",
       "\n",
       "   delinq_2yrs        date  Reference number  \n",
       "0          0.0  01/08/2014          98612494  \n",
       "1          0.0  01/01/2014          84238224  \n",
       "2          0.0  01/04/2014          42731556  \n",
       "3          0.0  01/08/2015          46024870  \n",
       "4          0.0  01/08/2014          93257050  "
      ]
     },
     "execution_count": 9,
     "metadata": {},
     "output_type": "execute_result"
    }
   ],
   "source": [
    "df.head()"
   ]
  },
  {
   "cell_type": "code",
   "execution_count": null,
   "metadata": {
    "collapsed": true
   },
   "outputs": [],
   "source": []
  }
 ],
 "metadata": {
  "kernelspec": {
   "display_name": "Python 3",
   "language": "python",
   "name": "python3"
  },
  "language_info": {
   "codemirror_mode": {
    "name": "ipython",
    "version": 3
   },
   "file_extension": ".py",
   "mimetype": "text/x-python",
   "name": "python",
   "nbconvert_exporter": "python",
   "pygments_lexer": "ipython3",
   "version": "3.6.0"
  }
 },
 "nbformat": 4,
 "nbformat_minor": 2
}
